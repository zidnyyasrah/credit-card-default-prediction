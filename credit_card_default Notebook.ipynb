{
 "cells": [
  {
   "cell_type": "markdown",
   "metadata": {},
   "source": [
    "# 1. Perkenalan"
   ]
  },
  {
   "cell_type": "markdown",
   "metadata": {},
   "source": [
    "Halo!\n",
    "\n",
    "Pada kesempatan kali ini saya akan membuat model classification untuk memprediksi status default pada kartu kredit, dataset yang digunakan adalah `credit_card_default` dari bigquery public data. Dataset berisi informasi tentang usia, gender, tingkat pendidikan dan juga informasi mengenai kartu kredit seperti limit, billing, jumlah pembayaran dan status default dari bulan april sampai september 2005."
   ]
  },
  {
   "cell_type": "markdown",
   "metadata": {},
   "source": [
    "# 2. Query SQL"
   ]
  },
  {
   "cell_type": "markdown",
   "metadata": {},
   "source": [
    "Berikut query yang saya gunakan dengan mengambil beberapa kolom saja dari dataset `credit_card_default`, dan mengubah beberapa tipe data yaitu pada kolom `sex`, `education_level`, `marital_status`, dan `default_payment_next_month` diubah menjadi integer sedangkan pada kolom `pay_5` dan `pay_6` diubah menjadi float. Serta melimit datanya sesuai dengan nomor batch saya dikalikan dengan tahun lahir. Didapat nilai `(20) * (2001) = 40020`"
   ]
  },
  {
   "cell_type": "markdown",
   "metadata": {},
   "source": [
    "```\n",
    "SELECT \n",
    "limit_balance, \n",
    "CAST (sex AS INT64) as sex, \n",
    "CAST (education_level AS INT64) as education_level,\n",
    "CAST (marital_status AS INT64) as marital_status,\n",
    "age, pay_0, pay_2, pay_3, pay_4, \n",
    "CAST (pay_5 AS FLOAT64) as pay_5, \n",
    "CAST (pay_6 AS FLOAT64) as pay_6, \n",
    "bill_amt_1, bill_amt_2, bill_amt_3, \n",
    "bill_amt_4, bill_amt_5, bill_amt_6, pay_amt_1, pay_amt_2, pay_amt_3, \n",
    "pay_amt_4, pay_amt_5, pay_amt_6, \n",
    "CAST (default_payment_next_month AS INT64) as default_payment_next_month\n",
    "FROM\n",
    "`bigquery-public-data.ml_datasets.credit_card_default`\n",
    "LIMIT 40020\n",
    "```"
   ]
  },
  {
   "cell_type": "markdown",
   "metadata": {},
   "source": [
    "# 3. Import Libraries"
   ]
  },
  {
   "cell_type": "code",
   "execution_count": 1,
   "metadata": {},
   "outputs": [],
   "source": [
    "import pandas as pd\n",
    "import numpy as np\n",
    "import matplotlib.pyplot as plt\n",
    "import seaborn as sns\n",
    "\n",
    "# Feature Engineering\n",
    "from sklearn.model_selection import train_test_split\n",
    "from sklearn.preprocessing import RobustScaler, OneHotEncoder\n",
    "from sklearn.compose import ColumnTransformer\n",
    "from sklearn.pipeline import Pipeline\n",
    "\n",
    "# Model\n",
    "from sklearn.linear_model import LogisticRegression\n",
    "from sklearn.svm import SVC\n",
    "from sklearn.tree import DecisionTreeClassifier\n",
    "from sklearn.ensemble import RandomForestClassifier, GradientBoostingClassifier\n",
    "from sklearn.neighbors import KNeighborsClassifier\n",
    "from sklearn.naive_bayes import GaussianNB \n",
    "\n",
    "# Evaluation\n",
    "from sklearn.model_selection import KFold, cross_val_score, RandomizedSearchCV\n",
    "from sklearn.metrics import classification_report, f1_score, ConfusionMatrixDisplay, roc_auc_score, roc_curve\n",
    "\n",
    "# Model Saving\n",
    "import joblib"
   ]
  },
  {
   "cell_type": "markdown",
   "metadata": {},
   "source": [
    "# 4. Data Loading"
   ]
  },
  {
   "cell_type": "code",
   "execution_count": 2,
   "metadata": {},
   "outputs": [],
   "source": [
    "# Meload dan menyimpan data file csv kedalam dataframe\n",
    "data = pd.read_csv('credit_card_default.csv')"
   ]
  },
  {
   "cell_type": "code",
   "execution_count": 3,
   "metadata": {},
   "outputs": [
    {
     "data": {
      "text/html": [
       "<div>\n",
       "<style scoped>\n",
       "    .dataframe tbody tr th:only-of-type {\n",
       "        vertical-align: middle;\n",
       "    }\n",
       "\n",
       "    .dataframe tbody tr th {\n",
       "        vertical-align: top;\n",
       "    }\n",
       "\n",
       "    .dataframe thead th {\n",
       "        text-align: right;\n",
       "    }\n",
       "</style>\n",
       "<table border=\"1\" class=\"dataframe\">\n",
       "  <thead>\n",
       "    <tr style=\"text-align: right;\">\n",
       "      <th></th>\n",
       "      <th>limit_balance</th>\n",
       "      <th>sex</th>\n",
       "      <th>education_level</th>\n",
       "      <th>marital_status</th>\n",
       "      <th>age</th>\n",
       "      <th>pay_0</th>\n",
       "      <th>pay_2</th>\n",
       "      <th>pay_3</th>\n",
       "      <th>pay_4</th>\n",
       "      <th>pay_5</th>\n",
       "      <th>...</th>\n",
       "      <th>bill_amt_4</th>\n",
       "      <th>bill_amt_5</th>\n",
       "      <th>bill_amt_6</th>\n",
       "      <th>pay_amt_1</th>\n",
       "      <th>pay_amt_2</th>\n",
       "      <th>pay_amt_3</th>\n",
       "      <th>pay_amt_4</th>\n",
       "      <th>pay_amt_5</th>\n",
       "      <th>pay_amt_6</th>\n",
       "      <th>default_payment_next_month</th>\n",
       "    </tr>\n",
       "  </thead>\n",
       "  <tbody>\n",
       "    <tr>\n",
       "      <th>0</th>\n",
       "      <td>80000</td>\n",
       "      <td>1</td>\n",
       "      <td>6</td>\n",
       "      <td>1</td>\n",
       "      <td>54</td>\n",
       "      <td>0</td>\n",
       "      <td>0</td>\n",
       "      <td>0</td>\n",
       "      <td>0</td>\n",
       "      <td>0</td>\n",
       "      <td>...</td>\n",
       "      <td>29296</td>\n",
       "      <td>26210</td>\n",
       "      <td>17643</td>\n",
       "      <td>2545</td>\n",
       "      <td>2208</td>\n",
       "      <td>1336</td>\n",
       "      <td>2232</td>\n",
       "      <td>542</td>\n",
       "      <td>348</td>\n",
       "      <td>1</td>\n",
       "    </tr>\n",
       "    <tr>\n",
       "      <th>1</th>\n",
       "      <td>200000</td>\n",
       "      <td>1</td>\n",
       "      <td>4</td>\n",
       "      <td>1</td>\n",
       "      <td>49</td>\n",
       "      <td>0</td>\n",
       "      <td>0</td>\n",
       "      <td>0</td>\n",
       "      <td>0</td>\n",
       "      <td>0</td>\n",
       "      <td>...</td>\n",
       "      <td>50146</td>\n",
       "      <td>50235</td>\n",
       "      <td>48984</td>\n",
       "      <td>1689</td>\n",
       "      <td>2164</td>\n",
       "      <td>2500</td>\n",
       "      <td>3480</td>\n",
       "      <td>2500</td>\n",
       "      <td>3000</td>\n",
       "      <td>0</td>\n",
       "    </tr>\n",
       "    <tr>\n",
       "      <th>2</th>\n",
       "      <td>20000</td>\n",
       "      <td>2</td>\n",
       "      <td>6</td>\n",
       "      <td>2</td>\n",
       "      <td>22</td>\n",
       "      <td>0</td>\n",
       "      <td>0</td>\n",
       "      <td>0</td>\n",
       "      <td>0</td>\n",
       "      <td>0</td>\n",
       "      <td>...</td>\n",
       "      <td>1434</td>\n",
       "      <td>500</td>\n",
       "      <td>0</td>\n",
       "      <td>4641</td>\n",
       "      <td>1019</td>\n",
       "      <td>900</td>\n",
       "      <td>0</td>\n",
       "      <td>1500</td>\n",
       "      <td>0</td>\n",
       "      <td>1</td>\n",
       "    </tr>\n",
       "    <tr>\n",
       "      <th>3</th>\n",
       "      <td>260000</td>\n",
       "      <td>2</td>\n",
       "      <td>4</td>\n",
       "      <td>2</td>\n",
       "      <td>33</td>\n",
       "      <td>0</td>\n",
       "      <td>0</td>\n",
       "      <td>0</td>\n",
       "      <td>0</td>\n",
       "      <td>0</td>\n",
       "      <td>...</td>\n",
       "      <td>27821</td>\n",
       "      <td>30767</td>\n",
       "      <td>29890</td>\n",
       "      <td>5000</td>\n",
       "      <td>5000</td>\n",
       "      <td>1137</td>\n",
       "      <td>5000</td>\n",
       "      <td>1085</td>\n",
       "      <td>5000</td>\n",
       "      <td>0</td>\n",
       "    </tr>\n",
       "    <tr>\n",
       "      <th>4</th>\n",
       "      <td>150000</td>\n",
       "      <td>1</td>\n",
       "      <td>4</td>\n",
       "      <td>2</td>\n",
       "      <td>32</td>\n",
       "      <td>0</td>\n",
       "      <td>0</td>\n",
       "      <td>0</td>\n",
       "      <td>-1</td>\n",
       "      <td>0</td>\n",
       "      <td>...</td>\n",
       "      <td>150464</td>\n",
       "      <td>143375</td>\n",
       "      <td>146411</td>\n",
       "      <td>4019</td>\n",
       "      <td>146896</td>\n",
       "      <td>157436</td>\n",
       "      <td>4600</td>\n",
       "      <td>4709</td>\n",
       "      <td>5600</td>\n",
       "      <td>0</td>\n",
       "    </tr>\n",
       "    <tr>\n",
       "      <th>5</th>\n",
       "      <td>300000</td>\n",
       "      <td>2</td>\n",
       "      <td>4</td>\n",
       "      <td>2</td>\n",
       "      <td>32</td>\n",
       "      <td>0</td>\n",
       "      <td>0</td>\n",
       "      <td>0</td>\n",
       "      <td>0</td>\n",
       "      <td>0</td>\n",
       "      <td>...</td>\n",
       "      <td>65150</td>\n",
       "      <td>-450</td>\n",
       "      <td>700</td>\n",
       "      <td>15235</td>\n",
       "      <td>1491</td>\n",
       "      <td>1303</td>\n",
       "      <td>0</td>\n",
       "      <td>2000</td>\n",
       "      <td>1400</td>\n",
       "      <td>0</td>\n",
       "    </tr>\n",
       "    <tr>\n",
       "      <th>6</th>\n",
       "      <td>130000</td>\n",
       "      <td>1</td>\n",
       "      <td>1</td>\n",
       "      <td>1</td>\n",
       "      <td>45</td>\n",
       "      <td>0</td>\n",
       "      <td>0</td>\n",
       "      <td>0</td>\n",
       "      <td>0</td>\n",
       "      <td>0</td>\n",
       "      <td>...</td>\n",
       "      <td>62377</td>\n",
       "      <td>63832</td>\n",
       "      <td>65099</td>\n",
       "      <td>2886</td>\n",
       "      <td>2908</td>\n",
       "      <td>2129</td>\n",
       "      <td>2354</td>\n",
       "      <td>2366</td>\n",
       "      <td>2291</td>\n",
       "      <td>0</td>\n",
       "    </tr>\n",
       "    <tr>\n",
       "      <th>7</th>\n",
       "      <td>200000</td>\n",
       "      <td>1</td>\n",
       "      <td>1</td>\n",
       "      <td>1</td>\n",
       "      <td>58</td>\n",
       "      <td>0</td>\n",
       "      <td>0</td>\n",
       "      <td>0</td>\n",
       "      <td>0</td>\n",
       "      <td>0</td>\n",
       "      <td>...</td>\n",
       "      <td>124647</td>\n",
       "      <td>126921</td>\n",
       "      <td>129167</td>\n",
       "      <td>7822</td>\n",
       "      <td>4417</td>\n",
       "      <td>4446</td>\n",
       "      <td>4597</td>\n",
       "      <td>4677</td>\n",
       "      <td>4698</td>\n",
       "      <td>0</td>\n",
       "    </tr>\n",
       "    <tr>\n",
       "      <th>8</th>\n",
       "      <td>500000</td>\n",
       "      <td>1</td>\n",
       "      <td>1</td>\n",
       "      <td>1</td>\n",
       "      <td>39</td>\n",
       "      <td>0</td>\n",
       "      <td>0</td>\n",
       "      <td>0</td>\n",
       "      <td>0</td>\n",
       "      <td>0</td>\n",
       "      <td>...</td>\n",
       "      <td>174500</td>\n",
       "      <td>137406</td>\n",
       "      <td>204975</td>\n",
       "      <td>54209</td>\n",
       "      <td>4607</td>\n",
       "      <td>4603</td>\n",
       "      <td>5224</td>\n",
       "      <td>207440</td>\n",
       "      <td>7509</td>\n",
       "      <td>0</td>\n",
       "    </tr>\n",
       "    <tr>\n",
       "      <th>9</th>\n",
       "      <td>230000</td>\n",
       "      <td>1</td>\n",
       "      <td>1</td>\n",
       "      <td>1</td>\n",
       "      <td>48</td>\n",
       "      <td>0</td>\n",
       "      <td>0</td>\n",
       "      <td>0</td>\n",
       "      <td>0</td>\n",
       "      <td>0</td>\n",
       "      <td>...</td>\n",
       "      <td>105508</td>\n",
       "      <td>108101</td>\n",
       "      <td>110094</td>\n",
       "      <td>7000</td>\n",
       "      <td>6607</td>\n",
       "      <td>3773</td>\n",
       "      <td>4290</td>\n",
       "      <td>4164</td>\n",
       "      <td>2000</td>\n",
       "      <td>0</td>\n",
       "    </tr>\n",
       "  </tbody>\n",
       "</table>\n",
       "<p>10 rows × 24 columns</p>\n",
       "</div>"
      ],
      "text/plain": [
       "   limit_balance  sex  education_level  marital_status  age  pay_0  pay_2   \n",
       "0          80000    1                6               1   54      0      0  \\\n",
       "1         200000    1                4               1   49      0      0   \n",
       "2          20000    2                6               2   22      0      0   \n",
       "3         260000    2                4               2   33      0      0   \n",
       "4         150000    1                4               2   32      0      0   \n",
       "5         300000    2                4               2   32      0      0   \n",
       "6         130000    1                1               1   45      0      0   \n",
       "7         200000    1                1               1   58      0      0   \n",
       "8         500000    1                1               1   39      0      0   \n",
       "9         230000    1                1               1   48      0      0   \n",
       "\n",
       "   pay_3  pay_4  pay_5  ...  bill_amt_4  bill_amt_5  bill_amt_6  pay_amt_1   \n",
       "0      0      0      0  ...       29296       26210       17643       2545  \\\n",
       "1      0      0      0  ...       50146       50235       48984       1689   \n",
       "2      0      0      0  ...        1434         500           0       4641   \n",
       "3      0      0      0  ...       27821       30767       29890       5000   \n",
       "4      0     -1      0  ...      150464      143375      146411       4019   \n",
       "5      0      0      0  ...       65150        -450         700      15235   \n",
       "6      0      0      0  ...       62377       63832       65099       2886   \n",
       "7      0      0      0  ...      124647      126921      129167       7822   \n",
       "8      0      0      0  ...      174500      137406      204975      54209   \n",
       "9      0      0      0  ...      105508      108101      110094       7000   \n",
       "\n",
       "   pay_amt_2  pay_amt_3  pay_amt_4  pay_amt_5  pay_amt_6   \n",
       "0       2208       1336       2232        542        348  \\\n",
       "1       2164       2500       3480       2500       3000   \n",
       "2       1019        900          0       1500          0   \n",
       "3       5000       1137       5000       1085       5000   \n",
       "4     146896     157436       4600       4709       5600   \n",
       "5       1491       1303          0       2000       1400   \n",
       "6       2908       2129       2354       2366       2291   \n",
       "7       4417       4446       4597       4677       4698   \n",
       "8       4607       4603       5224     207440       7509   \n",
       "9       6607       3773       4290       4164       2000   \n",
       "\n",
       "   default_payment_next_month  \n",
       "0                           1  \n",
       "1                           0  \n",
       "2                           1  \n",
       "3                           0  \n",
       "4                           0  \n",
       "5                           0  \n",
       "6                           0  \n",
       "7                           0  \n",
       "8                           0  \n",
       "9                           0  \n",
       "\n",
       "[10 rows x 24 columns]"
      ]
     },
     "execution_count": 3,
     "metadata": {},
     "output_type": "execute_result"
    }
   ],
   "source": [
    "# Menampilkan 10 baris teratas pada data\n",
    "data.head(10)"
   ]
  },
  {
   "cell_type": "code",
   "execution_count": 4,
   "metadata": {},
   "outputs": [
    {
     "data": {
      "text/html": [
       "<div>\n",
       "<style scoped>\n",
       "    .dataframe tbody tr th:only-of-type {\n",
       "        vertical-align: middle;\n",
       "    }\n",
       "\n",
       "    .dataframe tbody tr th {\n",
       "        vertical-align: top;\n",
       "    }\n",
       "\n",
       "    .dataframe thead th {\n",
       "        text-align: right;\n",
       "    }\n",
       "</style>\n",
       "<table border=\"1\" class=\"dataframe\">\n",
       "  <thead>\n",
       "    <tr style=\"text-align: right;\">\n",
       "      <th></th>\n",
       "      <th>limit_balance</th>\n",
       "      <th>sex</th>\n",
       "      <th>education_level</th>\n",
       "      <th>marital_status</th>\n",
       "      <th>age</th>\n",
       "      <th>pay_0</th>\n",
       "      <th>pay_2</th>\n",
       "      <th>pay_3</th>\n",
       "      <th>pay_4</th>\n",
       "      <th>pay_5</th>\n",
       "      <th>...</th>\n",
       "      <th>bill_amt_4</th>\n",
       "      <th>bill_amt_5</th>\n",
       "      <th>bill_amt_6</th>\n",
       "      <th>pay_amt_1</th>\n",
       "      <th>pay_amt_2</th>\n",
       "      <th>pay_amt_3</th>\n",
       "      <th>pay_amt_4</th>\n",
       "      <th>pay_amt_5</th>\n",
       "      <th>pay_amt_6</th>\n",
       "      <th>default_payment_next_month</th>\n",
       "    </tr>\n",
       "  </thead>\n",
       "  <tbody>\n",
       "    <tr>\n",
       "      <th>2955</th>\n",
       "      <td>360000</td>\n",
       "      <td>2</td>\n",
       "      <td>2</td>\n",
       "      <td>2</td>\n",
       "      <td>26</td>\n",
       "      <td>-1</td>\n",
       "      <td>-1</td>\n",
       "      <td>-1</td>\n",
       "      <td>-1</td>\n",
       "      <td>-2</td>\n",
       "      <td>...</td>\n",
       "      <td>0</td>\n",
       "      <td>0</td>\n",
       "      <td>0</td>\n",
       "      <td>463</td>\n",
       "      <td>2500</td>\n",
       "      <td>0</td>\n",
       "      <td>0</td>\n",
       "      <td>0</td>\n",
       "      <td>0</td>\n",
       "      <td>0</td>\n",
       "    </tr>\n",
       "    <tr>\n",
       "      <th>2956</th>\n",
       "      <td>100000</td>\n",
       "      <td>1</td>\n",
       "      <td>3</td>\n",
       "      <td>1</td>\n",
       "      <td>40</td>\n",
       "      <td>0</td>\n",
       "      <td>0</td>\n",
       "      <td>-1</td>\n",
       "      <td>-1</td>\n",
       "      <td>-2</td>\n",
       "      <td>...</td>\n",
       "      <td>0</td>\n",
       "      <td>0</td>\n",
       "      <td>0</td>\n",
       "      <td>2000</td>\n",
       "      <td>2377</td>\n",
       "      <td>40000</td>\n",
       "      <td>0</td>\n",
       "      <td>0</td>\n",
       "      <td>0</td>\n",
       "      <td>0</td>\n",
       "    </tr>\n",
       "    <tr>\n",
       "      <th>2957</th>\n",
       "      <td>30000</td>\n",
       "      <td>2</td>\n",
       "      <td>3</td>\n",
       "      <td>1</td>\n",
       "      <td>48</td>\n",
       "      <td>1</td>\n",
       "      <td>-1</td>\n",
       "      <td>-1</td>\n",
       "      <td>-2</td>\n",
       "      <td>-2</td>\n",
       "      <td>...</td>\n",
       "      <td>0</td>\n",
       "      <td>0</td>\n",
       "      <td>0</td>\n",
       "      <td>200</td>\n",
       "      <td>0</td>\n",
       "      <td>0</td>\n",
       "      <td>0</td>\n",
       "      <td>0</td>\n",
       "      <td>0</td>\n",
       "      <td>0</td>\n",
       "    </tr>\n",
       "    <tr>\n",
       "      <th>2958</th>\n",
       "      <td>80000</td>\n",
       "      <td>2</td>\n",
       "      <td>3</td>\n",
       "      <td>1</td>\n",
       "      <td>39</td>\n",
       "      <td>-1</td>\n",
       "      <td>-1</td>\n",
       "      <td>-1</td>\n",
       "      <td>-1</td>\n",
       "      <td>-2</td>\n",
       "      <td>...</td>\n",
       "      <td>0</td>\n",
       "      <td>0</td>\n",
       "      <td>5000</td>\n",
       "      <td>5000</td>\n",
       "      <td>5000</td>\n",
       "      <td>0</td>\n",
       "      <td>5000</td>\n",
       "      <td>5000</td>\n",
       "      <td>470</td>\n",
       "      <td>0</td>\n",
       "    </tr>\n",
       "    <tr>\n",
       "      <th>2959</th>\n",
       "      <td>20000</td>\n",
       "      <td>1</td>\n",
       "      <td>3</td>\n",
       "      <td>2</td>\n",
       "      <td>26</td>\n",
       "      <td>-1</td>\n",
       "      <td>-1</td>\n",
       "      <td>-1</td>\n",
       "      <td>-2</td>\n",
       "      <td>-2</td>\n",
       "      <td>...</td>\n",
       "      <td>0</td>\n",
       "      <td>0</td>\n",
       "      <td>0</td>\n",
       "      <td>1560</td>\n",
       "      <td>0</td>\n",
       "      <td>0</td>\n",
       "      <td>0</td>\n",
       "      <td>0</td>\n",
       "      <td>0</td>\n",
       "      <td>0</td>\n",
       "    </tr>\n",
       "    <tr>\n",
       "      <th>2960</th>\n",
       "      <td>80000</td>\n",
       "      <td>2</td>\n",
       "      <td>3</td>\n",
       "      <td>2</td>\n",
       "      <td>28</td>\n",
       "      <td>-1</td>\n",
       "      <td>-1</td>\n",
       "      <td>-1</td>\n",
       "      <td>-2</td>\n",
       "      <td>-2</td>\n",
       "      <td>...</td>\n",
       "      <td>0</td>\n",
       "      <td>0</td>\n",
       "      <td>0</td>\n",
       "      <td>2800</td>\n",
       "      <td>0</td>\n",
       "      <td>0</td>\n",
       "      <td>0</td>\n",
       "      <td>0</td>\n",
       "      <td>0</td>\n",
       "      <td>0</td>\n",
       "    </tr>\n",
       "    <tr>\n",
       "      <th>2961</th>\n",
       "      <td>50000</td>\n",
       "      <td>2</td>\n",
       "      <td>3</td>\n",
       "      <td>1</td>\n",
       "      <td>51</td>\n",
       "      <td>-1</td>\n",
       "      <td>-1</td>\n",
       "      <td>-1</td>\n",
       "      <td>-1</td>\n",
       "      <td>-2</td>\n",
       "      <td>...</td>\n",
       "      <td>0</td>\n",
       "      <td>0</td>\n",
       "      <td>0</td>\n",
       "      <td>300</td>\n",
       "      <td>5880</td>\n",
       "      <td>0</td>\n",
       "      <td>0</td>\n",
       "      <td>0</td>\n",
       "      <td>0</td>\n",
       "      <td>1</td>\n",
       "    </tr>\n",
       "    <tr>\n",
       "      <th>2962</th>\n",
       "      <td>450000</td>\n",
       "      <td>2</td>\n",
       "      <td>2</td>\n",
       "      <td>1</td>\n",
       "      <td>38</td>\n",
       "      <td>-2</td>\n",
       "      <td>-2</td>\n",
       "      <td>-2</td>\n",
       "      <td>-2</td>\n",
       "      <td>-2</td>\n",
       "      <td>...</td>\n",
       "      <td>390</td>\n",
       "      <td>390</td>\n",
       "      <td>390</td>\n",
       "      <td>390</td>\n",
       "      <td>780</td>\n",
       "      <td>390</td>\n",
       "      <td>390</td>\n",
       "      <td>390</td>\n",
       "      <td>390</td>\n",
       "      <td>1</td>\n",
       "    </tr>\n",
       "    <tr>\n",
       "      <th>2963</th>\n",
       "      <td>50000</td>\n",
       "      <td>2</td>\n",
       "      <td>2</td>\n",
       "      <td>1</td>\n",
       "      <td>44</td>\n",
       "      <td>-2</td>\n",
       "      <td>-2</td>\n",
       "      <td>-2</td>\n",
       "      <td>-2</td>\n",
       "      <td>-2</td>\n",
       "      <td>...</td>\n",
       "      <td>390</td>\n",
       "      <td>390</td>\n",
       "      <td>0</td>\n",
       "      <td>390</td>\n",
       "      <td>390</td>\n",
       "      <td>390</td>\n",
       "      <td>390</td>\n",
       "      <td>0</td>\n",
       "      <td>780</td>\n",
       "      <td>0</td>\n",
       "    </tr>\n",
       "    <tr>\n",
       "      <th>2964</th>\n",
       "      <td>290000</td>\n",
       "      <td>2</td>\n",
       "      <td>2</td>\n",
       "      <td>1</td>\n",
       "      <td>39</td>\n",
       "      <td>1</td>\n",
       "      <td>-2</td>\n",
       "      <td>-2</td>\n",
       "      <td>-2</td>\n",
       "      <td>-2</td>\n",
       "      <td>...</td>\n",
       "      <td>3184</td>\n",
       "      <td>390</td>\n",
       "      <td>390</td>\n",
       "      <td>10000</td>\n",
       "      <td>800</td>\n",
       "      <td>3184</td>\n",
       "      <td>390</td>\n",
       "      <td>390</td>\n",
       "      <td>6617</td>\n",
       "      <td>0</td>\n",
       "    </tr>\n",
       "  </tbody>\n",
       "</table>\n",
       "<p>10 rows × 24 columns</p>\n",
       "</div>"
      ],
      "text/plain": [
       "      limit_balance  sex  education_level  marital_status  age  pay_0  pay_2   \n",
       "2955         360000    2                2               2   26     -1     -1  \\\n",
       "2956         100000    1                3               1   40      0      0   \n",
       "2957          30000    2                3               1   48      1     -1   \n",
       "2958          80000    2                3               1   39     -1     -1   \n",
       "2959          20000    1                3               2   26     -1     -1   \n",
       "2960          80000    2                3               2   28     -1     -1   \n",
       "2961          50000    2                3               1   51     -1     -1   \n",
       "2962         450000    2                2               1   38     -2     -2   \n",
       "2963          50000    2                2               1   44     -2     -2   \n",
       "2964         290000    2                2               1   39      1     -2   \n",
       "\n",
       "      pay_3  pay_4  pay_5  ...  bill_amt_4  bill_amt_5  bill_amt_6  pay_amt_1   \n",
       "2955     -1     -1     -2  ...           0           0           0        463  \\\n",
       "2956     -1     -1     -2  ...           0           0           0       2000   \n",
       "2957     -1     -2     -2  ...           0           0           0        200   \n",
       "2958     -1     -1     -2  ...           0           0        5000       5000   \n",
       "2959     -1     -2     -2  ...           0           0           0       1560   \n",
       "2960     -1     -2     -2  ...           0           0           0       2800   \n",
       "2961     -1     -1     -2  ...           0           0           0        300   \n",
       "2962     -2     -2     -2  ...         390         390         390        390   \n",
       "2963     -2     -2     -2  ...         390         390           0        390   \n",
       "2964     -2     -2     -2  ...        3184         390         390      10000   \n",
       "\n",
       "      pay_amt_2  pay_amt_3  pay_amt_4  pay_amt_5  pay_amt_6   \n",
       "2955       2500          0          0          0          0  \\\n",
       "2956       2377      40000          0          0          0   \n",
       "2957          0          0          0          0          0   \n",
       "2958       5000          0       5000       5000        470   \n",
       "2959          0          0          0          0          0   \n",
       "2960          0          0          0          0          0   \n",
       "2961       5880          0          0          0          0   \n",
       "2962        780        390        390        390        390   \n",
       "2963        390        390        390          0        780   \n",
       "2964        800       3184        390        390       6617   \n",
       "\n",
       "      default_payment_next_month  \n",
       "2955                           0  \n",
       "2956                           0  \n",
       "2957                           0  \n",
       "2958                           0  \n",
       "2959                           0  \n",
       "2960                           0  \n",
       "2961                           1  \n",
       "2962                           1  \n",
       "2963                           0  \n",
       "2964                           0  \n",
       "\n",
       "[10 rows x 24 columns]"
      ]
     },
     "execution_count": 4,
     "metadata": {},
     "output_type": "execute_result"
    }
   ],
   "source": [
    "# Menampilkan 10 baris terbawah pada data\n",
    "data.tail(10)"
   ]
  },
  {
   "cell_type": "code",
   "execution_count": 5,
   "metadata": {},
   "outputs": [
    {
     "data": {
      "text/plain": [
       "(2965, 24)"
      ]
     },
     "execution_count": 5,
     "metadata": {},
     "output_type": "execute_result"
    }
   ],
   "source": [
    "# Melihat jumlah baris dan kolom pada data\n",
    "data.shape"
   ]
  },
  {
   "cell_type": "code",
   "execution_count": 6,
   "metadata": {},
   "outputs": [
    {
     "name": "stdout",
     "output_type": "stream",
     "text": [
      "<class 'pandas.core.frame.DataFrame'>\n",
      "RangeIndex: 2965 entries, 0 to 2964\n",
      "Data columns (total 24 columns):\n",
      " #   Column                      Non-Null Count  Dtype\n",
      "---  ------                      --------------  -----\n",
      " 0   limit_balance               2965 non-null   int64\n",
      " 1   sex                         2965 non-null   int64\n",
      " 2   education_level             2965 non-null   int64\n",
      " 3   marital_status              2965 non-null   int64\n",
      " 4   age                         2965 non-null   int64\n",
      " 5   pay_0                       2965 non-null   int64\n",
      " 6   pay_2                       2965 non-null   int64\n",
      " 7   pay_3                       2965 non-null   int64\n",
      " 8   pay_4                       2965 non-null   int64\n",
      " 9   pay_5                       2965 non-null   int64\n",
      " 10  pay_6                       2965 non-null   int64\n",
      " 11  bill_amt_1                  2965 non-null   int64\n",
      " 12  bill_amt_2                  2965 non-null   int64\n",
      " 13  bill_amt_3                  2965 non-null   int64\n",
      " 14  bill_amt_4                  2965 non-null   int64\n",
      " 15  bill_amt_5                  2965 non-null   int64\n",
      " 16  bill_amt_6                  2965 non-null   int64\n",
      " 17  pay_amt_1                   2965 non-null   int64\n",
      " 18  pay_amt_2                   2965 non-null   int64\n",
      " 19  pay_amt_3                   2965 non-null   int64\n",
      " 20  pay_amt_4                   2965 non-null   int64\n",
      " 21  pay_amt_5                   2965 non-null   int64\n",
      " 22  pay_amt_6                   2965 non-null   int64\n",
      " 23  default_payment_next_month  2965 non-null   int64\n",
      "dtypes: int64(24)\n",
      "memory usage: 556.1 KB\n"
     ]
    }
   ],
   "source": [
    "# Melihat ringkasan singkat pada data\n",
    "data.info()"
   ]
  },
  {
   "cell_type": "markdown",
   "metadata": {},
   "source": [
    "Terlihat bahwa dataset berisi 2965 baris dan 24 kolom, serta semua kolom pada data memiliki tipe data integer dan terlihat bahwa nilai non-null yang sama pada seluruh kolom mengindikasikan bahwa tidak adanya null values pada dataset."
   ]
  },
  {
   "cell_type": "markdown",
   "metadata": {},
   "source": [
    "Sebelum Melakukan eksplorasi lebih lanjut, Saya ingin mengenali terlebih dahulu masing-masing kolom yang ada dalam dataset. \n",
    "\n",
    "Berikut dokumentasi mengenai penjelasan masing-masing kolom:\n",
    "\n",
    "Columns | Desc\n",
    "---|---\n",
    "`limit_balance`|  Amount of given credit in NT dollars (includes individual and family/supplementary credit\n",
    "`sex` | Gender (1=male, 2=female)\n",
    "`education_level` | Education Level (1=graduate school, 2=university, 3=high school, 4=others, 5=unknown, 6=unknown)\n",
    "`marital_status` | Marital status (1=married, 2=single, 3=others)\n",
    "`age` | Age in years\n",
    "`pay_0` | Repayment status in September, 2005 (-1=pay duly, 1=payment delay for one month, 2=payment delay for two months, ... 8=payment delay for eight months, 9=payment delay for nine months and above)\n",
    "`pay_2` | Repayment status in August, 2005 (scale same as above)\n",
    "`pay_3` | Repayment status in July, 2005 (scale same as above)\n",
    "`pay_4` | Repayment status in June, 2005 (scale same as above)\n",
    "`pay_5` | Repayment status in May, 2005 (scale same as above)\n",
    "`pay_6` | Repayment status in April, 2005 (scale same as above)\n",
    "`bill_amt_1`| Amount of bill statement in September, 2005 (NT dollar)\n",
    "`bill_amt_2`| Amount of bill statement in August, 2005 (NT dollar)\n",
    "`bill_amt_3`| Amount of bill statement in July, 2005 (NT dollar)\n",
    "`bill_amt_4`| Amount of bill statement in June, 2005 (NT dollar)\n",
    "`bill_amt_5`| Amount of bill statement in May, 2005 (NT dollar)\n",
    "`bill_amt_6`| Amount of bill statement in April, 2005 (NT dollar)\n",
    "`pay_amt_1`| Amount of previous payment in September, 2005 (NT dollar)\n",
    "`pay_amt_2`| Amount of previous payment in August, 2005 (NT dollar)\n",
    "`pay_amt_3`| Amount of previous payment in July, 2005 (NT dollar)\n",
    "`pay_amt_4`| Amount of previous payment in June, 2005 (NT dollar)\n",
    "`pay_amt_5`| Amount of previous payment in May, 2005 (NT dollar)\n",
    "`pay_amt_6`| Amount of previous payment in April, 2005 (NT dollar)\n",
    "`default_payment_next_month` | Default payment (1=yes, 0=no)"
   ]
  },
  {
   "cell_type": "markdown",
   "metadata": {},
   "source": [
    "Dan terakhir, dikarenakan ada beberapa nama kolom yang lumayan panjang pada data, saya akan megubah beberapa nama kolomnya"
   ]
  },
  {
   "cell_type": "code",
   "execution_count": 7,
   "metadata": {},
   "outputs": [
    {
     "data": {
      "text/plain": [
       "Index(['limit', 'sex', 'education', 'marriage', 'age', 'pay_0', 'pay_2',\n",
       "       'pay_3', 'pay_4', 'pay_5', 'pay_6', 'bill_amt_1', 'bill_amt_2',\n",
       "       'bill_amt_3', 'bill_amt_4', 'bill_amt_5', 'bill_amt_6', 'pay_amt_1',\n",
       "       'pay_amt_2', 'pay_amt_3', 'pay_amt_4', 'pay_amt_5', 'pay_amt_6',\n",
       "       'default'],\n",
       "      dtype='object')"
      ]
     },
     "execution_count": 7,
     "metadata": {},
     "output_type": "execute_result"
    }
   ],
   "source": [
    "# Dictionary untuk menyimpan nama kolom yang akan diubah\n",
    "kolom = {\n",
    "    'limit_balance': 'limit',\n",
    "    'education_level' : 'education',\n",
    "    'marital_status' : 'marriage',\n",
    "    'default_payment_next_month' : 'default'\n",
    "}\n",
    "\n",
    "# Mengubah nama kolomnya\n",
    "data = data.rename(columns=kolom)\n",
    "\n",
    "# Menampilkan nama kolom yang sudah diubah\n",
    "data.columns"
   ]
  },
  {
   "cell_type": "markdown",
   "metadata": {},
   "source": [
    "Dan juga untuk memudahkan, saya akan mengubah angka 1-6 dengan nama bulannya pada kolom pay, bill_amt dan pay_amt"
   ]
  },
  {
   "cell_type": "code",
   "execution_count": 8,
   "metadata": {},
   "outputs": [
    {
     "data": {
      "text/plain": [
       "Index(['limit', 'sex', 'education', 'marriage', 'age', 'status_sept',\n",
       "       'status_aug', 'status_july', 'status_june', 'status_may', 'status_apr',\n",
       "       'bill_sept', 'bill_aug', 'bill_july', 'bill_june', 'bill_may',\n",
       "       'bill_apr', 'pay_sept', 'pay_aug', 'pay_july', 'pay_june', 'pay_may',\n",
       "       'pay_apr', 'default'],\n",
       "      dtype='object')"
      ]
     },
     "execution_count": 8,
     "metadata": {},
     "output_type": "execute_result"
    }
   ],
   "source": [
    "# Dictionary untuk menyimpan nama kolom yang akan diubah\n",
    "kolom = {\n",
    "    'pay_0' : 'status_sept',\n",
    "    'pay_2' : 'status_aug',\n",
    "    'pay_3' : 'status_july',\n",
    "    'pay_4' : 'status_june',\n",
    "    'pay_5' : 'status_may',\n",
    "    'pay_6' : 'status_apr',\n",
    "\n",
    "    'bill_amt_1' : 'bill_sept',\n",
    "    'bill_amt_2' : 'bill_aug',\n",
    "    'bill_amt_3' : 'bill_july',\n",
    "    'bill_amt_4' : 'bill_june',\n",
    "    'bill_amt_5' : 'bill_may',\n",
    "    'bill_amt_6' : 'bill_apr',\n",
    "\n",
    "    'pay_amt_1' : 'pay_sept',\n",
    "    'pay_amt_2' : 'pay_aug',\n",
    "    'pay_amt_3' : 'pay_july',\n",
    "    'pay_amt_4' : 'pay_june',\n",
    "    'pay_amt_5' : 'pay_may',\n",
    "    'pay_amt_6' : 'pay_apr',\n",
    "}\n",
    "\n",
    "# Mengubah nama kolomnya\n",
    "data = data.rename(columns=kolom)\n",
    "\n",
    "# Menampilkan nama kolom yang sudah diubah\n",
    "data.columns"
   ]
  },
  {
   "cell_type": "markdown",
   "metadata": {},
   "source": [
    "# 5. Exploratory Data Analysis (EDA)"
   ]
  },
  {
   "cell_type": "markdown",
   "metadata": {},
   "source": [
    "Saya tidak terlalu familiar dengan kartu kredit, jadi untuk mendapatkan pemahaman yang lebih mantap, saya akan membahas terlebih dahulu makna dari kolom-kolom yang berkaitan dengan kartu kredit seperti `limit`,`pay` (diubah menjadi status), `bill_amt` (diubah menjadi bill), `pay_amt` (diubah menjadi pay), dan `default`"
   ]
  },
  {
   "cell_type": "code",
   "execution_count": 9,
   "metadata": {},
   "outputs": [
    {
     "data": {
      "text/plain": [
       "array([ 80000, 200000,  20000, 260000, 150000, 300000, 130000, 500000,\n",
       "       230000, 460000, 780000, 170000, 320000, 290000, 240000, 340000,\n",
       "       360000, 380000, 180000, 100000,  90000,  50000, 160000,  70000,\n",
       "       280000, 220000,  30000, 120000,  10000, 470000, 310000, 140000,\n",
       "        60000, 110000, 430000, 210000, 490000, 330000, 250000, 400000,\n",
       "       370000, 440000, 700000, 530000, 390000, 410000, 270000, 560000,\n",
       "        40000, 680000, 480000, 190000, 350000, 420000, 510000, 800000,\n",
       "       450000, 750000, 620000], dtype=int64)"
      ]
     },
     "execution_count": 9,
     "metadata": {},
     "output_type": "execute_result"
    }
   ],
   "source": [
    "# Pertama pada kolom limit\n",
    "data['limit'].unique()"
   ]
  },
  {
   "cell_type": "markdown",
   "metadata": {},
   "source": [
    "Kolom ini memberikan informasi tentang batasan jumlah uang yang bisa dipakai pada kartu kredit dengan mata uang NT dollar atau \"New Taiwan Dollars\". Nilai NT dollars sama dengan sekitar 480 rupiah (pada waktu notebook ini dibuat)"
   ]
  },
  {
   "cell_type": "code",
   "execution_count": 10,
   "metadata": {},
   "outputs": [
    {
     "data": {
      "text/plain": [
       "array([ 0,  2,  1, -1, -2,  3,  4,  5,  6,  7,  8], dtype=int64)"
      ]
     },
     "execution_count": 10,
     "metadata": {},
     "output_type": "execute_result"
    }
   ],
   "source": [
    "# Sleanjutnya dikolom pay\n",
    "data['status_sept'].unique()"
   ]
  },
  {
   "cell_type": "markdown",
   "metadata": {},
   "source": [
    "Sesuai dari penjelasan kolom pada dokumentasi datanya, kolom status ini menunjukkan waktu pembayaran kartu kredit. Value -1 artinya dibayar on time, sedangkan value 1 dibayar telat 1 bulan, value 2 dibayar telat 2 bulan dan seterusnya. \n",
    "\n",
    "Namun pada kolom `status_sept` diatas terdapat nilai -2 dan 0 dalam unique valuenya. tidak ada penjelasan mengenai kedua value tersebut pada dokumentasi datasetnya, jadi untuk sekarang saya akan mengasumsikan kalau nilai -2 dibayar lebih cepat dari jatuh tempo pembayaran sedangkan value 0 belum dibayar."
   ]
  },
  {
   "cell_type": "code",
   "execution_count": 11,
   "metadata": {},
   "outputs": [
    {
     "data": {
      "text/plain": [
       "array([61454, 49221, 19568, ...,  4280,   752,   -70], dtype=int64)"
      ]
     },
     "execution_count": 11,
     "metadata": {},
     "output_type": "execute_result"
    }
   ],
   "source": [
    "# Setelah itu saya akan melihat pada kolom bill_amt\n",
    "data['bill_sept'].unique()"
   ]
  },
  {
   "cell_type": "markdown",
   "metadata": {},
   "source": [
    "Bill amount menunjukkan jumlah tagihan atau jumlah uang yang dikeluarkan dengan menggunakan kartu kredit tiap bulannya. Tapi terlihat pada nilai diatas terdapat value bernilai -70. Setelah melakukan riset sedikit, saya menemukan kalau nilai negatif pada bill statement itu artinya bank yang memiliki hutang terhadap kita dan bukan sebaliknya"
   ]
  },
  {
   "cell_type": "code",
   "execution_count": 12,
   "metadata": {},
   "outputs": [
    {
     "data": {
      "text/plain": [
       "array([2545, 1689, 4641, ...,  463, 1560,  300], dtype=int64)"
      ]
     },
     "execution_count": 12,
     "metadata": {},
     "output_type": "execute_result"
    }
   ],
   "source": [
    "# Lanjut ke kolom pay_amt\n",
    "data['pay_sept'].unique()"
   ]
  },
  {
   "cell_type": "markdown",
   "metadata": {},
   "source": [
    "pay amount menunjukkan jumlah uang yang dibayar sebelumnya. Menurut saya harusnya kolom pay amount ini akan sangat berkorelasi dengan kolom bill amount dikarenakan pengguna kartu kredit akan mengacu pada bill amount untuk membayar tagihannya "
   ]
  },
  {
   "cell_type": "markdown",
   "metadata": {},
   "source": [
    "setelah itu pada kolom `default` dengan memvisualisasikan datanya "
   ]
  },
  {
   "cell_type": "code",
   "execution_count": 13,
   "metadata": {},
   "outputs": [
    {
     "data": {
      "image/png": "[encoded data removed]",
      "text/plain": [
       "<Figure size 640x480 with 1 Axes>"
      ]
     },
     "metadata": {},
     "output_type": "display_data"
    }
   ],
   "source": [
    "# Membagi data untuk dimasukkan ke 2 variable berbeda\n",
    "yes = data['default'].value_counts()[1]\n",
    "no = data['default'].value_counts()[0]\n",
    "\n",
    "# Konfigurasi untuk Pie Chart\n",
    "y = np.array([yes,no])\n",
    "labels = ['Default','Not Default']\n",
    "explode = [0.06, 0]\n",
    "\n",
    "# Membuat dan Menampilkan Pie Chart\n",
    "plt.pie(y, labels=labels, explode=explode, shadow = True, autopct='%.2f%%')\n",
    "plt.show()"
   ]
  },
  {
   "cell_type": "markdown",
   "metadata": {},
   "source": [
    "Dan yang terakhir pada kolom yang akan saya jadikan target yaitu pada kolom `default` memiliki value yang berisi 1 artinya default dan 0 artinya not default. Dalam kartu kredit, default itu sendiri adalah ketika pengguna kartu kredit gagal melakukan pembayaran pada kurun waktu tertentu (biasanya 6 bulan) dan penerbit kartu kredit akan menutup akun pengguna tersebut.\n",
    "\n",
    "Terlihat pada chart diatas, pada dataset terdapat sebanyak 21% yang tergolong default dan 79% not default. Terlihat bahwa proporsi dari datanya termasuk agak imbalance."
   ]
  },
  {
   "cell_type": "markdown",
   "metadata": {},
   "source": [
    "Setelah ini saya juga akan melihat beberapa kolom lainnya yang ada pada dataframe "
   ]
  },
  {
   "cell_type": "code",
   "execution_count": 14,
   "metadata": {},
   "outputs": [
    {
     "data": {
      "text/plain": [
       "education\n",
       "2    1400\n",
       "1    1039\n",
       "3     483\n",
       "5      24\n",
       "4      13\n",
       "6       4\n",
       "0       2\n",
       "Name: count, dtype: int64"
      ]
     },
     "execution_count": 14,
     "metadata": {},
     "output_type": "execute_result"
    }
   ],
   "source": [
    "# Melihat value counts dari kolom education\n",
    "data['education'].value_counts()"
   ]
  },
  {
   "cell_type": "markdown",
   "metadata": {},
   "source": [
    "Seperti pada dokumentasi resmi datasetnya, \"1=graduate school, 2=university, 3=high school, 4=others, 5=unknown, 6=unknown\". Terdapat angka 0 pada kolom diatas dan tidak ada penjelasan mengenai angka 0 tersebut di dokumentasinya. Selain itu, terlihat angka 5 dan 6 mempunyai label yang sama yaitu unknown pada dataset. Untuk itu saya akan menggabungkan saja semua data pada 5, 6 dan 0 kedalam 4 (others)"
   ]
  },
  {
   "cell_type": "code",
   "execution_count": 15,
   "metadata": {},
   "outputs": [],
   "source": [
    "data['education'].replace({0:4, 5:4, 6:4}, inplace=True)"
   ]
  },
  {
   "cell_type": "code",
   "execution_count": 16,
   "metadata": {},
   "outputs": [
    {
     "data": {
      "text/plain": [
       "education\n",
       "2    1400\n",
       "1    1039\n",
       "3     483\n",
       "4      43\n",
       "Name: count, dtype: int64"
      ]
     },
     "execution_count": 16,
     "metadata": {},
     "output_type": "execute_result"
    }
   ],
   "source": [
    "data['education'].value_counts()"
   ]
  },
  {
   "cell_type": "code",
   "execution_count": 17,
   "metadata": {},
   "outputs": [
    {
     "data": {
      "text/plain": [
       "marriage\n",
       "2    1594\n",
       "1    1332\n",
       "3      35\n",
       "0       4\n",
       "Name: count, dtype: int64"
      ]
     },
     "execution_count": 17,
     "metadata": {},
     "output_type": "execute_result"
    }
   ],
   "source": [
    "# Melihat value counts dari kolom marriage\n",
    "data['marriage'].value_counts()"
   ]
  },
  {
   "cell_type": "markdown",
   "metadata": {},
   "source": [
    "Sekali lagi, saya merujuk ke dokumentasi resminya yang mengatakan \"1=married, 2=single, 3=others\". Namun terlihat pada data diatas bahwa terdapat value bernilai 0 yang tidak terdapat penjelasan pada dokumentasinya. Saya akan melakukan cara yang sama seperti tadi yaitu menggabungkan value 0 ke value 3 (others)"
   ]
  },
  {
   "cell_type": "code",
   "execution_count": 18,
   "metadata": {},
   "outputs": [],
   "source": [
    "data['marriage'].replace({0:3}, inplace=True)"
   ]
  },
  {
   "cell_type": "code",
   "execution_count": 19,
   "metadata": {},
   "outputs": [
    {
     "data": {
      "text/plain": [
       "marriage\n",
       "2    1594\n",
       "1    1332\n",
       "3      39\n",
       "Name: count, dtype: int64"
      ]
     },
     "execution_count": 19,
     "metadata": {},
     "output_type": "execute_result"
    }
   ],
   "source": [
    "data['marriage'].value_counts()"
   ]
  },
  {
   "cell_type": "code",
   "execution_count": 20,
   "metadata": {},
   "outputs": [
    {
     "data": {
      "text/plain": [
       "count    2965.000000\n",
       "mean       35.193255\n",
       "std         9.109439\n",
       "min        21.000000\n",
       "25%        28.000000\n",
       "50%        34.000000\n",
       "75%        41.000000\n",
       "max        69.000000\n",
       "Name: age, dtype: float64"
      ]
     },
     "execution_count": 20,
     "metadata": {},
     "output_type": "execute_result"
    }
   ],
   "source": [
    "# Melihat deskripsi dari kolom age\n",
    "data['age'].describe()"
   ]
  },
  {
   "cell_type": "markdown",
   "metadata": {},
   "source": [
    "Sepertinya pada kolom ini terbilang normal, dapat dilihat bahwa usia pengguna kartu kredit paling rendah berada di usia 21 tahun dan yang tertinggi berada di 69 tahun. dari data deskripsi diatas, saya bisa mengasumsikan bahwa kolom ini mempunyai data yang terdistribusi normal, untuk itu saya akan melihat visualisasi datanya"
   ]
  },
  {
   "cell_type": "code",
   "execution_count": 21,
   "metadata": {},
   "outputs": [
    {
     "data": {
      "text/plain": [
       "<Axes: xlabel='age', ylabel='Count'>"
      ]
     },
     "execution_count": 21,
     "metadata": {},
     "output_type": "execute_result"
    },
    {
     "data": {
      "image/png": "[encoded data removed]",
      "text/plain": [
       "<Figure size 640x480 with 1 Axes>"
      ]
     },
     "metadata": {},
     "output_type": "display_data"
    }
   ],
   "source": [
    "# Melihat distribusi dari kolom age\n",
    "sns.histplot(data=data, x='age', kde=True, bins=15)"
   ]
  },
  {
   "cell_type": "markdown",
   "metadata": {},
   "source": [
    "Agak condong ke kiri namun masih bisa terbilang normal, terlihat bahwa usia terbanyak yang menggunakan kartu kredit berada di kisaran usia 30 tahun.\n",
    "\n",
    "Terakhir saya akan melihat data pada kolom sex"
   ]
  },
  {
   "cell_type": "code",
   "execution_count": 22,
   "metadata": {},
   "outputs": [
    {
     "data": {
      "text/plain": [
       "sex\n",
       "2    1802\n",
       "1    1163\n",
       "Name: count, dtype: int64"
      ]
     },
     "execution_count": 22,
     "metadata": {},
     "output_type": "execute_result"
    }
   ],
   "source": [
    "data['sex'].value_counts()"
   ]
  },
  {
   "cell_type": "markdown",
   "metadata": {},
   "source": [
    "Merujuk ke dokumentasinya, \"1=male, 2=female\". Jumlah female sebanyak 1802 orang dan male sebanyak 1163 orang, saya akan visualisasikan datanya dalam bentuk pie chart."
   ]
  },
  {
   "cell_type": "code",
   "execution_count": 23,
   "metadata": {},
   "outputs": [
    {
     "data": {
      "image/png": "[encoded data removed]",
      "text/plain": [
       "<Figure size 640x480 with 1 Axes>"
      ]
     },
     "metadata": {},
     "output_type": "display_data"
    }
   ],
   "source": [
    "# Terakhir pada kolom `sex`\n",
    "male = data['sex'].value_counts()[1]\n",
    "female = data['sex'].value_counts()[2]\n",
    "\n",
    "# Konfigurasi untuk Pie Chart\n",
    "y = np.array([male,female])\n",
    "labels = ['Male','Female']\n",
    "explode = [0.06, 0]\n",
    "\n",
    "# Membuat dan Menampilkan Pie Chart\n",
    "plt.pie(y, labels=labels, explode=explode, shadow = True, autopct='%.2f%%')\n",
    "plt.show()"
   ]
  },
  {
   "cell_type": "markdown",
   "metadata": {},
   "source": [
    "Terlihat bahwa jumlah data perempuan lebih banyak ketimbang data lak-laki"
   ]
  },
  {
   "cell_type": "markdown",
   "metadata": {},
   "source": [
    "Selanjutnya saya akan melihat masing-masing distribusi dari data 6 bulan dari data pay."
   ]
  },
  {
   "cell_type": "code",
   "execution_count": 24,
   "metadata": {},
   "outputs": [
    {
     "data": {
      "text/plain": [
       "<Axes: xlabel='pay_apr', ylabel='Count'>"
      ]
     },
     "execution_count": 24,
     "metadata": {},
     "output_type": "execute_result"
    },
    {
     "data": {
      "image/png": "[encoded data removed]",
      "text/plain": [
       "<Figure size 1500x1000 with 6 Axes>"
      ]
     },
     "metadata": {},
     "output_type": "display_data"
    }
   ],
   "source": [
    "plt.figure(figsize=(15, 10))\n",
    "plt.subplot(3, 3, 1)\n",
    "sns.histplot(data['pay_sept'], kde=True)\n",
    "\n",
    "plt.subplot(3, 3, 2)\n",
    "sns.histplot(data['pay_aug'], kde=True)\n",
    "\n",
    "plt.subplot(3, 3, 3)\n",
    "sns.histplot(data['pay_july'], kde=True)\n",
    "\n",
    "plt.subplot(3, 3, 4)\n",
    "sns.histplot(data['pay_june'], kde=True)\n",
    "\n",
    "plt.subplot(3, 3, 5)\n",
    "sns.histplot(data['pay_may'], kde=True)\n",
    "\n",
    "plt.subplot(3, 3, 6)\n",
    "sns.histplot(data['pay_apr'], kde=True)"
   ]
  },
  {
   "cell_type": "markdown",
   "metadata": {},
   "source": [
    "Dapat dilihat bahwa data pay diatas memiliki distribusi yang tidak normal dari seluruh bulannya.\n",
    "\n",
    "dan saya akan melihat pada kolom bill"
   ]
  },
  {
   "cell_type": "code",
   "execution_count": 25,
   "metadata": {},
   "outputs": [
    {
     "data": {
      "text/plain": [
       "<Axes: xlabel='bill_apr', ylabel='Count'>"
      ]
     },
     "execution_count": 25,
     "metadata": {},
     "output_type": "execute_result"
    },
    {
     "data": {
      "image/png": "[encoded data removed]",
      "text/plain": [
       "<Figure size 1500x1000 with 6 Axes>"
      ]
     },
     "metadata": {},
     "output_type": "display_data"
    }
   ],
   "source": [
    "plt.figure(figsize=(15, 10))\n",
    "plt.subplot(3, 3, 1)\n",
    "sns.histplot(data['bill_sept'], kde=True)\n",
    "\n",
    "plt.subplot(3, 3, 2)\n",
    "sns.histplot(data['bill_aug'], kde=True)\n",
    "\n",
    "plt.subplot(3, 3, 3)\n",
    "sns.histplot(data['bill_july'], kde=True)\n",
    "\n",
    "plt.subplot(3, 3, 4)\n",
    "sns.histplot(data['bill_june'], kde=True)\n",
    "\n",
    "plt.subplot(3, 3, 5)\n",
    "sns.histplot(data['bill_may'], kde=True)\n",
    "\n",
    "plt.subplot(3, 3, 6)\n",
    "sns.histplot(data['bill_apr'], kde=True)"
   ]
  },
  {
   "cell_type": "markdown",
   "metadata": {},
   "source": [
    "Dapat terlihat pada masing-masing kolom bill diatas, distribusinya juga tidak terlihat normal. Menurut saya distribusi yang tidak normal pada kedua jenis kolom bill dan pay ini disebabkan oleh data yang memang luas karakteristiknya, data outlier diatas bisa disebabkan oleh memang ada beberapa orang yang benar-benar memiliki pay dan bill yang sangat tinggi ketimbang kebanyakan orang-orang lainnya"
   ]
  },
  {
   "cell_type": "markdown",
   "metadata": {},
   "source": [
    "# 6. Feature Engineering"
   ]
  },
  {
   "cell_type": "markdown",
   "metadata": {},
   "source": [
    "## Splitting Data"
   ]
  },
  {
   "cell_type": "code",
   "execution_count": 26,
   "metadata": {},
   "outputs": [
    {
     "data": {
      "text/plain": [
       "0       1\n",
       "1       0\n",
       "2       1\n",
       "3       0\n",
       "4       0\n",
       "       ..\n",
       "2960    0\n",
       "2961    1\n",
       "2962    1\n",
       "2963    0\n",
       "2964    0\n",
       "Name: default, Length: 2965, dtype: int64"
      ]
     },
     "execution_count": 26,
     "metadata": {},
     "output_type": "execute_result"
    }
   ],
   "source": [
    "# Split data antara X dan y\n",
    "X = data.drop('default',axis=1)\n",
    "y = data['default']\n",
    "\n",
    "# Menampilkan data y\n",
    "y"
   ]
  },
  {
   "cell_type": "code",
   "execution_count": 27,
   "metadata": {},
   "outputs": [
    {
     "name": "stdout",
     "output_type": "stream",
     "text": [
      "Ukuran dari Train-Set :  (2372, 23)\n",
      "Ukuran dari Test-Set  :  (593, 23)\n"
     ]
    }
   ],
   "source": [
    "# Split data untuk dibagi lagi menjadi 4 bagian test dan train\n",
    "X_train, X_test, y_train, y_test = train_test_split(X,y, test_size=0.2, random_state=15)\n",
    "\n",
    "# Menampilkan ukuran dari masing-masing train dan test set\n",
    "print('Ukuran dari Train-Set : ', X_train.shape)\n",
    "print('Ukuran dari Test-Set  : ', X_test.shape)"
   ]
  },
  {
   "cell_type": "markdown",
   "metadata": {},
   "source": [
    "## Missing Values"
   ]
  },
  {
   "cell_type": "code",
   "execution_count": 28,
   "metadata": {},
   "outputs": [
    {
     "name": "stdout",
     "output_type": "stream",
     "text": [
      "Missing Values Train-set : False\n",
      "Missing Values Test-set : False\n"
     ]
    }
   ],
   "source": [
    "# Melihat apakah ada null values pada dataframe\n",
    "print('Missing Values Train-set :',X_train.isnull().values.any())\n",
    "print('Missing Values Test-set :',X_test.isnull().values.any())"
   ]
  },
  {
   "cell_type": "markdown",
   "metadata": {},
   "source": [
    "Tidak ada missing values pada data, Oleh karena itu saya akan langsung melanjutkan ke handling outliers."
   ]
  },
  {
   "cell_type": "markdown",
   "metadata": {},
   "source": [
    "## Outliers"
   ]
  },
  {
   "cell_type": "markdown",
   "metadata": {},
   "source": [
    "Dapat dilihat pada bagian EDA diatas, terdapat outliers yang signifikan pada dataset terutama pada kolom bill dan pay. \n",
    "\n",
    "Namun nilai outliers tersebut merupakan nilai murni yang mencerminkan keunikan dari data. Outliers tersebut bukan berasal dari error atau salahnya input data. Melainkan memang ada orang yang benar-benar kaya dan memiliki bill serta pay yang jauh lebih tinggi dari kebanyakan orang lainnya. Oleh karena itu saya akan membiarkan outliers yang ada sebagai Real-world representation dimana dikehidupan nyata memang ada orang-orang tertentu yang memiliki limit, bill, pay yang jauh lebih tinggi dari kebanyakan orang lainnya. Jika saya menghilangkan atau memanipulasi data itu akan menjadikan model yang akan dibuat nanti menjadi tidak akurat ketika memprediksi extreme values yang benar-benar ada di kehidupan nyata.\n",
    "\n",
    "Singkatnya saya ga akan menghapus atau imputasi ataupun winsorize nilai outliers dikarenakan saya tidak ingin menghilangkan valuable information. Jadi saya akan langsung lanjut ke Feature Scaling"
   ]
  },
  {
   "cell_type": "markdown",
   "metadata": {},
   "source": [
    "## Feature Scaling"
   ]
  },
  {
   "cell_type": "markdown",
   "metadata": {},
   "source": [
    "Untuk Scaler yang saya gunakan, saya tidak menggunakan StandardScaler, dikarenakan cara kerja scaler ini mengasumsikan dataset yang terdistribusi normal, dikasus ini data tidak terdistribusi normal dan bisa menyebabkan terjadinya distorsi saat melakukan scaling. Sedangkan MinMaxScaler memang bisa diaplikasikan pada data yang tidak terdistribusi normal namun untuk kasus ini saya menemukan bahwa penggunaan minmaxscaler masih belum optimal dikarenakan tingginya skew pada data. \n",
    "\n",
    "Untuk itu, scaler yang akan saya gunakan adalah RobustScaler, Alasannya dikarenakan pada visualisasi EDA diatas dapat dilihat bahwa kebanyakan dari kolom terutama pada kolom pay dan bill memiliki distribusi yang tidak normal atau memiliki outliers yang cukup signifikan. Dengan menggunakan robustscaler, scaler ini akan menskalakan datanya berdasarkan interquantile range antara quartil 1 dan quartil 3. Dengan begitu scaler ini bisa lebih robust terhadap outliers. "
   ]
  },
  {
   "cell_type": "code",
   "execution_count": 29,
   "metadata": {},
   "outputs": [],
   "source": [
    "# Menampung fitur yang tergolong numerik kedalam list\n",
    "numeric_features = [\n",
    "    'age','limit',\n",
    "    'status_sept', 'status_aug','status_july','status_june','status_may','status_apr',\n",
    "    'bill_sept','bill_aug','bill_july','bill_june','bill_may','bill_apr',\n",
    "    'pay_sept','pay_aug','pay_july','pay_june','pay_may','pay_apr'\n",
    "    ]\n",
    "\n",
    "# Membuat Pipeline untuk numerik scaler\n",
    "numeric_transformer = Pipeline(\n",
    "    steps=[(\"scaler\", RobustScaler())]\n",
    ")"
   ]
  },
  {
   "cell_type": "markdown",
   "metadata": {},
   "source": [
    "## Feature Encoding"
   ]
  },
  {
   "cell_type": "markdown",
   "metadata": {},
   "source": [
    "Untuk bagian encoding, saya menggunakan OneHotEncoder. Alasannya, pada kolom `sex` dan `marriage` tidak memiliki tingkatan ataupun order. Sebagai contoh pada kolom sex, value male dan female berada pada urutan hirearki yang sama. Sedangkan pada kolom `education` itu memang memiliki tingkatan atau order, namun pada kolom tersebut terdapat value Others. Saya gak bisa menempatkan others ini ke tempat yang lebih rendah dari value yang lain maupun ditempat yang lebih tinggi.\n",
    "\n",
    "oleh karena itu saya tidak akan menggunakan OrdinalEncoder terhadap kolom tersebut dan untuk mempersimple pengerjaan saya akan menggunakan OneHotEncoder saja terhadap semua kolom kategorik."
   ]
  },
  {
   "cell_type": "code",
   "execution_count": 30,
   "metadata": {},
   "outputs": [],
   "source": [
    "# Menampung fitur yang tergolong kategorik kedalam list\n",
    "categorical_features = ['sex','education','marriage']\n",
    "\n",
    "# Membuat Pipeline untuk kategorik encoder\n",
    "categorical_transformer = Pipeline(\n",
    "    steps=[(\"encoder\", OneHotEncoder(handle_unknown='ignore'))]\n",
    ")"
   ]
  },
  {
   "cell_type": "markdown",
   "metadata": {},
   "source": [
    "## Merge Columns"
   ]
  },
  {
   "cell_type": "markdown",
   "metadata": {},
   "source": [
    "Menggabungkan kedua kolom yang akan diencode dan discale tadi menggunakan column transformer"
   ]
  },
  {
   "cell_type": "code",
   "execution_count": 31,
   "metadata": {},
   "outputs": [],
   "source": [
    "# Membuat Column transformer untuk melakukan scaling dan encoding dan menggabungkan kedua tipe data tersebut\n",
    "preprocessor = ColumnTransformer(\n",
    "    transformers=[\n",
    "        (\"num\", numeric_transformer, numeric_features),\n",
    "        (\"cat\", categorical_transformer, categorical_features)],\n",
    "        remainder = 'passthrough' # Untuk melewatkan selain fitur yg di transform\n",
    ")"
   ]
  },
  {
   "cell_type": "markdown",
   "metadata": {},
   "source": [
    "# 7. Model Definition"
   ]
  },
  {
   "cell_type": "markdown",
   "metadata": {},
   "source": [
    "Pada model definition, saya akan menggunakan baseline model terlebih dahulu pada model-model berikut, Logistic Regression, SVM, Decision Tree, Random Forest, KNN, Naive Bayes. Setelah saya melihat model mana yang paling baik scorenya dalam cross validation saya akan melakukan hyperparameter tuning terhadap model tersebut untuk melihat apakah peforma modelnya masih bisa ditingkatkan."
   ]
  },
  {
   "cell_type": "code",
   "execution_count": 32,
   "metadata": {},
   "outputs": [],
   "source": [
    "# Membuat Pipeline untuk Logistic Regression\n",
    "pipe_logreg = Pipeline([\n",
    "    ('preprocessor', preprocessor), \n",
    "    ('logreg', LogisticRegression())\n",
    "])"
   ]
  },
  {
   "cell_type": "code",
   "execution_count": 33,
   "metadata": {},
   "outputs": [],
   "source": [
    "# Membuat Pipeline untuk SVM\n",
    "pipe_svc = Pipeline([\n",
    "    ('preprocessor', preprocessor), \n",
    "    ('svm', SVC(probability=True))\n",
    "])"
   ]
  },
  {
   "cell_type": "code",
   "execution_count": 34,
   "metadata": {},
   "outputs": [],
   "source": [
    "# Membuat Pipeline untuk Decision Tree\n",
    "pipe_tree = Pipeline([\n",
    "    ('preprocessor', preprocessor), \n",
    "    ('tree', DecisionTreeClassifier())\n",
    "])"
   ]
  },
  {
   "cell_type": "code",
   "execution_count": 35,
   "metadata": {},
   "outputs": [],
   "source": [
    "# Membuat Pipeline untuk Random Forest\n",
    "pipe_forest = Pipeline([\n",
    "    ('preprocessor', preprocessor), \n",
    "    ('forest', RandomForestClassifier())\n",
    "])"
   ]
  },
  {
   "cell_type": "code",
   "execution_count": 36,
   "metadata": {},
   "outputs": [],
   "source": [
    "# Membuat Pipeline untuk KNN\n",
    "pipe_knn = Pipeline([\n",
    "    ('preprocessor', preprocessor), \n",
    "    ('knn', KNeighborsClassifier())\n",
    "])"
   ]
  },
  {
   "cell_type": "code",
   "execution_count": 37,
   "metadata": {},
   "outputs": [],
   "source": [
    "# Membuat Pipeline untuk Naive Bayes\n",
    "pipe_nb = Pipeline([\n",
    "    ('preprocessor', preprocessor), \n",
    "    ('nb', GaussianNB())\n",
    "])"
   ]
  },
  {
   "cell_type": "markdown",
   "metadata": {},
   "source": [
    "# 8. Model Training"
   ]
  },
  {
   "cell_type": "markdown",
   "metadata": {},
   "source": [
    "Disini saya akan fit semua modelnya terhadap X_train dan y_train menggunakan pipeline yang sudah dibuat diatas."
   ]
  },
  {
   "cell_type": "code",
   "execution_count": 38,
   "metadata": {},
   "outputs": [
    {
     "name": "stderr",
     "output_type": "stream",
     "text": [
      "c:\\Users\\zidny\\miniconda3\\lib\\site-packages\\sklearn\\linear_model\\_logistic.py:458: ConvergenceWarning: lbfgs failed to converge (status=1):\n",
      "STOP: TOTAL NO. of ITERATIONS REACHED LIMIT.\n",
      "\n",
      "Increase the number of iterations (max_iter) or scale the data as shown in:\n",
      "    https://scikit-learn.org/stable/modules/preprocessing.html\n",
      "Please also refer to the documentation for alternative solver options:\n",
      "    https://scikit-learn.org/stable/modules/linear_model.html#logistic-regression\n",
      "  n_iter_i = _check_optimize_result(\n"
     ]
    },
    {
     "data": {
      "text/html": [
       "<style>#sk-container-id-1 {color: black;background-color: white;}#sk-container-id-1 pre{padding: 0;}#sk-container-id-1 div.sk-toggleable {background-color: white;}#sk-container-id-1 label.sk-toggleable__label {cursor: pointer;display: block;width: 100%;margin-bottom: 0;padding: 0.3em;box-sizing: border-box;text-align: center;}#sk-container-id-1 label.sk-toggleable__label-arrow:before {content: \"▸\";float: left;margin-right: 0.25em;color: #696969;}#sk-container-id-1 label.sk-toggleable__label-arrow:hover:before {color: black;}#sk-container-id-1 div.sk-estimator:hover label.sk-toggleable__label-arrow:before {color: black;}#sk-container-id-1 div.sk-toggleable__content {max-height: 0;max-width: 0;overflow: hidden;text-align: left;background-color: #f0f8ff;}#sk-container-id-1 div.sk-toggleable__content pre {margin: 0.2em;color: black;border-radius: 0.25em;background-color: #f0f8ff;}#sk-container-id-1 input.sk-toggleable__control:checked~div.sk-toggleable__content {max-height: 200px;max-width: 100%;overflow: auto;}#sk-container-id-1 input.sk-toggleable__control:checked~label.sk-toggleable__label-arrow:before {content: \"▾\";}#sk-container-id-1 div.sk-estimator input.sk-toggleable__control:checked~label.sk-toggleable__label {background-color: #d4ebff;}#sk-container-id-1 div.sk-label input.sk-toggleable__control:checked~label.sk-toggleable__label {background-color: #d4ebff;}#sk-container-id-1 input.sk-hidden--visually {border: 0;clip: rect(1px 1px 1px 1px);clip: rect(1px, 1px, 1px, 1px);height: 1px;margin: -1px;overflow: hidden;padding: 0;position: absolute;width: 1px;}#sk-container-id-1 div.sk-estimator {font-family: monospace;background-color: #f0f8ff;border: 1px dotted black;border-radius: 0.25em;box-sizing: border-box;margin-bottom: 0.5em;}#sk-container-id-1 div.sk-estimator:hover {background-color: #d4ebff;}#sk-container-id-1 div.sk-parallel-item::after {content: \"\";width: 100%;border-bottom: 1px solid gray;flex-grow: 1;}#sk-container-id-1 div.sk-label:hover label.sk-toggleable__label {background-color: #d4ebff;}#sk-container-id-1 div.sk-serial::before {content: \"\";position: absolute;border-left: 1px solid gray;box-sizing: border-box;top: 0;bottom: 0;left: 50%;z-index: 0;}#sk-container-id-1 div.sk-serial {display: flex;flex-direction: column;align-items: center;background-color: white;padding-right: 0.2em;padding-left: 0.2em;position: relative;}#sk-container-id-1 div.sk-item {position: relative;z-index: 1;}#sk-container-id-1 div.sk-parallel {display: flex;align-items: stretch;justify-content: center;background-color: white;position: relative;}#sk-container-id-1 div.sk-item::before, #sk-container-id-1 div.sk-parallel-item::before {content: \"\";position: absolute;border-left: 1px solid gray;box-sizing: border-box;top: 0;bottom: 0;left: 50%;z-index: -1;}#sk-container-id-1 div.sk-parallel-item {display: flex;flex-direction: column;z-index: 1;position: relative;background-color: white;}#sk-container-id-1 div.sk-parallel-item:first-child::after {align-self: flex-end;width: 50%;}#sk-container-id-1 div.sk-parallel-item:last-child::after {align-self: flex-start;width: 50%;}#sk-container-id-1 div.sk-parallel-item:only-child::after {width: 0;}#sk-container-id-1 div.sk-dashed-wrapped {border: 1px dashed gray;margin: 0 0.4em 0.5em 0.4em;box-sizing: border-box;padding-bottom: 0.4em;background-color: white;}#sk-container-id-1 div.sk-label label {font-family: monospace;font-weight: bold;display: inline-block;line-height: 1.2em;}#sk-container-id-1 div.sk-label-container {text-align: center;}#sk-container-id-1 div.sk-container {/* jupyter's `normalize.less` sets `[hidden] { display: none; }` but bootstrap.min.css set `[hidden] { display: none !important; }` so we also need the `!important` here to be able to override the default hidden behavior on the sphinx rendered scikit-learn.org. See: https://github.com/scikit-learn/scikit-learn/issues/21755 */display: inline-block !important;position: relative;}#sk-container-id-1 div.sk-text-repr-fallback {display: none;}</style><div id=\"sk-container-id-1\" class=\"sk-top-container\"><div class=\"sk-text-repr-fallback\"><pre>Pipeline(steps=[(&#x27;preprocessor&#x27;,\n",
       "                 ColumnTransformer(remainder=&#x27;passthrough&#x27;,\n",
       "                                   transformers=[(&#x27;num&#x27;,\n",
       "                                                  Pipeline(steps=[(&#x27;scaler&#x27;,\n",
       "                                                                   RobustScaler())]),\n",
       "                                                  [&#x27;age&#x27;, &#x27;limit&#x27;,\n",
       "                                                   &#x27;status_sept&#x27;, &#x27;status_aug&#x27;,\n",
       "                                                   &#x27;status_july&#x27;, &#x27;status_june&#x27;,\n",
       "                                                   &#x27;status_may&#x27;, &#x27;status_apr&#x27;,\n",
       "                                                   &#x27;bill_sept&#x27;, &#x27;bill_aug&#x27;,\n",
       "                                                   &#x27;bill_july&#x27;, &#x27;bill_june&#x27;,\n",
       "                                                   &#x27;bill_may&#x27;, &#x27;bill_apr&#x27;,\n",
       "                                                   &#x27;pay_sept&#x27;, &#x27;pay_aug&#x27;,\n",
       "                                                   &#x27;pay_july&#x27;, &#x27;pay_june&#x27;,\n",
       "                                                   &#x27;pay_may&#x27;, &#x27;pay_apr&#x27;]),\n",
       "                                                 (&#x27;cat&#x27;,\n",
       "                                                  Pipeline(steps=[(&#x27;encoder&#x27;,\n",
       "                                                                   OneHotEncoder(handle_unknown=&#x27;ignore&#x27;))]),\n",
       "                                                  [&#x27;sex&#x27;, &#x27;education&#x27;,\n",
       "                                                   &#x27;marriage&#x27;])])),\n",
       "                (&#x27;logreg&#x27;, LogisticRegression())])</pre><b>In a Jupyter environment, please rerun this cell to show the HTML representation or trust the notebook. <br />On GitHub, the HTML representation is unable to render, please try loading this page with nbviewer.org.</b></div><div class=\"sk-container\" hidden><div class=\"sk-item sk-dashed-wrapped\"><div class=\"sk-label-container\"><div class=\"sk-label sk-toggleable\"><input class=\"sk-toggleable__control sk-hidden--visually\" id=\"sk-estimator-id-1\" type=\"checkbox\" ><label for=\"sk-estimator-id-1\" class=\"sk-toggleable__label sk-toggleable__label-arrow\">Pipeline</label><div class=\"sk-toggleable__content\"><pre>Pipeline(steps=[(&#x27;preprocessor&#x27;,\n",
       "                 ColumnTransformer(remainder=&#x27;passthrough&#x27;,\n",
       "                                   transformers=[(&#x27;num&#x27;,\n",
       "                                                  Pipeline(steps=[(&#x27;scaler&#x27;,\n",
       "                                                                   RobustScaler())]),\n",
       "                                                  [&#x27;age&#x27;, &#x27;limit&#x27;,\n",
       "                                                   &#x27;status_sept&#x27;, &#x27;status_aug&#x27;,\n",
       "                                                   &#x27;status_july&#x27;, &#x27;status_june&#x27;,\n",
       "                                                   &#x27;status_may&#x27;, &#x27;status_apr&#x27;,\n",
       "                                                   &#x27;bill_sept&#x27;, &#x27;bill_aug&#x27;,\n",
       "                                                   &#x27;bill_july&#x27;, &#x27;bill_june&#x27;,\n",
       "                                                   &#x27;bill_may&#x27;, &#x27;bill_apr&#x27;,\n",
       "                                                   &#x27;pay_sept&#x27;, &#x27;pay_aug&#x27;,\n",
       "                                                   &#x27;pay_july&#x27;, &#x27;pay_june&#x27;,\n",
       "                                                   &#x27;pay_may&#x27;, &#x27;pay_apr&#x27;]),\n",
       "                                                 (&#x27;cat&#x27;,\n",
       "                                                  Pipeline(steps=[(&#x27;encoder&#x27;,\n",
       "                                                                   OneHotEncoder(handle_unknown=&#x27;ignore&#x27;))]),\n",
       "                                                  [&#x27;sex&#x27;, &#x27;education&#x27;,\n",
       "                                                   &#x27;marriage&#x27;])])),\n",
       "                (&#x27;logreg&#x27;, LogisticRegression())])</pre></div></div></div><div class=\"sk-serial\"><div class=\"sk-item sk-dashed-wrapped\"><div class=\"sk-label-container\"><div class=\"sk-label sk-toggleable\"><input class=\"sk-toggleable__control sk-hidden--visually\" id=\"sk-estimator-id-2\" type=\"checkbox\" ><label for=\"sk-estimator-id-2\" class=\"sk-toggleable__label sk-toggleable__label-arrow\">preprocessor: ColumnTransformer</label><div class=\"sk-toggleable__content\"><pre>ColumnTransformer(remainder=&#x27;passthrough&#x27;,\n",
       "                  transformers=[(&#x27;num&#x27;,\n",
       "                                 Pipeline(steps=[(&#x27;scaler&#x27;, RobustScaler())]),\n",
       "                                 [&#x27;age&#x27;, &#x27;limit&#x27;, &#x27;status_sept&#x27;, &#x27;status_aug&#x27;,\n",
       "                                  &#x27;status_july&#x27;, &#x27;status_june&#x27;, &#x27;status_may&#x27;,\n",
       "                                  &#x27;status_apr&#x27;, &#x27;bill_sept&#x27;, &#x27;bill_aug&#x27;,\n",
       "                                  &#x27;bill_july&#x27;, &#x27;bill_june&#x27;, &#x27;bill_may&#x27;,\n",
       "                                  &#x27;bill_apr&#x27;, &#x27;pay_sept&#x27;, &#x27;pay_aug&#x27;, &#x27;pay_july&#x27;,\n",
       "                                  &#x27;pay_june&#x27;, &#x27;pay_may&#x27;, &#x27;pay_apr&#x27;]),\n",
       "                                (&#x27;cat&#x27;,\n",
       "                                 Pipeline(steps=[(&#x27;encoder&#x27;,\n",
       "                                                  OneHotEncoder(handle_unknown=&#x27;ignore&#x27;))]),\n",
       "                                 [&#x27;sex&#x27;, &#x27;education&#x27;, &#x27;marriage&#x27;])])</pre></div></div></div><div class=\"sk-parallel\"><div class=\"sk-parallel-item\"><div class=\"sk-item\"><div class=\"sk-label-container\"><div class=\"sk-label sk-toggleable\"><input class=\"sk-toggleable__control sk-hidden--visually\" id=\"sk-estimator-id-3\" type=\"checkbox\" ><label for=\"sk-estimator-id-3\" class=\"sk-toggleable__label sk-toggleable__label-arrow\">num</label><div class=\"sk-toggleable__content\"><pre>[&#x27;age&#x27;, &#x27;limit&#x27;, &#x27;status_sept&#x27;, &#x27;status_aug&#x27;, &#x27;status_july&#x27;, &#x27;status_june&#x27;, &#x27;status_may&#x27;, &#x27;status_apr&#x27;, &#x27;bill_sept&#x27;, &#x27;bill_aug&#x27;, &#x27;bill_july&#x27;, &#x27;bill_june&#x27;, &#x27;bill_may&#x27;, &#x27;bill_apr&#x27;, &#x27;pay_sept&#x27;, &#x27;pay_aug&#x27;, &#x27;pay_july&#x27;, &#x27;pay_june&#x27;, &#x27;pay_may&#x27;, &#x27;pay_apr&#x27;]</pre></div></div></div><div class=\"sk-serial\"><div class=\"sk-item\"><div class=\"sk-serial\"><div class=\"sk-item\"><div class=\"sk-estimator sk-toggleable\"><input class=\"sk-toggleable__control sk-hidden--visually\" id=\"sk-estimator-id-4\" type=\"checkbox\" ><label for=\"sk-estimator-id-4\" class=\"sk-toggleable__label sk-toggleable__label-arrow\">RobustScaler</label><div class=\"sk-toggleable__content\"><pre>RobustScaler()</pre></div></div></div></div></div></div></div></div><div class=\"sk-parallel-item\"><div class=\"sk-item\"><div class=\"sk-label-container\"><div class=\"sk-label sk-toggleable\"><input class=\"sk-toggleable__control sk-hidden--visually\" id=\"sk-estimator-id-5\" type=\"checkbox\" ><label for=\"sk-estimator-id-5\" class=\"sk-toggleable__label sk-toggleable__label-arrow\">cat</label><div class=\"sk-toggleable__content\"><pre>[&#x27;sex&#x27;, &#x27;education&#x27;, &#x27;marriage&#x27;]</pre></div></div></div><div class=\"sk-serial\"><div class=\"sk-item\"><div class=\"sk-serial\"><div class=\"sk-item\"><div class=\"sk-estimator sk-toggleable\"><input class=\"sk-toggleable__control sk-hidden--visually\" id=\"sk-estimator-id-6\" type=\"checkbox\" ><label for=\"sk-estimator-id-6\" class=\"sk-toggleable__label sk-toggleable__label-arrow\">OneHotEncoder</label><div class=\"sk-toggleable__content\"><pre>OneHotEncoder(handle_unknown=&#x27;ignore&#x27;)</pre></div></div></div></div></div></div></div></div><div class=\"sk-parallel-item\"><div class=\"sk-item\"><div class=\"sk-label-container\"><div class=\"sk-label sk-toggleable\"><input class=\"sk-toggleable__control sk-hidden--visually\" id=\"sk-estimator-id-7\" type=\"checkbox\" ><label for=\"sk-estimator-id-7\" class=\"sk-toggleable__label sk-toggleable__label-arrow\">remainder</label><div class=\"sk-toggleable__content\"><pre>[]</pre></div></div></div><div class=\"sk-serial\"><div class=\"sk-item\"><div class=\"sk-estimator sk-toggleable\"><input class=\"sk-toggleable__control sk-hidden--visually\" id=\"sk-estimator-id-8\" type=\"checkbox\" ><label for=\"sk-estimator-id-8\" class=\"sk-toggleable__label sk-toggleable__label-arrow\">passthrough</label><div class=\"sk-toggleable__content\"><pre>passthrough</pre></div></div></div></div></div></div></div></div><div class=\"sk-item\"><div class=\"sk-estimator sk-toggleable\"><input class=\"sk-toggleable__control sk-hidden--visually\" id=\"sk-estimator-id-9\" type=\"checkbox\" ><label for=\"sk-estimator-id-9\" class=\"sk-toggleable__label sk-toggleable__label-arrow\">LogisticRegression</label><div class=\"sk-toggleable__content\"><pre>LogisticRegression()</pre></div></div></div></div></div></div></div>"
      ],
      "text/plain": [
       "Pipeline(steps=[('preprocessor',\n",
       "                 ColumnTransformer(remainder='passthrough',\n",
       "                                   transformers=[('num',\n",
       "                                                  Pipeline(steps=[('scaler',\n",
       "                                                                   RobustScaler())]),\n",
       "                                                  ['age', 'limit',\n",
       "                                                   'status_sept', 'status_aug',\n",
       "                                                   'status_july', 'status_june',\n",
       "                                                   'status_may', 'status_apr',\n",
       "                                                   'bill_sept', 'bill_aug',\n",
       "                                                   'bill_july', 'bill_june',\n",
       "                                                   'bill_may', 'bill_apr',\n",
       "                                                   'pay_sept', 'pay_aug',\n",
       "                                                   'pay_july', 'pay_june',\n",
       "                                                   'pay_may', 'pay_apr']),\n",
       "                                                 ('cat',\n",
       "                                                  Pipeline(steps=[('encoder',\n",
       "                                                                   OneHotEncoder(handle_unknown='ignore'))]),\n",
       "                                                  ['sex', 'education',\n",
       "                                                   'marriage'])])),\n",
       "                ('logreg', LogisticRegression())])"
      ]
     },
     "execution_count": 38,
     "metadata": {},
     "output_type": "execute_result"
    }
   ],
   "source": [
    "# Train Logistic Regression\n",
    "pipe_logreg.fit(X_train, y_train)"
   ]
  },
  {
   "cell_type": "code",
   "execution_count": 39,
   "metadata": {},
   "outputs": [
    {
     "data": {
      "text/html": [
       "<style>#sk-container-id-2 {color: black;background-color: white;}#sk-container-id-2 pre{padding: 0;}#sk-container-id-2 div.sk-toggleable {background-color: white;}#sk-container-id-2 label.sk-toggleable__label {cursor: pointer;display: block;width: 100%;margin-bottom: 0;padding: 0.3em;box-sizing: border-box;text-align: center;}#sk-container-id-2 label.sk-toggleable__label-arrow:before {content: \"▸\";float: left;margin-right: 0.25em;color: #696969;}#sk-container-id-2 label.sk-toggleable__label-arrow:hover:before {color: black;}#sk-container-id-2 div.sk-estimator:hover label.sk-toggleable__label-arrow:before {color: black;}#sk-container-id-2 div.sk-toggleable__content {max-height: 0;max-width: 0;overflow: hidden;text-align: left;background-color: #f0f8ff;}#sk-container-id-2 div.sk-toggleable__content pre {margin: 0.2em;color: black;border-radius: 0.25em;background-color: #f0f8ff;}#sk-container-id-2 input.sk-toggleable__control:checked~div.sk-toggleable__content {max-height: 200px;max-width: 100%;overflow: auto;}#sk-container-id-2 input.sk-toggleable__control:checked~label.sk-toggleable__label-arrow:before {content: \"▾\";}#sk-container-id-2 div.sk-estimator input.sk-toggleable__control:checked~label.sk-toggleable__label {background-color: #d4ebff;}#sk-container-id-2 div.sk-label input.sk-toggleable__control:checked~label.sk-toggleable__label {background-color: #d4ebff;}#sk-container-id-2 input.sk-hidden--visually {border: 0;clip: rect(1px 1px 1px 1px);clip: rect(1px, 1px, 1px, 1px);height: 1px;margin: -1px;overflow: hidden;padding: 0;position: absolute;width: 1px;}#sk-container-id-2 div.sk-estimator {font-family: monospace;background-color: #f0f8ff;border: 1px dotted black;border-radius: 0.25em;box-sizing: border-box;margin-bottom: 0.5em;}#sk-container-id-2 div.sk-estimator:hover {background-color: #d4ebff;}#sk-container-id-2 div.sk-parallel-item::after {content: \"\";width: 100%;border-bottom: 1px solid gray;flex-grow: 1;}#sk-container-id-2 div.sk-label:hover label.sk-toggleable__label {background-color: #d4ebff;}#sk-container-id-2 div.sk-serial::before {content: \"\";position: absolute;border-left: 1px solid gray;box-sizing: border-box;top: 0;bottom: 0;left: 50%;z-index: 0;}#sk-container-id-2 div.sk-serial {display: flex;flex-direction: column;align-items: center;background-color: white;padding-right: 0.2em;padding-left: 0.2em;position: relative;}#sk-container-id-2 div.sk-item {position: relative;z-index: 1;}#sk-container-id-2 div.sk-parallel {display: flex;align-items: stretch;justify-content: center;background-color: white;position: relative;}#sk-container-id-2 div.sk-item::before, #sk-container-id-2 div.sk-parallel-item::before {content: \"\";position: absolute;border-left: 1px solid gray;box-sizing: border-box;top: 0;bottom: 0;left: 50%;z-index: -1;}#sk-container-id-2 div.sk-parallel-item {display: flex;flex-direction: column;z-index: 1;position: relative;background-color: white;}#sk-container-id-2 div.sk-parallel-item:first-child::after {align-self: flex-end;width: 50%;}#sk-container-id-2 div.sk-parallel-item:last-child::after {align-self: flex-start;width: 50%;}#sk-container-id-2 div.sk-parallel-item:only-child::after {width: 0;}#sk-container-id-2 div.sk-dashed-wrapped {border: 1px dashed gray;margin: 0 0.4em 0.5em 0.4em;box-sizing: border-box;padding-bottom: 0.4em;background-color: white;}#sk-container-id-2 div.sk-label label {font-family: monospace;font-weight: bold;display: inline-block;line-height: 1.2em;}#sk-container-id-2 div.sk-label-container {text-align: center;}#sk-container-id-2 div.sk-container {/* jupyter's `normalize.less` sets `[hidden] { display: none; }` but bootstrap.min.css set `[hidden] { display: none !important; }` so we also need the `!important` here to be able to override the default hidden behavior on the sphinx rendered scikit-learn.org. See: https://github.com/scikit-learn/scikit-learn/issues/21755 */display: inline-block !important;position: relative;}#sk-container-id-2 div.sk-text-repr-fallback {display: none;}</style><div id=\"sk-container-id-2\" class=\"sk-top-container\"><div class=\"sk-text-repr-fallback\"><pre>Pipeline(steps=[(&#x27;preprocessor&#x27;,\n",
       "                 ColumnTransformer(remainder=&#x27;passthrough&#x27;,\n",
       "                                   transformers=[(&#x27;num&#x27;,\n",
       "                                                  Pipeline(steps=[(&#x27;scaler&#x27;,\n",
       "                                                                   RobustScaler())]),\n",
       "                                                  [&#x27;age&#x27;, &#x27;limit&#x27;,\n",
       "                                                   &#x27;status_sept&#x27;, &#x27;status_aug&#x27;,\n",
       "                                                   &#x27;status_july&#x27;, &#x27;status_june&#x27;,\n",
       "                                                   &#x27;status_may&#x27;, &#x27;status_apr&#x27;,\n",
       "                                                   &#x27;bill_sept&#x27;, &#x27;bill_aug&#x27;,\n",
       "                                                   &#x27;bill_july&#x27;, &#x27;bill_june&#x27;,\n",
       "                                                   &#x27;bill_may&#x27;, &#x27;bill_apr&#x27;,\n",
       "                                                   &#x27;pay_sept&#x27;, &#x27;pay_aug&#x27;,\n",
       "                                                   &#x27;pay_july&#x27;, &#x27;pay_june&#x27;,\n",
       "                                                   &#x27;pay_may&#x27;, &#x27;pay_apr&#x27;]),\n",
       "                                                 (&#x27;cat&#x27;,\n",
       "                                                  Pipeline(steps=[(&#x27;encoder&#x27;,\n",
       "                                                                   OneHotEncoder(handle_unknown=&#x27;ignore&#x27;))]),\n",
       "                                                  [&#x27;sex&#x27;, &#x27;education&#x27;,\n",
       "                                                   &#x27;marriage&#x27;])])),\n",
       "                (&#x27;svm&#x27;, SVC(probability=True))])</pre><b>In a Jupyter environment, please rerun this cell to show the HTML representation or trust the notebook. <br />On GitHub, the HTML representation is unable to render, please try loading this page with nbviewer.org.</b></div><div class=\"sk-container\" hidden><div class=\"sk-item sk-dashed-wrapped\"><div class=\"sk-label-container\"><div class=\"sk-label sk-toggleable\"><input class=\"sk-toggleable__control sk-hidden--visually\" id=\"sk-estimator-id-10\" type=\"checkbox\" ><label for=\"sk-estimator-id-10\" class=\"sk-toggleable__label sk-toggleable__label-arrow\">Pipeline</label><div class=\"sk-toggleable__content\"><pre>Pipeline(steps=[(&#x27;preprocessor&#x27;,\n",
       "                 ColumnTransformer(remainder=&#x27;passthrough&#x27;,\n",
       "                                   transformers=[(&#x27;num&#x27;,\n",
       "                                                  Pipeline(steps=[(&#x27;scaler&#x27;,\n",
       "                                                                   RobustScaler())]),\n",
       "                                                  [&#x27;age&#x27;, &#x27;limit&#x27;,\n",
       "                                                   &#x27;status_sept&#x27;, &#x27;status_aug&#x27;,\n",
       "                                                   &#x27;status_july&#x27;, &#x27;status_june&#x27;,\n",
       "                                                   &#x27;status_may&#x27;, &#x27;status_apr&#x27;,\n",
       "                                                   &#x27;bill_sept&#x27;, &#x27;bill_aug&#x27;,\n",
       "                                                   &#x27;bill_july&#x27;, &#x27;bill_june&#x27;,\n",
       "                                                   &#x27;bill_may&#x27;, &#x27;bill_apr&#x27;,\n",
       "                                                   &#x27;pay_sept&#x27;, &#x27;pay_aug&#x27;,\n",
       "                                                   &#x27;pay_july&#x27;, &#x27;pay_june&#x27;,\n",
       "                                                   &#x27;pay_may&#x27;, &#x27;pay_apr&#x27;]),\n",
       "                                                 (&#x27;cat&#x27;,\n",
       "                                                  Pipeline(steps=[(&#x27;encoder&#x27;,\n",
       "                                                                   OneHotEncoder(handle_unknown=&#x27;ignore&#x27;))]),\n",
       "                                                  [&#x27;sex&#x27;, &#x27;education&#x27;,\n",
       "                                                   &#x27;marriage&#x27;])])),\n",
       "                (&#x27;svm&#x27;, SVC(probability=True))])</pre></div></div></div><div class=\"sk-serial\"><div class=\"sk-item sk-dashed-wrapped\"><div class=\"sk-label-container\"><div class=\"sk-label sk-toggleable\"><input class=\"sk-toggleable__control sk-hidden--visually\" id=\"sk-estimator-id-11\" type=\"checkbox\" ><label for=\"sk-estimator-id-11\" class=\"sk-toggleable__label sk-toggleable__label-arrow\">preprocessor: ColumnTransformer</label><div class=\"sk-toggleable__content\"><pre>ColumnTransformer(remainder=&#x27;passthrough&#x27;,\n",
       "                  transformers=[(&#x27;num&#x27;,\n",
       "                                 Pipeline(steps=[(&#x27;scaler&#x27;, RobustScaler())]),\n",
       "                                 [&#x27;age&#x27;, &#x27;limit&#x27;, &#x27;status_sept&#x27;, &#x27;status_aug&#x27;,\n",
       "                                  &#x27;status_july&#x27;, &#x27;status_june&#x27;, &#x27;status_may&#x27;,\n",
       "                                  &#x27;status_apr&#x27;, &#x27;bill_sept&#x27;, &#x27;bill_aug&#x27;,\n",
       "                                  &#x27;bill_july&#x27;, &#x27;bill_june&#x27;, &#x27;bill_may&#x27;,\n",
       "                                  &#x27;bill_apr&#x27;, &#x27;pay_sept&#x27;, &#x27;pay_aug&#x27;, &#x27;pay_july&#x27;,\n",
       "                                  &#x27;pay_june&#x27;, &#x27;pay_may&#x27;, &#x27;pay_apr&#x27;]),\n",
       "                                (&#x27;cat&#x27;,\n",
       "                                 Pipeline(steps=[(&#x27;encoder&#x27;,\n",
       "                                                  OneHotEncoder(handle_unknown=&#x27;ignore&#x27;))]),\n",
       "                                 [&#x27;sex&#x27;, &#x27;education&#x27;, &#x27;marriage&#x27;])])</pre></div></div></div><div class=\"sk-parallel\"><div class=\"sk-parallel-item\"><div class=\"sk-item\"><div class=\"sk-label-container\"><div class=\"sk-label sk-toggleable\"><input class=\"sk-toggleable__control sk-hidden--visually\" id=\"sk-estimator-id-12\" type=\"checkbox\" ><label for=\"sk-estimator-id-12\" class=\"sk-toggleable__label sk-toggleable__label-arrow\">num</label><div class=\"sk-toggleable__content\"><pre>[&#x27;age&#x27;, &#x27;limit&#x27;, &#x27;status_sept&#x27;, &#x27;status_aug&#x27;, &#x27;status_july&#x27;, &#x27;status_june&#x27;, &#x27;status_may&#x27;, &#x27;status_apr&#x27;, &#x27;bill_sept&#x27;, &#x27;bill_aug&#x27;, &#x27;bill_july&#x27;, &#x27;bill_june&#x27;, &#x27;bill_may&#x27;, &#x27;bill_apr&#x27;, &#x27;pay_sept&#x27;, &#x27;pay_aug&#x27;, &#x27;pay_july&#x27;, &#x27;pay_june&#x27;, &#x27;pay_may&#x27;, &#x27;pay_apr&#x27;]</pre></div></div></div><div class=\"sk-serial\"><div class=\"sk-item\"><div class=\"sk-serial\"><div class=\"sk-item\"><div class=\"sk-estimator sk-toggleable\"><input class=\"sk-toggleable__control sk-hidden--visually\" id=\"sk-estimator-id-13\" type=\"checkbox\" ><label for=\"sk-estimator-id-13\" class=\"sk-toggleable__label sk-toggleable__label-arrow\">RobustScaler</label><div class=\"sk-toggleable__content\"><pre>RobustScaler()</pre></div></div></div></div></div></div></div></div><div class=\"sk-parallel-item\"><div class=\"sk-item\"><div class=\"sk-label-container\"><div class=\"sk-label sk-toggleable\"><input class=\"sk-toggleable__control sk-hidden--visually\" id=\"sk-estimator-id-14\" type=\"checkbox\" ><label for=\"sk-estimator-id-14\" class=\"sk-toggleable__label sk-toggleable__label-arrow\">cat</label><div class=\"sk-toggleable__content\"><pre>[&#x27;sex&#x27;, &#x27;education&#x27;, &#x27;marriage&#x27;]</pre></div></div></div><div class=\"sk-serial\"><div class=\"sk-item\"><div class=\"sk-serial\"><div class=\"sk-item\"><div class=\"sk-estimator sk-toggleable\"><input class=\"sk-toggleable__control sk-hidden--visually\" id=\"sk-estimator-id-15\" type=\"checkbox\" ><label for=\"sk-estimator-id-15\" class=\"sk-toggleable__label sk-toggleable__label-arrow\">OneHotEncoder</label><div class=\"sk-toggleable__content\"><pre>OneHotEncoder(handle_unknown=&#x27;ignore&#x27;)</pre></div></div></div></div></div></div></div></div><div class=\"sk-parallel-item\"><div class=\"sk-item\"><div class=\"sk-label-container\"><div class=\"sk-label sk-toggleable\"><input class=\"sk-toggleable__control sk-hidden--visually\" id=\"sk-estimator-id-16\" type=\"checkbox\" ><label for=\"sk-estimator-id-16\" class=\"sk-toggleable__label sk-toggleable__label-arrow\">remainder</label><div class=\"sk-toggleable__content\"><pre>[]</pre></div></div></div><div class=\"sk-serial\"><div class=\"sk-item\"><div class=\"sk-estimator sk-toggleable\"><input class=\"sk-toggleable__control sk-hidden--visually\" id=\"sk-estimator-id-17\" type=\"checkbox\" ><label for=\"sk-estimator-id-17\" class=\"sk-toggleable__label sk-toggleable__label-arrow\">passthrough</label><div class=\"sk-toggleable__content\"><pre>passthrough</pre></div></div></div></div></div></div></div></div><div class=\"sk-item\"><div class=\"sk-estimator sk-toggleable\"><input class=\"sk-toggleable__control sk-hidden--visually\" id=\"sk-estimator-id-18\" type=\"checkbox\" ><label for=\"sk-estimator-id-18\" class=\"sk-toggleable__label sk-toggleable__label-arrow\">SVC</label><div class=\"sk-toggleable__content\"><pre>SVC(probability=True)</pre></div></div></div></div></div></div></div>"
      ],
      "text/plain": [
       "Pipeline(steps=[('preprocessor',\n",
       "                 ColumnTransformer(remainder='passthrough',\n",
       "                                   transformers=[('num',\n",
       "                                                  Pipeline(steps=[('scaler',\n",
       "                                                                   RobustScaler())]),\n",
       "                                                  ['age', 'limit',\n",
       "                                                   'status_sept', 'status_aug',\n",
       "                                                   'status_july', 'status_june',\n",
       "                                                   'status_may', 'status_apr',\n",
       "                                                   'bill_sept', 'bill_aug',\n",
       "                                                   'bill_july', 'bill_june',\n",
       "                                                   'bill_may', 'bill_apr',\n",
       "                                                   'pay_sept', 'pay_aug',\n",
       "                                                   'pay_july', 'pay_june',\n",
       "                                                   'pay_may', 'pay_apr']),\n",
       "                                                 ('cat',\n",
       "                                                  Pipeline(steps=[('encoder',\n",
       "                                                                   OneHotEncoder(handle_unknown='ignore'))]),\n",
       "                                                  ['sex', 'education',\n",
       "                                                   'marriage'])])),\n",
       "                ('svm', SVC(probability=True))])"
      ]
     },
     "execution_count": 39,
     "metadata": {},
     "output_type": "execute_result"
    }
   ],
   "source": [
    "# Train Logistic SVM\n",
    "pipe_svc.fit(X_train, y_train)"
   ]
  },
  {
   "cell_type": "code",
   "execution_count": 40,
   "metadata": {},
   "outputs": [
    {
     "data": {
      "text/html": [
       "<style>#sk-container-id-3 {color: black;background-color: white;}#sk-container-id-3 pre{padding: 0;}#sk-container-id-3 div.sk-toggleable {background-color: white;}#sk-container-id-3 label.sk-toggleable__label {cursor: pointer;display: block;width: 100%;margin-bottom: 0;padding: 0.3em;box-sizing: border-box;text-align: center;}#sk-container-id-3 label.sk-toggleable__label-arrow:before {content: \"▸\";float: left;margin-right: 0.25em;color: #696969;}#sk-container-id-3 label.sk-toggleable__label-arrow:hover:before {color: black;}#sk-container-id-3 div.sk-estimator:hover label.sk-toggleable__label-arrow:before {color: black;}#sk-container-id-3 div.sk-toggleable__content {max-height: 0;max-width: 0;overflow: hidden;text-align: left;background-color: #f0f8ff;}#sk-container-id-3 div.sk-toggleable__content pre {margin: 0.2em;color: black;border-radius: 0.25em;background-color: #f0f8ff;}#sk-container-id-3 input.sk-toggleable__control:checked~div.sk-toggleable__content {max-height: 200px;max-width: 100%;overflow: auto;}#sk-container-id-3 input.sk-toggleable__control:checked~label.sk-toggleable__label-arrow:before {content: \"▾\";}#sk-container-id-3 div.sk-estimator input.sk-toggleable__control:checked~label.sk-toggleable__label {background-color: #d4ebff;}#sk-container-id-3 div.sk-label input.sk-toggleable__control:checked~label.sk-toggleable__label {background-color: #d4ebff;}#sk-container-id-3 input.sk-hidden--visually {border: 0;clip: rect(1px 1px 1px 1px);clip: rect(1px, 1px, 1px, 1px);height: 1px;margin: -1px;overflow: hidden;padding: 0;position: absolute;width: 1px;}#sk-container-id-3 div.sk-estimator {font-family: monospace;background-color: #f0f8ff;border: 1px dotted black;border-radius: 0.25em;box-sizing: border-box;margin-bottom: 0.5em;}#sk-container-id-3 div.sk-estimator:hover {background-color: #d4ebff;}#sk-container-id-3 div.sk-parallel-item::after {content: \"\";width: 100%;border-bottom: 1px solid gray;flex-grow: 1;}#sk-container-id-3 div.sk-label:hover label.sk-toggleable__label {background-color: #d4ebff;}#sk-container-id-3 div.sk-serial::before {content: \"\";position: absolute;border-left: 1px solid gray;box-sizing: border-box;top: 0;bottom: 0;left: 50%;z-index: 0;}#sk-container-id-3 div.sk-serial {display: flex;flex-direction: column;align-items: center;background-color: white;padding-right: 0.2em;padding-left: 0.2em;position: relative;}#sk-container-id-3 div.sk-item {position: relative;z-index: 1;}#sk-container-id-3 div.sk-parallel {display: flex;align-items: stretch;justify-content: center;background-color: white;position: relative;}#sk-container-id-3 div.sk-item::before, #sk-container-id-3 div.sk-parallel-item::before {content: \"\";position: absolute;border-left: 1px solid gray;box-sizing: border-box;top: 0;bottom: 0;left: 50%;z-index: -1;}#sk-container-id-3 div.sk-parallel-item {display: flex;flex-direction: column;z-index: 1;position: relative;background-color: white;}#sk-container-id-3 div.sk-parallel-item:first-child::after {align-self: flex-end;width: 50%;}#sk-container-id-3 div.sk-parallel-item:last-child::after {align-self: flex-start;width: 50%;}#sk-container-id-3 div.sk-parallel-item:only-child::after {width: 0;}#sk-container-id-3 div.sk-dashed-wrapped {border: 1px dashed gray;margin: 0 0.4em 0.5em 0.4em;box-sizing: border-box;padding-bottom: 0.4em;background-color: white;}#sk-container-id-3 div.sk-label label {font-family: monospace;font-weight: bold;display: inline-block;line-height: 1.2em;}#sk-container-id-3 div.sk-label-container {text-align: center;}#sk-container-id-3 div.sk-container {/* jupyter's `normalize.less` sets `[hidden] { display: none; }` but bootstrap.min.css set `[hidden] { display: none !important; }` so we also need the `!important` here to be able to override the default hidden behavior on the sphinx rendered scikit-learn.org. See: https://github.com/scikit-learn/scikit-learn/issues/21755 */display: inline-block !important;position: relative;}#sk-container-id-3 div.sk-text-repr-fallback {display: none;}</style><div id=\"sk-container-id-3\" class=\"sk-top-container\"><div class=\"sk-text-repr-fallback\"><pre>Pipeline(steps=[(&#x27;preprocessor&#x27;,\n",
       "                 ColumnTransformer(remainder=&#x27;passthrough&#x27;,\n",
       "                                   transformers=[(&#x27;num&#x27;,\n",
       "                                                  Pipeline(steps=[(&#x27;scaler&#x27;,\n",
       "                                                                   RobustScaler())]),\n",
       "                                                  [&#x27;age&#x27;, &#x27;limit&#x27;,\n",
       "                                                   &#x27;status_sept&#x27;, &#x27;status_aug&#x27;,\n",
       "                                                   &#x27;status_july&#x27;, &#x27;status_june&#x27;,\n",
       "                                                   &#x27;status_may&#x27;, &#x27;status_apr&#x27;,\n",
       "                                                   &#x27;bill_sept&#x27;, &#x27;bill_aug&#x27;,\n",
       "                                                   &#x27;bill_july&#x27;, &#x27;bill_june&#x27;,\n",
       "                                                   &#x27;bill_may&#x27;, &#x27;bill_apr&#x27;,\n",
       "                                                   &#x27;pay_sept&#x27;, &#x27;pay_aug&#x27;,\n",
       "                                                   &#x27;pay_july&#x27;, &#x27;pay_june&#x27;,\n",
       "                                                   &#x27;pay_may&#x27;, &#x27;pay_apr&#x27;]),\n",
       "                                                 (&#x27;cat&#x27;,\n",
       "                                                  Pipeline(steps=[(&#x27;encoder&#x27;,\n",
       "                                                                   OneHotEncoder(handle_unknown=&#x27;ignore&#x27;))]),\n",
       "                                                  [&#x27;sex&#x27;, &#x27;education&#x27;,\n",
       "                                                   &#x27;marriage&#x27;])])),\n",
       "                (&#x27;tree&#x27;, DecisionTreeClassifier())])</pre><b>In a Jupyter environment, please rerun this cell to show the HTML representation or trust the notebook. <br />On GitHub, the HTML representation is unable to render, please try loading this page with nbviewer.org.</b></div><div class=\"sk-container\" hidden><div class=\"sk-item sk-dashed-wrapped\"><div class=\"sk-label-container\"><div class=\"sk-label sk-toggleable\"><input class=\"sk-toggleable__control sk-hidden--visually\" id=\"sk-estimator-id-19\" type=\"checkbox\" ><label for=\"sk-estimator-id-19\" class=\"sk-toggleable__label sk-toggleable__label-arrow\">Pipeline</label><div class=\"sk-toggleable__content\"><pre>Pipeline(steps=[(&#x27;preprocessor&#x27;,\n",
       "                 ColumnTransformer(remainder=&#x27;passthrough&#x27;,\n",
       "                                   transformers=[(&#x27;num&#x27;,\n",
       "                                                  Pipeline(steps=[(&#x27;scaler&#x27;,\n",
       "                                                                   RobustScaler())]),\n",
       "                                                  [&#x27;age&#x27;, &#x27;limit&#x27;,\n",
       "                                                   &#x27;status_sept&#x27;, &#x27;status_aug&#x27;,\n",
       "                                                   &#x27;status_july&#x27;, &#x27;status_june&#x27;,\n",
       "                                                   &#x27;status_may&#x27;, &#x27;status_apr&#x27;,\n",
       "                                                   &#x27;bill_sept&#x27;, &#x27;bill_aug&#x27;,\n",
       "                                                   &#x27;bill_july&#x27;, &#x27;bill_june&#x27;,\n",
       "                                                   &#x27;bill_may&#x27;, &#x27;bill_apr&#x27;,\n",
       "                                                   &#x27;pay_sept&#x27;, &#x27;pay_aug&#x27;,\n",
       "                                                   &#x27;pay_july&#x27;, &#x27;pay_june&#x27;,\n",
       "                                                   &#x27;pay_may&#x27;, &#x27;pay_apr&#x27;]),\n",
       "                                                 (&#x27;cat&#x27;,\n",
       "                                                  Pipeline(steps=[(&#x27;encoder&#x27;,\n",
       "                                                                   OneHotEncoder(handle_unknown=&#x27;ignore&#x27;))]),\n",
       "                                                  [&#x27;sex&#x27;, &#x27;education&#x27;,\n",
       "                                                   &#x27;marriage&#x27;])])),\n",
       "                (&#x27;tree&#x27;, DecisionTreeClassifier())])</pre></div></div></div><div class=\"sk-serial\"><div class=\"sk-item sk-dashed-wrapped\"><div class=\"sk-label-container\"><div class=\"sk-label sk-toggleable\"><input class=\"sk-toggleable__control sk-hidden--visually\" id=\"sk-estimator-id-20\" type=\"checkbox\" ><label for=\"sk-estimator-id-20\" class=\"sk-toggleable__label sk-toggleable__label-arrow\">preprocessor: ColumnTransformer</label><div class=\"sk-toggleable__content\"><pre>ColumnTransformer(remainder=&#x27;passthrough&#x27;,\n",
       "                  transformers=[(&#x27;num&#x27;,\n",
       "                                 Pipeline(steps=[(&#x27;scaler&#x27;, RobustScaler())]),\n",
       "                                 [&#x27;age&#x27;, &#x27;limit&#x27;, &#x27;status_sept&#x27;, &#x27;status_aug&#x27;,\n",
       "                                  &#x27;status_july&#x27;, &#x27;status_june&#x27;, &#x27;status_may&#x27;,\n",
       "                                  &#x27;status_apr&#x27;, &#x27;bill_sept&#x27;, &#x27;bill_aug&#x27;,\n",
       "                                  &#x27;bill_july&#x27;, &#x27;bill_june&#x27;, &#x27;bill_may&#x27;,\n",
       "                                  &#x27;bill_apr&#x27;, &#x27;pay_sept&#x27;, &#x27;pay_aug&#x27;, &#x27;pay_july&#x27;,\n",
       "                                  &#x27;pay_june&#x27;, &#x27;pay_may&#x27;, &#x27;pay_apr&#x27;]),\n",
       "                                (&#x27;cat&#x27;,\n",
       "                                 Pipeline(steps=[(&#x27;encoder&#x27;,\n",
       "                                                  OneHotEncoder(handle_unknown=&#x27;ignore&#x27;))]),\n",
       "                                 [&#x27;sex&#x27;, &#x27;education&#x27;, &#x27;marriage&#x27;])])</pre></div></div></div><div class=\"sk-parallel\"><div class=\"sk-parallel-item\"><div class=\"sk-item\"><div class=\"sk-label-container\"><div class=\"sk-label sk-toggleable\"><input class=\"sk-toggleable__control sk-hidden--visually\" id=\"sk-estimator-id-21\" type=\"checkbox\" ><label for=\"sk-estimator-id-21\" class=\"sk-toggleable__label sk-toggleable__label-arrow\">num</label><div class=\"sk-toggleable__content\"><pre>[&#x27;age&#x27;, &#x27;limit&#x27;, &#x27;status_sept&#x27;, &#x27;status_aug&#x27;, &#x27;status_july&#x27;, &#x27;status_june&#x27;, &#x27;status_may&#x27;, &#x27;status_apr&#x27;, &#x27;bill_sept&#x27;, &#x27;bill_aug&#x27;, &#x27;bill_july&#x27;, &#x27;bill_june&#x27;, &#x27;bill_may&#x27;, &#x27;bill_apr&#x27;, &#x27;pay_sept&#x27;, &#x27;pay_aug&#x27;, &#x27;pay_july&#x27;, &#x27;pay_june&#x27;, &#x27;pay_may&#x27;, &#x27;pay_apr&#x27;]</pre></div></div></div><div class=\"sk-serial\"><div class=\"sk-item\"><div class=\"sk-serial\"><div class=\"sk-item\"><div class=\"sk-estimator sk-toggleable\"><input class=\"sk-toggleable__control sk-hidden--visually\" id=\"sk-estimator-id-22\" type=\"checkbox\" ><label for=\"sk-estimator-id-22\" class=\"sk-toggleable__label sk-toggleable__label-arrow\">RobustScaler</label><div class=\"sk-toggleable__content\"><pre>RobustScaler()</pre></div></div></div></div></div></div></div></div><div class=\"sk-parallel-item\"><div class=\"sk-item\"><div class=\"sk-label-container\"><div class=\"sk-label sk-toggleable\"><input class=\"sk-toggleable__control sk-hidden--visually\" id=\"sk-estimator-id-23\" type=\"checkbox\" ><label for=\"sk-estimator-id-23\" class=\"sk-toggleable__label sk-toggleable__label-arrow\">cat</label><div class=\"sk-toggleable__content\"><pre>[&#x27;sex&#x27;, &#x27;education&#x27;, &#x27;marriage&#x27;]</pre></div></div></div><div class=\"sk-serial\"><div class=\"sk-item\"><div class=\"sk-serial\"><div class=\"sk-item\"><div class=\"sk-estimator sk-toggleable\"><input class=\"sk-toggleable__control sk-hidden--visually\" id=\"sk-estimator-id-24\" type=\"checkbox\" ><label for=\"sk-estimator-id-24\" class=\"sk-toggleable__label sk-toggleable__label-arrow\">OneHotEncoder</label><div class=\"sk-toggleable__content\"><pre>OneHotEncoder(handle_unknown=&#x27;ignore&#x27;)</pre></div></div></div></div></div></div></div></div><div class=\"sk-parallel-item\"><div class=\"sk-item\"><div class=\"sk-label-container\"><div class=\"sk-label sk-toggleable\"><input class=\"sk-toggleable__control sk-hidden--visually\" id=\"sk-estimator-id-25\" type=\"checkbox\" ><label for=\"sk-estimator-id-25\" class=\"sk-toggleable__label sk-toggleable__label-arrow\">remainder</label><div class=\"sk-toggleable__content\"><pre>[]</pre></div></div></div><div class=\"sk-serial\"><div class=\"sk-item\"><div class=\"sk-estimator sk-toggleable\"><input class=\"sk-toggleable__control sk-hidden--visually\" id=\"sk-estimator-id-26\" type=\"checkbox\" ><label for=\"sk-estimator-id-26\" class=\"sk-toggleable__label sk-toggleable__label-arrow\">passthrough</label><div class=\"sk-toggleable__content\"><pre>passthrough</pre></div></div></div></div></div></div></div></div><div class=\"sk-item\"><div class=\"sk-estimator sk-toggleable\"><input class=\"sk-toggleable__control sk-hidden--visually\" id=\"sk-estimator-id-27\" type=\"checkbox\" ><label for=\"sk-estimator-id-27\" class=\"sk-toggleable__label sk-toggleable__label-arrow\">DecisionTreeClassifier</label><div class=\"sk-toggleable__content\"><pre>DecisionTreeClassifier()</pre></div></div></div></div></div></div></div>"
      ],
      "text/plain": [
       "Pipeline(steps=[('preprocessor',\n",
       "                 ColumnTransformer(remainder='passthrough',\n",
       "                                   transformers=[('num',\n",
       "                                                  Pipeline(steps=[('scaler',\n",
       "                                                                   RobustScaler())]),\n",
       "                                                  ['age', 'limit',\n",
       "                                                   'status_sept', 'status_aug',\n",
       "                                                   'status_july', 'status_june',\n",
       "                                                   'status_may', 'status_apr',\n",
       "                                                   'bill_sept', 'bill_aug',\n",
       "                                                   'bill_july', 'bill_june',\n",
       "                                                   'bill_may', 'bill_apr',\n",
       "                                                   'pay_sept', 'pay_aug',\n",
       "                                                   'pay_july', 'pay_june',\n",
       "                                                   'pay_may', 'pay_apr']),\n",
       "                                                 ('cat',\n",
       "                                                  Pipeline(steps=[('encoder',\n",
       "                                                                   OneHotEncoder(handle_unknown='ignore'))]),\n",
       "                                                  ['sex', 'education',\n",
       "                                                   'marriage'])])),\n",
       "                ('tree', DecisionTreeClassifier())])"
      ]
     },
     "execution_count": 40,
     "metadata": {},
     "output_type": "execute_result"
    }
   ],
   "source": [
    "# Train Decission Tree\n",
    "pipe_tree.fit(X_train, y_train)"
   ]
  },
  {
   "cell_type": "code",
   "execution_count": 41,
   "metadata": {},
   "outputs": [
    {
     "data": {
      "text/html": [
       "<style>#sk-container-id-4 {color: black;background-color: white;}#sk-container-id-4 pre{padding: 0;}#sk-container-id-4 div.sk-toggleable {background-color: white;}#sk-container-id-4 label.sk-toggleable__label {cursor: pointer;display: block;width: 100%;margin-bottom: 0;padding: 0.3em;box-sizing: border-box;text-align: center;}#sk-container-id-4 label.sk-toggleable__label-arrow:before {content: \"▸\";float: left;margin-right: 0.25em;color: #696969;}#sk-container-id-4 label.sk-toggleable__label-arrow:hover:before {color: black;}#sk-container-id-4 div.sk-estimator:hover label.sk-toggleable__label-arrow:before {color: black;}#sk-container-id-4 div.sk-toggleable__content {max-height: 0;max-width: 0;overflow: hidden;text-align: left;background-color: #f0f8ff;}#sk-container-id-4 div.sk-toggleable__content pre {margin: 0.2em;color: black;border-radius: 0.25em;background-color: #f0f8ff;}#sk-container-id-4 input.sk-toggleable__control:checked~div.sk-toggleable__content {max-height: 200px;max-width: 100%;overflow: auto;}#sk-container-id-4 input.sk-toggleable__control:checked~label.sk-toggleable__label-arrow:before {content: \"▾\";}#sk-container-id-4 div.sk-estimator input.sk-toggleable__control:checked~label.sk-toggleable__label {background-color: #d4ebff;}#sk-container-id-4 div.sk-label input.sk-toggleable__control:checked~label.sk-toggleable__label {background-color: #d4ebff;}#sk-container-id-4 input.sk-hidden--visually {border: 0;clip: rect(1px 1px 1px 1px);clip: rect(1px, 1px, 1px, 1px);height: 1px;margin: -1px;overflow: hidden;padding: 0;position: absolute;width: 1px;}#sk-container-id-4 div.sk-estimator {font-family: monospace;background-color: #f0f8ff;border: 1px dotted black;border-radius: 0.25em;box-sizing: border-box;margin-bottom: 0.5em;}#sk-container-id-4 div.sk-estimator:hover {background-color: #d4ebff;}#sk-container-id-4 div.sk-parallel-item::after {content: \"\";width: 100%;border-bottom: 1px solid gray;flex-grow: 1;}#sk-container-id-4 div.sk-label:hover label.sk-toggleable__label {background-color: #d4ebff;}#sk-container-id-4 div.sk-serial::before {content: \"\";position: absolute;border-left: 1px solid gray;box-sizing: border-box;top: 0;bottom: 0;left: 50%;z-index: 0;}#sk-container-id-4 div.sk-serial {display: flex;flex-direction: column;align-items: center;background-color: white;padding-right: 0.2em;padding-left: 0.2em;position: relative;}#sk-container-id-4 div.sk-item {position: relative;z-index: 1;}#sk-container-id-4 div.sk-parallel {display: flex;align-items: stretch;justify-content: center;background-color: white;position: relative;}#sk-container-id-4 div.sk-item::before, #sk-container-id-4 div.sk-parallel-item::before {content: \"\";position: absolute;border-left: 1px solid gray;box-sizing: border-box;top: 0;bottom: 0;left: 50%;z-index: -1;}#sk-container-id-4 div.sk-parallel-item {display: flex;flex-direction: column;z-index: 1;position: relative;background-color: white;}#sk-container-id-4 div.sk-parallel-item:first-child::after {align-self: flex-end;width: 50%;}#sk-container-id-4 div.sk-parallel-item:last-child::after {align-self: flex-start;width: 50%;}#sk-container-id-4 div.sk-parallel-item:only-child::after {width: 0;}#sk-container-id-4 div.sk-dashed-wrapped {border: 1px dashed gray;margin: 0 0.4em 0.5em 0.4em;box-sizing: border-box;padding-bottom: 0.4em;background-color: white;}#sk-container-id-4 div.sk-label label {font-family: monospace;font-weight: bold;display: inline-block;line-height: 1.2em;}#sk-container-id-4 div.sk-label-container {text-align: center;}#sk-container-id-4 div.sk-container {/* jupyter's `normalize.less` sets `[hidden] { display: none; }` but bootstrap.min.css set `[hidden] { display: none !important; }` so we also need the `!important` here to be able to override the default hidden behavior on the sphinx rendered scikit-learn.org. See: https://github.com/scikit-learn/scikit-learn/issues/21755 */display: inline-block !important;position: relative;}#sk-container-id-4 div.sk-text-repr-fallback {display: none;}</style><div id=\"sk-container-id-4\" class=\"sk-top-container\"><div class=\"sk-text-repr-fallback\"><pre>Pipeline(steps=[(&#x27;preprocessor&#x27;,\n",
       "                 ColumnTransformer(remainder=&#x27;passthrough&#x27;,\n",
       "                                   transformers=[(&#x27;num&#x27;,\n",
       "                                                  Pipeline(steps=[(&#x27;scaler&#x27;,\n",
       "                                                                   RobustScaler())]),\n",
       "                                                  [&#x27;age&#x27;, &#x27;limit&#x27;,\n",
       "                                                   &#x27;status_sept&#x27;, &#x27;status_aug&#x27;,\n",
       "                                                   &#x27;status_july&#x27;, &#x27;status_june&#x27;,\n",
       "                                                   &#x27;status_may&#x27;, &#x27;status_apr&#x27;,\n",
       "                                                   &#x27;bill_sept&#x27;, &#x27;bill_aug&#x27;,\n",
       "                                                   &#x27;bill_july&#x27;, &#x27;bill_june&#x27;,\n",
       "                                                   &#x27;bill_may&#x27;, &#x27;bill_apr&#x27;,\n",
       "                                                   &#x27;pay_sept&#x27;, &#x27;pay_aug&#x27;,\n",
       "                                                   &#x27;pay_july&#x27;, &#x27;pay_june&#x27;,\n",
       "                                                   &#x27;pay_may&#x27;, &#x27;pay_apr&#x27;]),\n",
       "                                                 (&#x27;cat&#x27;,\n",
       "                                                  Pipeline(steps=[(&#x27;encoder&#x27;,\n",
       "                                                                   OneHotEncoder(handle_unknown=&#x27;ignore&#x27;))]),\n",
       "                                                  [&#x27;sex&#x27;, &#x27;education&#x27;,\n",
       "                                                   &#x27;marriage&#x27;])])),\n",
       "                (&#x27;forest&#x27;, RandomForestClassifier())])</pre><b>In a Jupyter environment, please rerun this cell to show the HTML representation or trust the notebook. <br />On GitHub, the HTML representation is unable to render, please try loading this page with nbviewer.org.</b></div><div class=\"sk-container\" hidden><div class=\"sk-item sk-dashed-wrapped\"><div class=\"sk-label-container\"><div class=\"sk-label sk-toggleable\"><input class=\"sk-toggleable__control sk-hidden--visually\" id=\"sk-estimator-id-28\" type=\"checkbox\" ><label for=\"sk-estimator-id-28\" class=\"sk-toggleable__label sk-toggleable__label-arrow\">Pipeline</label><div class=\"sk-toggleable__content\"><pre>Pipeline(steps=[(&#x27;preprocessor&#x27;,\n",
       "                 ColumnTransformer(remainder=&#x27;passthrough&#x27;,\n",
       "                                   transformers=[(&#x27;num&#x27;,\n",
       "                                                  Pipeline(steps=[(&#x27;scaler&#x27;,\n",
       "                                                                   RobustScaler())]),\n",
       "                                                  [&#x27;age&#x27;, &#x27;limit&#x27;,\n",
       "                                                   &#x27;status_sept&#x27;, &#x27;status_aug&#x27;,\n",
       "                                                   &#x27;status_july&#x27;, &#x27;status_june&#x27;,\n",
       "                                                   &#x27;status_may&#x27;, &#x27;status_apr&#x27;,\n",
       "                                                   &#x27;bill_sept&#x27;, &#x27;bill_aug&#x27;,\n",
       "                                                   &#x27;bill_july&#x27;, &#x27;bill_june&#x27;,\n",
       "                                                   &#x27;bill_may&#x27;, &#x27;bill_apr&#x27;,\n",
       "                                                   &#x27;pay_sept&#x27;, &#x27;pay_aug&#x27;,\n",
       "                                                   &#x27;pay_july&#x27;, &#x27;pay_june&#x27;,\n",
       "                                                   &#x27;pay_may&#x27;, &#x27;pay_apr&#x27;]),\n",
       "                                                 (&#x27;cat&#x27;,\n",
       "                                                  Pipeline(steps=[(&#x27;encoder&#x27;,\n",
       "                                                                   OneHotEncoder(handle_unknown=&#x27;ignore&#x27;))]),\n",
       "                                                  [&#x27;sex&#x27;, &#x27;education&#x27;,\n",
       "                                                   &#x27;marriage&#x27;])])),\n",
       "                (&#x27;forest&#x27;, RandomForestClassifier())])</pre></div></div></div><div class=\"sk-serial\"><div class=\"sk-item sk-dashed-wrapped\"><div class=\"sk-label-container\"><div class=\"sk-label sk-toggleable\"><input class=\"sk-toggleable__control sk-hidden--visually\" id=\"sk-estimator-id-29\" type=\"checkbox\" ><label for=\"sk-estimator-id-29\" class=\"sk-toggleable__label sk-toggleable__label-arrow\">preprocessor: ColumnTransformer</label><div class=\"sk-toggleable__content\"><pre>ColumnTransformer(remainder=&#x27;passthrough&#x27;,\n",
       "                  transformers=[(&#x27;num&#x27;,\n",
       "                                 Pipeline(steps=[(&#x27;scaler&#x27;, RobustScaler())]),\n",
       "                                 [&#x27;age&#x27;, &#x27;limit&#x27;, &#x27;status_sept&#x27;, &#x27;status_aug&#x27;,\n",
       "                                  &#x27;status_july&#x27;, &#x27;status_june&#x27;, &#x27;status_may&#x27;,\n",
       "                                  &#x27;status_apr&#x27;, &#x27;bill_sept&#x27;, &#x27;bill_aug&#x27;,\n",
       "                                  &#x27;bill_july&#x27;, &#x27;bill_june&#x27;, &#x27;bill_may&#x27;,\n",
       "                                  &#x27;bill_apr&#x27;, &#x27;pay_sept&#x27;, &#x27;pay_aug&#x27;, &#x27;pay_july&#x27;,\n",
       "                                  &#x27;pay_june&#x27;, &#x27;pay_may&#x27;, &#x27;pay_apr&#x27;]),\n",
       "                                (&#x27;cat&#x27;,\n",
       "                                 Pipeline(steps=[(&#x27;encoder&#x27;,\n",
       "                                                  OneHotEncoder(handle_unknown=&#x27;ignore&#x27;))]),\n",
       "                                 [&#x27;sex&#x27;, &#x27;education&#x27;, &#x27;marriage&#x27;])])</pre></div></div></div><div class=\"sk-parallel\"><div class=\"sk-parallel-item\"><div class=\"sk-item\"><div class=\"sk-label-container\"><div class=\"sk-label sk-toggleable\"><input class=\"sk-toggleable__control sk-hidden--visually\" id=\"sk-estimator-id-30\" type=\"checkbox\" ><label for=\"sk-estimator-id-30\" class=\"sk-toggleable__label sk-toggleable__label-arrow\">num</label><div class=\"sk-toggleable__content\"><pre>[&#x27;age&#x27;, &#x27;limit&#x27;, &#x27;status_sept&#x27;, &#x27;status_aug&#x27;, &#x27;status_july&#x27;, &#x27;status_june&#x27;, &#x27;status_may&#x27;, &#x27;status_apr&#x27;, &#x27;bill_sept&#x27;, &#x27;bill_aug&#x27;, &#x27;bill_july&#x27;, &#x27;bill_june&#x27;, &#x27;bill_may&#x27;, &#x27;bill_apr&#x27;, &#x27;pay_sept&#x27;, &#x27;pay_aug&#x27;, &#x27;pay_july&#x27;, &#x27;pay_june&#x27;, &#x27;pay_may&#x27;, &#x27;pay_apr&#x27;]</pre></div></div></div><div class=\"sk-serial\"><div class=\"sk-item\"><div class=\"sk-serial\"><div class=\"sk-item\"><div class=\"sk-estimator sk-toggleable\"><input class=\"sk-toggleable__control sk-hidden--visually\" id=\"sk-estimator-id-31\" type=\"checkbox\" ><label for=\"sk-estimator-id-31\" class=\"sk-toggleable__label sk-toggleable__label-arrow\">RobustScaler</label><div class=\"sk-toggleable__content\"><pre>RobustScaler()</pre></div></div></div></div></div></div></div></div><div class=\"sk-parallel-item\"><div class=\"sk-item\"><div class=\"sk-label-container\"><div class=\"sk-label sk-toggleable\"><input class=\"sk-toggleable__control sk-hidden--visually\" id=\"sk-estimator-id-32\" type=\"checkbox\" ><label for=\"sk-estimator-id-32\" class=\"sk-toggleable__label sk-toggleable__label-arrow\">cat</label><div class=\"sk-toggleable__content\"><pre>[&#x27;sex&#x27;, &#x27;education&#x27;, &#x27;marriage&#x27;]</pre></div></div></div><div class=\"sk-serial\"><div class=\"sk-item\"><div class=\"sk-serial\"><div class=\"sk-item\"><div class=\"sk-estimator sk-toggleable\"><input class=\"sk-toggleable__control sk-hidden--visually\" id=\"sk-estimator-id-33\" type=\"checkbox\" ><label for=\"sk-estimator-id-33\" class=\"sk-toggleable__label sk-toggleable__label-arrow\">OneHotEncoder</label><div class=\"sk-toggleable__content\"><pre>OneHotEncoder(handle_unknown=&#x27;ignore&#x27;)</pre></div></div></div></div></div></div></div></div><div class=\"sk-parallel-item\"><div class=\"sk-item\"><div class=\"sk-label-container\"><div class=\"sk-label sk-toggleable\"><input class=\"sk-toggleable__control sk-hidden--visually\" id=\"sk-estimator-id-34\" type=\"checkbox\" ><label for=\"sk-estimator-id-34\" class=\"sk-toggleable__label sk-toggleable__label-arrow\">remainder</label><div class=\"sk-toggleable__content\"><pre>[]</pre></div></div></div><div class=\"sk-serial\"><div class=\"sk-item\"><div class=\"sk-estimator sk-toggleable\"><input class=\"sk-toggleable__control sk-hidden--visually\" id=\"sk-estimator-id-35\" type=\"checkbox\" ><label for=\"sk-estimator-id-35\" class=\"sk-toggleable__label sk-toggleable__label-arrow\">passthrough</label><div class=\"sk-toggleable__content\"><pre>passthrough</pre></div></div></div></div></div></div></div></div><div class=\"sk-item\"><div class=\"sk-estimator sk-toggleable\"><input class=\"sk-toggleable__control sk-hidden--visually\" id=\"sk-estimator-id-36\" type=\"checkbox\" ><label for=\"sk-estimator-id-36\" class=\"sk-toggleable__label sk-toggleable__label-arrow\">RandomForestClassifier</label><div class=\"sk-toggleable__content\"><pre>RandomForestClassifier()</pre></div></div></div></div></div></div></div>"
      ],
      "text/plain": [
       "Pipeline(steps=[('preprocessor',\n",
       "                 ColumnTransformer(remainder='passthrough',\n",
       "                                   transformers=[('num',\n",
       "                                                  Pipeline(steps=[('scaler',\n",
       "                                                                   RobustScaler())]),\n",
       "                                                  ['age', 'limit',\n",
       "                                                   'status_sept', 'status_aug',\n",
       "                                                   'status_july', 'status_june',\n",
       "                                                   'status_may', 'status_apr',\n",
       "                                                   'bill_sept', 'bill_aug',\n",
       "                                                   'bill_july', 'bill_june',\n",
       "                                                   'bill_may', 'bill_apr',\n",
       "                                                   'pay_sept', 'pay_aug',\n",
       "                                                   'pay_july', 'pay_june',\n",
       "                                                   'pay_may', 'pay_apr']),\n",
       "                                                 ('cat',\n",
       "                                                  Pipeline(steps=[('encoder',\n",
       "                                                                   OneHotEncoder(handle_unknown='ignore'))]),\n",
       "                                                  ['sex', 'education',\n",
       "                                                   'marriage'])])),\n",
       "                ('forest', RandomForestClassifier())])"
      ]
     },
     "execution_count": 41,
     "metadata": {},
     "output_type": "execute_result"
    }
   ],
   "source": [
    "# Train Random Forest\n",
    "pipe_forest.fit(X_train, y_train)"
   ]
  },
  {
   "cell_type": "code",
   "execution_count": 42,
   "metadata": {},
   "outputs": [
    {
     "data": {
      "text/html": [
       "<style>#sk-container-id-5 {color: black;background-color: white;}#sk-container-id-5 pre{padding: 0;}#sk-container-id-5 div.sk-toggleable {background-color: white;}#sk-container-id-5 label.sk-toggleable__label {cursor: pointer;display: block;width: 100%;margin-bottom: 0;padding: 0.3em;box-sizing: border-box;text-align: center;}#sk-container-id-5 label.sk-toggleable__label-arrow:before {content: \"▸\";float: left;margin-right: 0.25em;color: #696969;}#sk-container-id-5 label.sk-toggleable__label-arrow:hover:before {color: black;}#sk-container-id-5 div.sk-estimator:hover label.sk-toggleable__label-arrow:before {color: black;}#sk-container-id-5 div.sk-toggleable__content {max-height: 0;max-width: 0;overflow: hidden;text-align: left;background-color: #f0f8ff;}#sk-container-id-5 div.sk-toggleable__content pre {margin: 0.2em;color: black;border-radius: 0.25em;background-color: #f0f8ff;}#sk-container-id-5 input.sk-toggleable__control:checked~div.sk-toggleable__content {max-height: 200px;max-width: 100%;overflow: auto;}#sk-container-id-5 input.sk-toggleable__control:checked~label.sk-toggleable__label-arrow:before {content: \"▾\";}#sk-container-id-5 div.sk-estimator input.sk-toggleable__control:checked~label.sk-toggleable__label {background-color: #d4ebff;}#sk-container-id-5 div.sk-label input.sk-toggleable__control:checked~label.sk-toggleable__label {background-color: #d4ebff;}#sk-container-id-5 input.sk-hidden--visually {border: 0;clip: rect(1px 1px 1px 1px);clip: rect(1px, 1px, 1px, 1px);height: 1px;margin: -1px;overflow: hidden;padding: 0;position: absolute;width: 1px;}#sk-container-id-5 div.sk-estimator {font-family: monospace;background-color: #f0f8ff;border: 1px dotted black;border-radius: 0.25em;box-sizing: border-box;margin-bottom: 0.5em;}#sk-container-id-5 div.sk-estimator:hover {background-color: #d4ebff;}#sk-container-id-5 div.sk-parallel-item::after {content: \"\";width: 100%;border-bottom: 1px solid gray;flex-grow: 1;}#sk-container-id-5 div.sk-label:hover label.sk-toggleable__label {background-color: #d4ebff;}#sk-container-id-5 div.sk-serial::before {content: \"\";position: absolute;border-left: 1px solid gray;box-sizing: border-box;top: 0;bottom: 0;left: 50%;z-index: 0;}#sk-container-id-5 div.sk-serial {display: flex;flex-direction: column;align-items: center;background-color: white;padding-right: 0.2em;padding-left: 0.2em;position: relative;}#sk-container-id-5 div.sk-item {position: relative;z-index: 1;}#sk-container-id-5 div.sk-parallel {display: flex;align-items: stretch;justify-content: center;background-color: white;position: relative;}#sk-container-id-5 div.sk-item::before, #sk-container-id-5 div.sk-parallel-item::before {content: \"\";position: absolute;border-left: 1px solid gray;box-sizing: border-box;top: 0;bottom: 0;left: 50%;z-index: -1;}#sk-container-id-5 div.sk-parallel-item {display: flex;flex-direction: column;z-index: 1;position: relative;background-color: white;}#sk-container-id-5 div.sk-parallel-item:first-child::after {align-self: flex-end;width: 50%;}#sk-container-id-5 div.sk-parallel-item:last-child::after {align-self: flex-start;width: 50%;}#sk-container-id-5 div.sk-parallel-item:only-child::after {width: 0;}#sk-container-id-5 div.sk-dashed-wrapped {border: 1px dashed gray;margin: 0 0.4em 0.5em 0.4em;box-sizing: border-box;padding-bottom: 0.4em;background-color: white;}#sk-container-id-5 div.sk-label label {font-family: monospace;font-weight: bold;display: inline-block;line-height: 1.2em;}#sk-container-id-5 div.sk-label-container {text-align: center;}#sk-container-id-5 div.sk-container {/* jupyter's `normalize.less` sets `[hidden] { display: none; }` but bootstrap.min.css set `[hidden] { display: none !important; }` so we also need the `!important` here to be able to override the default hidden behavior on the sphinx rendered scikit-learn.org. See: https://github.com/scikit-learn/scikit-learn/issues/21755 */display: inline-block !important;position: relative;}#sk-container-id-5 div.sk-text-repr-fallback {display: none;}</style><div id=\"sk-container-id-5\" class=\"sk-top-container\"><div class=\"sk-text-repr-fallback\"><pre>Pipeline(steps=[(&#x27;preprocessor&#x27;,\n",
       "                 ColumnTransformer(remainder=&#x27;passthrough&#x27;,\n",
       "                                   transformers=[(&#x27;num&#x27;,\n",
       "                                                  Pipeline(steps=[(&#x27;scaler&#x27;,\n",
       "                                                                   RobustScaler())]),\n",
       "                                                  [&#x27;age&#x27;, &#x27;limit&#x27;,\n",
       "                                                   &#x27;status_sept&#x27;, &#x27;status_aug&#x27;,\n",
       "                                                   &#x27;status_july&#x27;, &#x27;status_june&#x27;,\n",
       "                                                   &#x27;status_may&#x27;, &#x27;status_apr&#x27;,\n",
       "                                                   &#x27;bill_sept&#x27;, &#x27;bill_aug&#x27;,\n",
       "                                                   &#x27;bill_july&#x27;, &#x27;bill_june&#x27;,\n",
       "                                                   &#x27;bill_may&#x27;, &#x27;bill_apr&#x27;,\n",
       "                                                   &#x27;pay_sept&#x27;, &#x27;pay_aug&#x27;,\n",
       "                                                   &#x27;pay_july&#x27;, &#x27;pay_june&#x27;,\n",
       "                                                   &#x27;pay_may&#x27;, &#x27;pay_apr&#x27;]),\n",
       "                                                 (&#x27;cat&#x27;,\n",
       "                                                  Pipeline(steps=[(&#x27;encoder&#x27;,\n",
       "                                                                   OneHotEncoder(handle_unknown=&#x27;ignore&#x27;))]),\n",
       "                                                  [&#x27;sex&#x27;, &#x27;education&#x27;,\n",
       "                                                   &#x27;marriage&#x27;])])),\n",
       "                (&#x27;knn&#x27;, KNeighborsClassifier())])</pre><b>In a Jupyter environment, please rerun this cell to show the HTML representation or trust the notebook. <br />On GitHub, the HTML representation is unable to render, please try loading this page with nbviewer.org.</b></div><div class=\"sk-container\" hidden><div class=\"sk-item sk-dashed-wrapped\"><div class=\"sk-label-container\"><div class=\"sk-label sk-toggleable\"><input class=\"sk-toggleable__control sk-hidden--visually\" id=\"sk-estimator-id-37\" type=\"checkbox\" ><label for=\"sk-estimator-id-37\" class=\"sk-toggleable__label sk-toggleable__label-arrow\">Pipeline</label><div class=\"sk-toggleable__content\"><pre>Pipeline(steps=[(&#x27;preprocessor&#x27;,\n",
       "                 ColumnTransformer(remainder=&#x27;passthrough&#x27;,\n",
       "                                   transformers=[(&#x27;num&#x27;,\n",
       "                                                  Pipeline(steps=[(&#x27;scaler&#x27;,\n",
       "                                                                   RobustScaler())]),\n",
       "                                                  [&#x27;age&#x27;, &#x27;limit&#x27;,\n",
       "                                                   &#x27;status_sept&#x27;, &#x27;status_aug&#x27;,\n",
       "                                                   &#x27;status_july&#x27;, &#x27;status_june&#x27;,\n",
       "                                                   &#x27;status_may&#x27;, &#x27;status_apr&#x27;,\n",
       "                                                   &#x27;bill_sept&#x27;, &#x27;bill_aug&#x27;,\n",
       "                                                   &#x27;bill_july&#x27;, &#x27;bill_june&#x27;,\n",
       "                                                   &#x27;bill_may&#x27;, &#x27;bill_apr&#x27;,\n",
       "                                                   &#x27;pay_sept&#x27;, &#x27;pay_aug&#x27;,\n",
       "                                                   &#x27;pay_july&#x27;, &#x27;pay_june&#x27;,\n",
       "                                                   &#x27;pay_may&#x27;, &#x27;pay_apr&#x27;]),\n",
       "                                                 (&#x27;cat&#x27;,\n",
       "                                                  Pipeline(steps=[(&#x27;encoder&#x27;,\n",
       "                                                                   OneHotEncoder(handle_unknown=&#x27;ignore&#x27;))]),\n",
       "                                                  [&#x27;sex&#x27;, &#x27;education&#x27;,\n",
       "                                                   &#x27;marriage&#x27;])])),\n",
       "                (&#x27;knn&#x27;, KNeighborsClassifier())])</pre></div></div></div><div class=\"sk-serial\"><div class=\"sk-item sk-dashed-wrapped\"><div class=\"sk-label-container\"><div class=\"sk-label sk-toggleable\"><input class=\"sk-toggleable__control sk-hidden--visually\" id=\"sk-estimator-id-38\" type=\"checkbox\" ><label for=\"sk-estimator-id-38\" class=\"sk-toggleable__label sk-toggleable__label-arrow\">preprocessor: ColumnTransformer</label><div class=\"sk-toggleable__content\"><pre>ColumnTransformer(remainder=&#x27;passthrough&#x27;,\n",
       "                  transformers=[(&#x27;num&#x27;,\n",
       "                                 Pipeline(steps=[(&#x27;scaler&#x27;, RobustScaler())]),\n",
       "                                 [&#x27;age&#x27;, &#x27;limit&#x27;, &#x27;status_sept&#x27;, &#x27;status_aug&#x27;,\n",
       "                                  &#x27;status_july&#x27;, &#x27;status_june&#x27;, &#x27;status_may&#x27;,\n",
       "                                  &#x27;status_apr&#x27;, &#x27;bill_sept&#x27;, &#x27;bill_aug&#x27;,\n",
       "                                  &#x27;bill_july&#x27;, &#x27;bill_june&#x27;, &#x27;bill_may&#x27;,\n",
       "                                  &#x27;bill_apr&#x27;, &#x27;pay_sept&#x27;, &#x27;pay_aug&#x27;, &#x27;pay_july&#x27;,\n",
       "                                  &#x27;pay_june&#x27;, &#x27;pay_may&#x27;, &#x27;pay_apr&#x27;]),\n",
       "                                (&#x27;cat&#x27;,\n",
       "                                 Pipeline(steps=[(&#x27;encoder&#x27;,\n",
       "                                                  OneHotEncoder(handle_unknown=&#x27;ignore&#x27;))]),\n",
       "                                 [&#x27;sex&#x27;, &#x27;education&#x27;, &#x27;marriage&#x27;])])</pre></div></div></div><div class=\"sk-parallel\"><div class=\"sk-parallel-item\"><div class=\"sk-item\"><div class=\"sk-label-container\"><div class=\"sk-label sk-toggleable\"><input class=\"sk-toggleable__control sk-hidden--visually\" id=\"sk-estimator-id-39\" type=\"checkbox\" ><label for=\"sk-estimator-id-39\" class=\"sk-toggleable__label sk-toggleable__label-arrow\">num</label><div class=\"sk-toggleable__content\"><pre>[&#x27;age&#x27;, &#x27;limit&#x27;, &#x27;status_sept&#x27;, &#x27;status_aug&#x27;, &#x27;status_july&#x27;, &#x27;status_june&#x27;, &#x27;status_may&#x27;, &#x27;status_apr&#x27;, &#x27;bill_sept&#x27;, &#x27;bill_aug&#x27;, &#x27;bill_july&#x27;, &#x27;bill_june&#x27;, &#x27;bill_may&#x27;, &#x27;bill_apr&#x27;, &#x27;pay_sept&#x27;, &#x27;pay_aug&#x27;, &#x27;pay_july&#x27;, &#x27;pay_june&#x27;, &#x27;pay_may&#x27;, &#x27;pay_apr&#x27;]</pre></div></div></div><div class=\"sk-serial\"><div class=\"sk-item\"><div class=\"sk-serial\"><div class=\"sk-item\"><div class=\"sk-estimator sk-toggleable\"><input class=\"sk-toggleable__control sk-hidden--visually\" id=\"sk-estimator-id-40\" type=\"checkbox\" ><label for=\"sk-estimator-id-40\" class=\"sk-toggleable__label sk-toggleable__label-arrow\">RobustScaler</label><div class=\"sk-toggleable__content\"><pre>RobustScaler()</pre></div></div></div></div></div></div></div></div><div class=\"sk-parallel-item\"><div class=\"sk-item\"><div class=\"sk-label-container\"><div class=\"sk-label sk-toggleable\"><input class=\"sk-toggleable__control sk-hidden--visually\" id=\"sk-estimator-id-41\" type=\"checkbox\" ><label for=\"sk-estimator-id-41\" class=\"sk-toggleable__label sk-toggleable__label-arrow\">cat</label><div class=\"sk-toggleable__content\"><pre>[&#x27;sex&#x27;, &#x27;education&#x27;, &#x27;marriage&#x27;]</pre></div></div></div><div class=\"sk-serial\"><div class=\"sk-item\"><div class=\"sk-serial\"><div class=\"sk-item\"><div class=\"sk-estimator sk-toggleable\"><input class=\"sk-toggleable__control sk-hidden--visually\" id=\"sk-estimator-id-42\" type=\"checkbox\" ><label for=\"sk-estimator-id-42\" class=\"sk-toggleable__label sk-toggleable__label-arrow\">OneHotEncoder</label><div class=\"sk-toggleable__content\"><pre>OneHotEncoder(handle_unknown=&#x27;ignore&#x27;)</pre></div></div></div></div></div></div></div></div><div class=\"sk-parallel-item\"><div class=\"sk-item\"><div class=\"sk-label-container\"><div class=\"sk-label sk-toggleable\"><input class=\"sk-toggleable__control sk-hidden--visually\" id=\"sk-estimator-id-43\" type=\"checkbox\" ><label for=\"sk-estimator-id-43\" class=\"sk-toggleable__label sk-toggleable__label-arrow\">remainder</label><div class=\"sk-toggleable__content\"><pre>[]</pre></div></div></div><div class=\"sk-serial\"><div class=\"sk-item\"><div class=\"sk-estimator sk-toggleable\"><input class=\"sk-toggleable__control sk-hidden--visually\" id=\"sk-estimator-id-44\" type=\"checkbox\" ><label for=\"sk-estimator-id-44\" class=\"sk-toggleable__label sk-toggleable__label-arrow\">passthrough</label><div class=\"sk-toggleable__content\"><pre>passthrough</pre></div></div></div></div></div></div></div></div><div class=\"sk-item\"><div class=\"sk-estimator sk-toggleable\"><input class=\"sk-toggleable__control sk-hidden--visually\" id=\"sk-estimator-id-45\" type=\"checkbox\" ><label for=\"sk-estimator-id-45\" class=\"sk-toggleable__label sk-toggleable__label-arrow\">KNeighborsClassifier</label><div class=\"sk-toggleable__content\"><pre>KNeighborsClassifier()</pre></div></div></div></div></div></div></div>"
      ],
      "text/plain": [
       "Pipeline(steps=[('preprocessor',\n",
       "                 ColumnTransformer(remainder='passthrough',\n",
       "                                   transformers=[('num',\n",
       "                                                  Pipeline(steps=[('scaler',\n",
       "                                                                   RobustScaler())]),\n",
       "                                                  ['age', 'limit',\n",
       "                                                   'status_sept', 'status_aug',\n",
       "                                                   'status_july', 'status_june',\n",
       "                                                   'status_may', 'status_apr',\n",
       "                                                   'bill_sept', 'bill_aug',\n",
       "                                                   'bill_july', 'bill_june',\n",
       "                                                   'bill_may', 'bill_apr',\n",
       "                                                   'pay_sept', 'pay_aug',\n",
       "                                                   'pay_july', 'pay_june',\n",
       "                                                   'pay_may', 'pay_apr']),\n",
       "                                                 ('cat',\n",
       "                                                  Pipeline(steps=[('encoder',\n",
       "                                                                   OneHotEncoder(handle_unknown='ignore'))]),\n",
       "                                                  ['sex', 'education',\n",
       "                                                   'marriage'])])),\n",
       "                ('knn', KNeighborsClassifier())])"
      ]
     },
     "execution_count": 42,
     "metadata": {},
     "output_type": "execute_result"
    }
   ],
   "source": [
    "# Train KNN\n",
    "pipe_knn.fit(X_train, y_train)"
   ]
  },
  {
   "cell_type": "code",
   "execution_count": 43,
   "metadata": {},
   "outputs": [
    {
     "data": {
      "text/html": [
       "<style>#sk-container-id-6 {color: black;background-color: white;}#sk-container-id-6 pre{padding: 0;}#sk-container-id-6 div.sk-toggleable {background-color: white;}#sk-container-id-6 label.sk-toggleable__label {cursor: pointer;display: block;width: 100%;margin-bottom: 0;padding: 0.3em;box-sizing: border-box;text-align: center;}#sk-container-id-6 label.sk-toggleable__label-arrow:before {content: \"▸\";float: left;margin-right: 0.25em;color: #696969;}#sk-container-id-6 label.sk-toggleable__label-arrow:hover:before {color: black;}#sk-container-id-6 div.sk-estimator:hover label.sk-toggleable__label-arrow:before {color: black;}#sk-container-id-6 div.sk-toggleable__content {max-height: 0;max-width: 0;overflow: hidden;text-align: left;background-color: #f0f8ff;}#sk-container-id-6 div.sk-toggleable__content pre {margin: 0.2em;color: black;border-radius: 0.25em;background-color: #f0f8ff;}#sk-container-id-6 input.sk-toggleable__control:checked~div.sk-toggleable__content {max-height: 200px;max-width: 100%;overflow: auto;}#sk-container-id-6 input.sk-toggleable__control:checked~label.sk-toggleable__label-arrow:before {content: \"▾\";}#sk-container-id-6 div.sk-estimator input.sk-toggleable__control:checked~label.sk-toggleable__label {background-color: #d4ebff;}#sk-container-id-6 div.sk-label input.sk-toggleable__control:checked~label.sk-toggleable__label {background-color: #d4ebff;}#sk-container-id-6 input.sk-hidden--visually {border: 0;clip: rect(1px 1px 1px 1px);clip: rect(1px, 1px, 1px, 1px);height: 1px;margin: -1px;overflow: hidden;padding: 0;position: absolute;width: 1px;}#sk-container-id-6 div.sk-estimator {font-family: monospace;background-color: #f0f8ff;border: 1px dotted black;border-radius: 0.25em;box-sizing: border-box;margin-bottom: 0.5em;}#sk-container-id-6 div.sk-estimator:hover {background-color: #d4ebff;}#sk-container-id-6 div.sk-parallel-item::after {content: \"\";width: 100%;border-bottom: 1px solid gray;flex-grow: 1;}#sk-container-id-6 div.sk-label:hover label.sk-toggleable__label {background-color: #d4ebff;}#sk-container-id-6 div.sk-serial::before {content: \"\";position: absolute;border-left: 1px solid gray;box-sizing: border-box;top: 0;bottom: 0;left: 50%;z-index: 0;}#sk-container-id-6 div.sk-serial {display: flex;flex-direction: column;align-items: center;background-color: white;padding-right: 0.2em;padding-left: 0.2em;position: relative;}#sk-container-id-6 div.sk-item {position: relative;z-index: 1;}#sk-container-id-6 div.sk-parallel {display: flex;align-items: stretch;justify-content: center;background-color: white;position: relative;}#sk-container-id-6 div.sk-item::before, #sk-container-id-6 div.sk-parallel-item::before {content: \"\";position: absolute;border-left: 1px solid gray;box-sizing: border-box;top: 0;bottom: 0;left: 50%;z-index: -1;}#sk-container-id-6 div.sk-parallel-item {display: flex;flex-direction: column;z-index: 1;position: relative;background-color: white;}#sk-container-id-6 div.sk-parallel-item:first-child::after {align-self: flex-end;width: 50%;}#sk-container-id-6 div.sk-parallel-item:last-child::after {align-self: flex-start;width: 50%;}#sk-container-id-6 div.sk-parallel-item:only-child::after {width: 0;}#sk-container-id-6 div.sk-dashed-wrapped {border: 1px dashed gray;margin: 0 0.4em 0.5em 0.4em;box-sizing: border-box;padding-bottom: 0.4em;background-color: white;}#sk-container-id-6 div.sk-label label {font-family: monospace;font-weight: bold;display: inline-block;line-height: 1.2em;}#sk-container-id-6 div.sk-label-container {text-align: center;}#sk-container-id-6 div.sk-container {/* jupyter's `normalize.less` sets `[hidden] { display: none; }` but bootstrap.min.css set `[hidden] { display: none !important; }` so we also need the `!important` here to be able to override the default hidden behavior on the sphinx rendered scikit-learn.org. See: https://github.com/scikit-learn/scikit-learn/issues/21755 */display: inline-block !important;position: relative;}#sk-container-id-6 div.sk-text-repr-fallback {display: none;}</style><div id=\"sk-container-id-6\" class=\"sk-top-container\"><div class=\"sk-text-repr-fallback\"><pre>Pipeline(steps=[(&#x27;preprocessor&#x27;,\n",
       "                 ColumnTransformer(remainder=&#x27;passthrough&#x27;,\n",
       "                                   transformers=[(&#x27;num&#x27;,\n",
       "                                                  Pipeline(steps=[(&#x27;scaler&#x27;,\n",
       "                                                                   RobustScaler())]),\n",
       "                                                  [&#x27;age&#x27;, &#x27;limit&#x27;,\n",
       "                                                   &#x27;status_sept&#x27;, &#x27;status_aug&#x27;,\n",
       "                                                   &#x27;status_july&#x27;, &#x27;status_june&#x27;,\n",
       "                                                   &#x27;status_may&#x27;, &#x27;status_apr&#x27;,\n",
       "                                                   &#x27;bill_sept&#x27;, &#x27;bill_aug&#x27;,\n",
       "                                                   &#x27;bill_july&#x27;, &#x27;bill_june&#x27;,\n",
       "                                                   &#x27;bill_may&#x27;, &#x27;bill_apr&#x27;,\n",
       "                                                   &#x27;pay_sept&#x27;, &#x27;pay_aug&#x27;,\n",
       "                                                   &#x27;pay_july&#x27;, &#x27;pay_june&#x27;,\n",
       "                                                   &#x27;pay_may&#x27;, &#x27;pay_apr&#x27;]),\n",
       "                                                 (&#x27;cat&#x27;,\n",
       "                                                  Pipeline(steps=[(&#x27;encoder&#x27;,\n",
       "                                                                   OneHotEncoder(handle_unknown=&#x27;ignore&#x27;))]),\n",
       "                                                  [&#x27;sex&#x27;, &#x27;education&#x27;,\n",
       "                                                   &#x27;marriage&#x27;])])),\n",
       "                (&#x27;nb&#x27;, GaussianNB())])</pre><b>In a Jupyter environment, please rerun this cell to show the HTML representation or trust the notebook. <br />On GitHub, the HTML representation is unable to render, please try loading this page with nbviewer.org.</b></div><div class=\"sk-container\" hidden><div class=\"sk-item sk-dashed-wrapped\"><div class=\"sk-label-container\"><div class=\"sk-label sk-toggleable\"><input class=\"sk-toggleable__control sk-hidden--visually\" id=\"sk-estimator-id-46\" type=\"checkbox\" ><label for=\"sk-estimator-id-46\" class=\"sk-toggleable__label sk-toggleable__label-arrow\">Pipeline</label><div class=\"sk-toggleable__content\"><pre>Pipeline(steps=[(&#x27;preprocessor&#x27;,\n",
       "                 ColumnTransformer(remainder=&#x27;passthrough&#x27;,\n",
       "                                   transformers=[(&#x27;num&#x27;,\n",
       "                                                  Pipeline(steps=[(&#x27;scaler&#x27;,\n",
       "                                                                   RobustScaler())]),\n",
       "                                                  [&#x27;age&#x27;, &#x27;limit&#x27;,\n",
       "                                                   &#x27;status_sept&#x27;, &#x27;status_aug&#x27;,\n",
       "                                                   &#x27;status_july&#x27;, &#x27;status_june&#x27;,\n",
       "                                                   &#x27;status_may&#x27;, &#x27;status_apr&#x27;,\n",
       "                                                   &#x27;bill_sept&#x27;, &#x27;bill_aug&#x27;,\n",
       "                                                   &#x27;bill_july&#x27;, &#x27;bill_june&#x27;,\n",
       "                                                   &#x27;bill_may&#x27;, &#x27;bill_apr&#x27;,\n",
       "                                                   &#x27;pay_sept&#x27;, &#x27;pay_aug&#x27;,\n",
       "                                                   &#x27;pay_july&#x27;, &#x27;pay_june&#x27;,\n",
       "                                                   &#x27;pay_may&#x27;, &#x27;pay_apr&#x27;]),\n",
       "                                                 (&#x27;cat&#x27;,\n",
       "                                                  Pipeline(steps=[(&#x27;encoder&#x27;,\n",
       "                                                                   OneHotEncoder(handle_unknown=&#x27;ignore&#x27;))]),\n",
       "                                                  [&#x27;sex&#x27;, &#x27;education&#x27;,\n",
       "                                                   &#x27;marriage&#x27;])])),\n",
       "                (&#x27;nb&#x27;, GaussianNB())])</pre></div></div></div><div class=\"sk-serial\"><div class=\"sk-item sk-dashed-wrapped\"><div class=\"sk-label-container\"><div class=\"sk-label sk-toggleable\"><input class=\"sk-toggleable__control sk-hidden--visually\" id=\"sk-estimator-id-47\" type=\"checkbox\" ><label for=\"sk-estimator-id-47\" class=\"sk-toggleable__label sk-toggleable__label-arrow\">preprocessor: ColumnTransformer</label><div class=\"sk-toggleable__content\"><pre>ColumnTransformer(remainder=&#x27;passthrough&#x27;,\n",
       "                  transformers=[(&#x27;num&#x27;,\n",
       "                                 Pipeline(steps=[(&#x27;scaler&#x27;, RobustScaler())]),\n",
       "                                 [&#x27;age&#x27;, &#x27;limit&#x27;, &#x27;status_sept&#x27;, &#x27;status_aug&#x27;,\n",
       "                                  &#x27;status_july&#x27;, &#x27;status_june&#x27;, &#x27;status_may&#x27;,\n",
       "                                  &#x27;status_apr&#x27;, &#x27;bill_sept&#x27;, &#x27;bill_aug&#x27;,\n",
       "                                  &#x27;bill_july&#x27;, &#x27;bill_june&#x27;, &#x27;bill_may&#x27;,\n",
       "                                  &#x27;bill_apr&#x27;, &#x27;pay_sept&#x27;, &#x27;pay_aug&#x27;, &#x27;pay_july&#x27;,\n",
       "                                  &#x27;pay_june&#x27;, &#x27;pay_may&#x27;, &#x27;pay_apr&#x27;]),\n",
       "                                (&#x27;cat&#x27;,\n",
       "                                 Pipeline(steps=[(&#x27;encoder&#x27;,\n",
       "                                                  OneHotEncoder(handle_unknown=&#x27;ignore&#x27;))]),\n",
       "                                 [&#x27;sex&#x27;, &#x27;education&#x27;, &#x27;marriage&#x27;])])</pre></div></div></div><div class=\"sk-parallel\"><div class=\"sk-parallel-item\"><div class=\"sk-item\"><div class=\"sk-label-container\"><div class=\"sk-label sk-toggleable\"><input class=\"sk-toggleable__control sk-hidden--visually\" id=\"sk-estimator-id-48\" type=\"checkbox\" ><label for=\"sk-estimator-id-48\" class=\"sk-toggleable__label sk-toggleable__label-arrow\">num</label><div class=\"sk-toggleable__content\"><pre>[&#x27;age&#x27;, &#x27;limit&#x27;, &#x27;status_sept&#x27;, &#x27;status_aug&#x27;, &#x27;status_july&#x27;, &#x27;status_june&#x27;, &#x27;status_may&#x27;, &#x27;status_apr&#x27;, &#x27;bill_sept&#x27;, &#x27;bill_aug&#x27;, &#x27;bill_july&#x27;, &#x27;bill_june&#x27;, &#x27;bill_may&#x27;, &#x27;bill_apr&#x27;, &#x27;pay_sept&#x27;, &#x27;pay_aug&#x27;, &#x27;pay_july&#x27;, &#x27;pay_june&#x27;, &#x27;pay_may&#x27;, &#x27;pay_apr&#x27;]</pre></div></div></div><div class=\"sk-serial\"><div class=\"sk-item\"><div class=\"sk-serial\"><div class=\"sk-item\"><div class=\"sk-estimator sk-toggleable\"><input class=\"sk-toggleable__control sk-hidden--visually\" id=\"sk-estimator-id-49\" type=\"checkbox\" ><label for=\"sk-estimator-id-49\" class=\"sk-toggleable__label sk-toggleable__label-arrow\">RobustScaler</label><div class=\"sk-toggleable__content\"><pre>RobustScaler()</pre></div></div></div></div></div></div></div></div><div class=\"sk-parallel-item\"><div class=\"sk-item\"><div class=\"sk-label-container\"><div class=\"sk-label sk-toggleable\"><input class=\"sk-toggleable__control sk-hidden--visually\" id=\"sk-estimator-id-50\" type=\"checkbox\" ><label for=\"sk-estimator-id-50\" class=\"sk-toggleable__label sk-toggleable__label-arrow\">cat</label><div class=\"sk-toggleable__content\"><pre>[&#x27;sex&#x27;, &#x27;education&#x27;, &#x27;marriage&#x27;]</pre></div></div></div><div class=\"sk-serial\"><div class=\"sk-item\"><div class=\"sk-serial\"><div class=\"sk-item\"><div class=\"sk-estimator sk-toggleable\"><input class=\"sk-toggleable__control sk-hidden--visually\" id=\"sk-estimator-id-51\" type=\"checkbox\" ><label for=\"sk-estimator-id-51\" class=\"sk-toggleable__label sk-toggleable__label-arrow\">OneHotEncoder</label><div class=\"sk-toggleable__content\"><pre>OneHotEncoder(handle_unknown=&#x27;ignore&#x27;)</pre></div></div></div></div></div></div></div></div><div class=\"sk-parallel-item\"><div class=\"sk-item\"><div class=\"sk-label-container\"><div class=\"sk-label sk-toggleable\"><input class=\"sk-toggleable__control sk-hidden--visually\" id=\"sk-estimator-id-52\" type=\"checkbox\" ><label for=\"sk-estimator-id-52\" class=\"sk-toggleable__label sk-toggleable__label-arrow\">remainder</label><div class=\"sk-toggleable__content\"><pre>[]</pre></div></div></div><div class=\"sk-serial\"><div class=\"sk-item\"><div class=\"sk-estimator sk-toggleable\"><input class=\"sk-toggleable__control sk-hidden--visually\" id=\"sk-estimator-id-53\" type=\"checkbox\" ><label for=\"sk-estimator-id-53\" class=\"sk-toggleable__label sk-toggleable__label-arrow\">passthrough</label><div class=\"sk-toggleable__content\"><pre>passthrough</pre></div></div></div></div></div></div></div></div><div class=\"sk-item\"><div class=\"sk-estimator sk-toggleable\"><input class=\"sk-toggleable__control sk-hidden--visually\" id=\"sk-estimator-id-54\" type=\"checkbox\" ><label for=\"sk-estimator-id-54\" class=\"sk-toggleable__label sk-toggleable__label-arrow\">GaussianNB</label><div class=\"sk-toggleable__content\"><pre>GaussianNB()</pre></div></div></div></div></div></div></div>"
      ],
      "text/plain": [
       "Pipeline(steps=[('preprocessor',\n",
       "                 ColumnTransformer(remainder='passthrough',\n",
       "                                   transformers=[('num',\n",
       "                                                  Pipeline(steps=[('scaler',\n",
       "                                                                   RobustScaler())]),\n",
       "                                                  ['age', 'limit',\n",
       "                                                   'status_sept', 'status_aug',\n",
       "                                                   'status_july', 'status_june',\n",
       "                                                   'status_may', 'status_apr',\n",
       "                                                   'bill_sept', 'bill_aug',\n",
       "                                                   'bill_july', 'bill_june',\n",
       "                                                   'bill_may', 'bill_apr',\n",
       "                                                   'pay_sept', 'pay_aug',\n",
       "                                                   'pay_july', 'pay_june',\n",
       "                                                   'pay_may', 'pay_apr']),\n",
       "                                                 ('cat',\n",
       "                                                  Pipeline(steps=[('encoder',\n",
       "                                                                   OneHotEncoder(handle_unknown='ignore'))]),\n",
       "                                                  ['sex', 'education',\n",
       "                                                   'marriage'])])),\n",
       "                ('nb', GaussianNB())])"
      ]
     },
     "execution_count": 43,
     "metadata": {},
     "output_type": "execute_result"
    }
   ],
   "source": [
    "# Train Naive Bayes\n",
    "pipe_nb.fit(X_train, y_train)"
   ]
  },
  {
   "cell_type": "markdown",
   "metadata": {},
   "source": [
    "# 9. Model Evaluation"
   ]
  },
  {
   "cell_type": "markdown",
   "metadata": {},
   "source": [
    "Pertama saya akan lihat peforma dari keseluruhan model, dengan menggunakan mean cross validation untuk menguji peforma masing-masing modelnya secara objektif dan memperoleh estimasi yang lebih realistis, setelah melihat model mana yang memiliki score tertinggi baru saya akan melihat classification report dari model tersebut terhadap test-set"
   ]
  },
  {
   "cell_type": "code",
   "execution_count": 44,
   "metadata": {},
   "outputs": [
    {
     "name": "stderr",
     "output_type": "stream",
     "text": [
      "c:\\Users\\zidny\\miniconda3\\lib\\site-packages\\sklearn\\linear_model\\_logistic.py:458: ConvergenceWarning: lbfgs failed to converge (status=1):\n",
      "STOP: TOTAL NO. of ITERATIONS REACHED LIMIT.\n",
      "\n",
      "Increase the number of iterations (max_iter) or scale the data as shown in:\n",
      "    https://scikit-learn.org/stable/modules/preprocessing.html\n",
      "Please also refer to the documentation for alternative solver options:\n",
      "    https://scikit-learn.org/stable/modules/linear_model.html#logistic-regression\n",
      "  n_iter_i = _check_optimize_result(\n",
      "c:\\Users\\zidny\\miniconda3\\lib\\site-packages\\sklearn\\linear_model\\_logistic.py:458: ConvergenceWarning: lbfgs failed to converge (status=1):\n",
      "STOP: TOTAL NO. of ITERATIONS REACHED LIMIT.\n",
      "\n",
      "Increase the number of iterations (max_iter) or scale the data as shown in:\n",
      "    https://scikit-learn.org/stable/modules/preprocessing.html\n",
      "Please also refer to the documentation for alternative solver options:\n",
      "    https://scikit-learn.org/stable/modules/linear_model.html#logistic-regression\n",
      "  n_iter_i = _check_optimize_result(\n",
      "c:\\Users\\zidny\\miniconda3\\lib\\site-packages\\sklearn\\linear_model\\_logistic.py:458: ConvergenceWarning: lbfgs failed to converge (status=1):\n",
      "STOP: TOTAL NO. of ITERATIONS REACHED LIMIT.\n",
      "\n",
      "Increase the number of iterations (max_iter) or scale the data as shown in:\n",
      "    https://scikit-learn.org/stable/modules/preprocessing.html\n",
      "Please also refer to the documentation for alternative solver options:\n",
      "    https://scikit-learn.org/stable/modules/linear_model.html#logistic-regression\n",
      "  n_iter_i = _check_optimize_result(\n",
      "c:\\Users\\zidny\\miniconda3\\lib\\site-packages\\sklearn\\linear_model\\_logistic.py:458: ConvergenceWarning: lbfgs failed to converge (status=1):\n",
      "STOP: TOTAL NO. of ITERATIONS REACHED LIMIT.\n",
      "\n",
      "Increase the number of iterations (max_iter) or scale the data as shown in:\n",
      "    https://scikit-learn.org/stable/modules/preprocessing.html\n",
      "Please also refer to the documentation for alternative solver options:\n",
      "    https://scikit-learn.org/stable/modules/linear_model.html#logistic-regression\n",
      "  n_iter_i = _check_optimize_result(\n",
      "c:\\Users\\zidny\\miniconda3\\lib\\site-packages\\sklearn\\linear_model\\_logistic.py:458: ConvergenceWarning: lbfgs failed to converge (status=1):\n",
      "STOP: TOTAL NO. of ITERATIONS REACHED LIMIT.\n",
      "\n",
      "Increase the number of iterations (max_iter) or scale the data as shown in:\n",
      "    https://scikit-learn.org/stable/modules/preprocessing.html\n",
      "Please also refer to the documentation for alternative solver options:\n",
      "    https://scikit-learn.org/stable/modules/linear_model.html#logistic-regression\n",
      "  n_iter_i = _check_optimize_result(\n"
     ]
    }
   ],
   "source": [
    "# Membuat variable untuk menampung KFold\n",
    "kf = KFold(n_splits=5, shuffle=True)\n",
    "\n",
    "# Menghitung cross-validation dengan Pipeline\n",
    "scores_logreg = cross_val_score(pipe_logreg, X, y, cv=kf)\n",
    "scores_svm = cross_val_score(pipe_svc, X, y, cv=kf)\n",
    "scores_tree = cross_val_score(pipe_tree, X, y, cv=kf)\n",
    "scores_forest = cross_val_score(pipe_forest, X, y, cv=kf)\n",
    "scores_knn = cross_val_score(pipe_knn, X, y, cv=kf)\n",
    "scores_nb = cross_val_score(pipe_nb, X, y, cv=kf)"
   ]
  },
  {
   "cell_type": "code",
   "execution_count": 45,
   "metadata": {},
   "outputs": [
    {
     "name": "stdout",
     "output_type": "stream",
     "text": [
      "Cross-Validation Mean Score :\n",
      "\n",
      "Logistic Regression: 0.8256 | std: 0.0172\n",
      "SVM: 0.8256 | std: 0.0086\n",
      "Decision Tree: 0.739 | std: 0.0149\n",
      "Random Forest: 0.8277 | std: 0.0112\n",
      "KNN: 0.8175 | std: 0.0202\n",
      "Naive Bayes: 0.4189 | std: 0.0235\n"
     ]
    }
   ],
   "source": [
    "# Menampilkan hasil cross validation untuk setiap model\n",
    "print('Cross-Validation Mean Score :')\n",
    "print('\\nLogistic Regression:', round(scores_logreg.mean(),4),'| std:', round(scores_logreg.std(),4))\n",
    "print('SVM:', round(scores_svm.mean(),4),'| std:', round(scores_svm.std(),4))\n",
    "print('Decision Tree:', round(scores_tree.mean(),4),'| std:', round(scores_tree.std(),4))\n",
    "print('Random Forest:', round(scores_forest.mean(),4),'| std:', round(scores_forest.std(),4))\n",
    "print('KNN:', round(scores_knn.mean(),4),'| std:', round(scores_knn.std(),4))\n",
    "print('Naive Bayes:', round(scores_nb.mean(),4),'| std:', round(scores_nb.std(),4))"
   ]
  },
  {
   "cell_type": "markdown",
   "metadata": {},
   "source": [
    "Dapat dilihat diatas pada model yang memiliki peforma teratas adalah Random Forest, logistic regression dan SVM (Ketiga model ini memiliki perbedaan score yang tipis). Namun bisa disimpulkan bahwa Random Forest yang terbaik dikarenakan model ini memiliki score tertinggi dan std terendah menunjukkan konsistensi yang tinggi pada model tersebut.\n",
    "\n",
    "Selanjutnya saya akan menggunakan Classification Report dan Confusion Matrix sebagai metriks yang akan saya gunakan untuk mengevaluasi peforma model terhadap test set, classification report berisi ringkasan yang lengkap terhadap kinerja model, terdapat metriks seperti precision, recall, f1-score dan accuracy. Saya akan jelaskan keempat metriks ini lebih dalam di conceptual problem pada kesimpulan dibagian bawah notebook. Sedangkan pada confusion matrix, kita bisa melihat seberapa baik model dapat mengklasifikasikan sample-sample kedalam kelas yang benar dan seberapa sering model membuat kesalahan dalam klasifikasi. "
   ]
  },
  {
   "cell_type": "code",
   "execution_count": 46,
   "metadata": {},
   "outputs": [
    {
     "name": "stdout",
     "output_type": "stream",
     "text": [
      "F1 Score - Test Set   :  0.47619047619047616 \n",
      "\n",
      "Classification Report : \n",
      "               precision    recall  f1-score   support\n",
      "\n",
      "           0       0.86      0.95      0.90       472\n",
      "           1       0.66      0.37      0.48       121\n",
      "\n",
      "    accuracy                           0.83       593\n",
      "   macro avg       0.76      0.66      0.69       593\n",
      "weighted avg       0.82      0.83      0.81       593\n",
      " \n",
      "\n",
      "Confusion Matrix      : \n",
      " <sklearn.metrics._plot.confusion_matrix.ConfusionMatrixDisplay object at 0x000002909A30A230>\n"
     ]
    },
    {
     "data": {
      "image/png": "[encoded data removed]",
      "text/plain": [
       "<Figure size 640x480 with 2 Axes>"
      ]
     },
     "metadata": {},
     "output_type": "display_data"
    }
   ],
   "source": [
    "y_pred = pipe_forest.predict(X_test)\n",
    "\n",
    "print('F1 Score - Test Set   : ', f1_score(y_test, y_pred), '\\n')\n",
    "print('Classification Report : \\n', classification_report(y_test, y_pred), '\\n')\n",
    "print('Confusion Matrix      : \\n', ConfusionMatrixDisplay.from_estimator(pipe_forest, X_test, y_test, cmap='Reds'))"
   ]
  },
  {
   "cell_type": "markdown",
   "metadata": {},
   "source": [
    "Dapat dilihat pada model random forest nilai False Negative yang tinggi menunjukkan adanya imbalance pada data. Saya akan mencoba untuk membuat algoritma lain yaitu gradient boosting untuk nantinya dibandingkan apakah algoritma tersebut bisa lebih baik daripada random forest"
   ]
  },
  {
   "cell_type": "code",
   "execution_count": 47,
   "metadata": {},
   "outputs": [
    {
     "data": {
      "text/html": [
       "<style>#sk-container-id-7 {color: black;background-color: white;}#sk-container-id-7 pre{padding: 0;}#sk-container-id-7 div.sk-toggleable {background-color: white;}#sk-container-id-7 label.sk-toggleable__label {cursor: pointer;display: block;width: 100%;margin-bottom: 0;padding: 0.3em;box-sizing: border-box;text-align: center;}#sk-container-id-7 label.sk-toggleable__label-arrow:before {content: \"▸\";float: left;margin-right: 0.25em;color: #696969;}#sk-container-id-7 label.sk-toggleable__label-arrow:hover:before {color: black;}#sk-container-id-7 div.sk-estimator:hover label.sk-toggleable__label-arrow:before {color: black;}#sk-container-id-7 div.sk-toggleable__content {max-height: 0;max-width: 0;overflow: hidden;text-align: left;background-color: #f0f8ff;}#sk-container-id-7 div.sk-toggleable__content pre {margin: 0.2em;color: black;border-radius: 0.25em;background-color: #f0f8ff;}#sk-container-id-7 input.sk-toggleable__control:checked~div.sk-toggleable__content {max-height: 200px;max-width: 100%;overflow: auto;}#sk-container-id-7 input.sk-toggleable__control:checked~label.sk-toggleable__label-arrow:before {content: \"▾\";}#sk-container-id-7 div.sk-estimator input.sk-toggleable__control:checked~label.sk-toggleable__label {background-color: #d4ebff;}#sk-container-id-7 div.sk-label input.sk-toggleable__control:checked~label.sk-toggleable__label {background-color: #d4ebff;}#sk-container-id-7 input.sk-hidden--visually {border: 0;clip: rect(1px 1px 1px 1px);clip: rect(1px, 1px, 1px, 1px);height: 1px;margin: -1px;overflow: hidden;padding: 0;position: absolute;width: 1px;}#sk-container-id-7 div.sk-estimator {font-family: monospace;background-color: #f0f8ff;border: 1px dotted black;border-radius: 0.25em;box-sizing: border-box;margin-bottom: 0.5em;}#sk-container-id-7 div.sk-estimator:hover {background-color: #d4ebff;}#sk-container-id-7 div.sk-parallel-item::after {content: \"\";width: 100%;border-bottom: 1px solid gray;flex-grow: 1;}#sk-container-id-7 div.sk-label:hover label.sk-toggleable__label {background-color: #d4ebff;}#sk-container-id-7 div.sk-serial::before {content: \"\";position: absolute;border-left: 1px solid gray;box-sizing: border-box;top: 0;bottom: 0;left: 50%;z-index: 0;}#sk-container-id-7 div.sk-serial {display: flex;flex-direction: column;align-items: center;background-color: white;padding-right: 0.2em;padding-left: 0.2em;position: relative;}#sk-container-id-7 div.sk-item {position: relative;z-index: 1;}#sk-container-id-7 div.sk-parallel {display: flex;align-items: stretch;justify-content: center;background-color: white;position: relative;}#sk-container-id-7 div.sk-item::before, #sk-container-id-7 div.sk-parallel-item::before {content: \"\";position: absolute;border-left: 1px solid gray;box-sizing: border-box;top: 0;bottom: 0;left: 50%;z-index: -1;}#sk-container-id-7 div.sk-parallel-item {display: flex;flex-direction: column;z-index: 1;position: relative;background-color: white;}#sk-container-id-7 div.sk-parallel-item:first-child::after {align-self: flex-end;width: 50%;}#sk-container-id-7 div.sk-parallel-item:last-child::after {align-self: flex-start;width: 50%;}#sk-container-id-7 div.sk-parallel-item:only-child::after {width: 0;}#sk-container-id-7 div.sk-dashed-wrapped {border: 1px dashed gray;margin: 0 0.4em 0.5em 0.4em;box-sizing: border-box;padding-bottom: 0.4em;background-color: white;}#sk-container-id-7 div.sk-label label {font-family: monospace;font-weight: bold;display: inline-block;line-height: 1.2em;}#sk-container-id-7 div.sk-label-container {text-align: center;}#sk-container-id-7 div.sk-container {/* jupyter's `normalize.less` sets `[hidden] { display: none; }` but bootstrap.min.css set `[hidden] { display: none !important; }` so we also need the `!important` here to be able to override the default hidden behavior on the sphinx rendered scikit-learn.org. See: https://github.com/scikit-learn/scikit-learn/issues/21755 */display: inline-block !important;position: relative;}#sk-container-id-7 div.sk-text-repr-fallback {display: none;}</style><div id=\"sk-container-id-7\" class=\"sk-top-container\"><div class=\"sk-text-repr-fallback\"><pre>Pipeline(steps=[(&#x27;preprocessor&#x27;,\n",
       "                 ColumnTransformer(remainder=&#x27;passthrough&#x27;,\n",
       "                                   transformers=[(&#x27;num&#x27;,\n",
       "                                                  Pipeline(steps=[(&#x27;scaler&#x27;,\n",
       "                                                                   RobustScaler())]),\n",
       "                                                  [&#x27;age&#x27;, &#x27;limit&#x27;,\n",
       "                                                   &#x27;status_sept&#x27;, &#x27;status_aug&#x27;,\n",
       "                                                   &#x27;status_july&#x27;, &#x27;status_june&#x27;,\n",
       "                                                   &#x27;status_may&#x27;, &#x27;status_apr&#x27;,\n",
       "                                                   &#x27;bill_sept&#x27;, &#x27;bill_aug&#x27;,\n",
       "                                                   &#x27;bill_july&#x27;, &#x27;bill_june&#x27;,\n",
       "                                                   &#x27;bill_may&#x27;, &#x27;bill_apr&#x27;,\n",
       "                                                   &#x27;pay_sept&#x27;, &#x27;pay_aug&#x27;,\n",
       "                                                   &#x27;pay_july&#x27;, &#x27;pay_june&#x27;,\n",
       "                                                   &#x27;pay_may&#x27;, &#x27;pay_apr&#x27;]),\n",
       "                                                 (&#x27;cat&#x27;,\n",
       "                                                  Pipeline(steps=[(&#x27;encoder&#x27;,\n",
       "                                                                   OneHotEncoder(handle_unknown=&#x27;ignore&#x27;))]),\n",
       "                                                  [&#x27;sex&#x27;, &#x27;education&#x27;,\n",
       "                                                   &#x27;marriage&#x27;])])),\n",
       "                (&#x27;logreg&#x27;, GradientBoostingClassifier())])</pre><b>In a Jupyter environment, please rerun this cell to show the HTML representation or trust the notebook. <br />On GitHub, the HTML representation is unable to render, please try loading this page with nbviewer.org.</b></div><div class=\"sk-container\" hidden><div class=\"sk-item sk-dashed-wrapped\"><div class=\"sk-label-container\"><div class=\"sk-label sk-toggleable\"><input class=\"sk-toggleable__control sk-hidden--visually\" id=\"sk-estimator-id-55\" type=\"checkbox\" ><label for=\"sk-estimator-id-55\" class=\"sk-toggleable__label sk-toggleable__label-arrow\">Pipeline</label><div class=\"sk-toggleable__content\"><pre>Pipeline(steps=[(&#x27;preprocessor&#x27;,\n",
       "                 ColumnTransformer(remainder=&#x27;passthrough&#x27;,\n",
       "                                   transformers=[(&#x27;num&#x27;,\n",
       "                                                  Pipeline(steps=[(&#x27;scaler&#x27;,\n",
       "                                                                   RobustScaler())]),\n",
       "                                                  [&#x27;age&#x27;, &#x27;limit&#x27;,\n",
       "                                                   &#x27;status_sept&#x27;, &#x27;status_aug&#x27;,\n",
       "                                                   &#x27;status_july&#x27;, &#x27;status_june&#x27;,\n",
       "                                                   &#x27;status_may&#x27;, &#x27;status_apr&#x27;,\n",
       "                                                   &#x27;bill_sept&#x27;, &#x27;bill_aug&#x27;,\n",
       "                                                   &#x27;bill_july&#x27;, &#x27;bill_june&#x27;,\n",
       "                                                   &#x27;bill_may&#x27;, &#x27;bill_apr&#x27;,\n",
       "                                                   &#x27;pay_sept&#x27;, &#x27;pay_aug&#x27;,\n",
       "                                                   &#x27;pay_july&#x27;, &#x27;pay_june&#x27;,\n",
       "                                                   &#x27;pay_may&#x27;, &#x27;pay_apr&#x27;]),\n",
       "                                                 (&#x27;cat&#x27;,\n",
       "                                                  Pipeline(steps=[(&#x27;encoder&#x27;,\n",
       "                                                                   OneHotEncoder(handle_unknown=&#x27;ignore&#x27;))]),\n",
       "                                                  [&#x27;sex&#x27;, &#x27;education&#x27;,\n",
       "                                                   &#x27;marriage&#x27;])])),\n",
       "                (&#x27;logreg&#x27;, GradientBoostingClassifier())])</pre></div></div></div><div class=\"sk-serial\"><div class=\"sk-item sk-dashed-wrapped\"><div class=\"sk-label-container\"><div class=\"sk-label sk-toggleable\"><input class=\"sk-toggleable__control sk-hidden--visually\" id=\"sk-estimator-id-56\" type=\"checkbox\" ><label for=\"sk-estimator-id-56\" class=\"sk-toggleable__label sk-toggleable__label-arrow\">preprocessor: ColumnTransformer</label><div class=\"sk-toggleable__content\"><pre>ColumnTransformer(remainder=&#x27;passthrough&#x27;,\n",
       "                  transformers=[(&#x27;num&#x27;,\n",
       "                                 Pipeline(steps=[(&#x27;scaler&#x27;, RobustScaler())]),\n",
       "                                 [&#x27;age&#x27;, &#x27;limit&#x27;, &#x27;status_sept&#x27;, &#x27;status_aug&#x27;,\n",
       "                                  &#x27;status_july&#x27;, &#x27;status_june&#x27;, &#x27;status_may&#x27;,\n",
       "                                  &#x27;status_apr&#x27;, &#x27;bill_sept&#x27;, &#x27;bill_aug&#x27;,\n",
       "                                  &#x27;bill_july&#x27;, &#x27;bill_june&#x27;, &#x27;bill_may&#x27;,\n",
       "                                  &#x27;bill_apr&#x27;, &#x27;pay_sept&#x27;, &#x27;pay_aug&#x27;, &#x27;pay_july&#x27;,\n",
       "                                  &#x27;pay_june&#x27;, &#x27;pay_may&#x27;, &#x27;pay_apr&#x27;]),\n",
       "                                (&#x27;cat&#x27;,\n",
       "                                 Pipeline(steps=[(&#x27;encoder&#x27;,\n",
       "                                                  OneHotEncoder(handle_unknown=&#x27;ignore&#x27;))]),\n",
       "                                 [&#x27;sex&#x27;, &#x27;education&#x27;, &#x27;marriage&#x27;])])</pre></div></div></div><div class=\"sk-parallel\"><div class=\"sk-parallel-item\"><div class=\"sk-item\"><div class=\"sk-label-container\"><div class=\"sk-label sk-toggleable\"><input class=\"sk-toggleable__control sk-hidden--visually\" id=\"sk-estimator-id-57\" type=\"checkbox\" ><label for=\"sk-estimator-id-57\" class=\"sk-toggleable__label sk-toggleable__label-arrow\">num</label><div class=\"sk-toggleable__content\"><pre>[&#x27;age&#x27;, &#x27;limit&#x27;, &#x27;status_sept&#x27;, &#x27;status_aug&#x27;, &#x27;status_july&#x27;, &#x27;status_june&#x27;, &#x27;status_may&#x27;, &#x27;status_apr&#x27;, &#x27;bill_sept&#x27;, &#x27;bill_aug&#x27;, &#x27;bill_july&#x27;, &#x27;bill_june&#x27;, &#x27;bill_may&#x27;, &#x27;bill_apr&#x27;, &#x27;pay_sept&#x27;, &#x27;pay_aug&#x27;, &#x27;pay_july&#x27;, &#x27;pay_june&#x27;, &#x27;pay_may&#x27;, &#x27;pay_apr&#x27;]</pre></div></div></div><div class=\"sk-serial\"><div class=\"sk-item\"><div class=\"sk-serial\"><div class=\"sk-item\"><div class=\"sk-estimator sk-toggleable\"><input class=\"sk-toggleable__control sk-hidden--visually\" id=\"sk-estimator-id-58\" type=\"checkbox\" ><label for=\"sk-estimator-id-58\" class=\"sk-toggleable__label sk-toggleable__label-arrow\">RobustScaler</label><div class=\"sk-toggleable__content\"><pre>RobustScaler()</pre></div></div></div></div></div></div></div></div><div class=\"sk-parallel-item\"><div class=\"sk-item\"><div class=\"sk-label-container\"><div class=\"sk-label sk-toggleable\"><input class=\"sk-toggleable__control sk-hidden--visually\" id=\"sk-estimator-id-59\" type=\"checkbox\" ><label for=\"sk-estimator-id-59\" class=\"sk-toggleable__label sk-toggleable__label-arrow\">cat</label><div class=\"sk-toggleable__content\"><pre>[&#x27;sex&#x27;, &#x27;education&#x27;, &#x27;marriage&#x27;]</pre></div></div></div><div class=\"sk-serial\"><div class=\"sk-item\"><div class=\"sk-serial\"><div class=\"sk-item\"><div class=\"sk-estimator sk-toggleable\"><input class=\"sk-toggleable__control sk-hidden--visually\" id=\"sk-estimator-id-60\" type=\"checkbox\" ><label for=\"sk-estimator-id-60\" class=\"sk-toggleable__label sk-toggleable__label-arrow\">OneHotEncoder</label><div class=\"sk-toggleable__content\"><pre>OneHotEncoder(handle_unknown=&#x27;ignore&#x27;)</pre></div></div></div></div></div></div></div></div><div class=\"sk-parallel-item\"><div class=\"sk-item\"><div class=\"sk-label-container\"><div class=\"sk-label sk-toggleable\"><input class=\"sk-toggleable__control sk-hidden--visually\" id=\"sk-estimator-id-61\" type=\"checkbox\" ><label for=\"sk-estimator-id-61\" class=\"sk-toggleable__label sk-toggleable__label-arrow\">remainder</label><div class=\"sk-toggleable__content\"><pre>[]</pre></div></div></div><div class=\"sk-serial\"><div class=\"sk-item\"><div class=\"sk-estimator sk-toggleable\"><input class=\"sk-toggleable__control sk-hidden--visually\" id=\"sk-estimator-id-62\" type=\"checkbox\" ><label for=\"sk-estimator-id-62\" class=\"sk-toggleable__label sk-toggleable__label-arrow\">passthrough</label><div class=\"sk-toggleable__content\"><pre>passthrough</pre></div></div></div></div></div></div></div></div><div class=\"sk-item\"><div class=\"sk-estimator sk-toggleable\"><input class=\"sk-toggleable__control sk-hidden--visually\" id=\"sk-estimator-id-63\" type=\"checkbox\" ><label for=\"sk-estimator-id-63\" class=\"sk-toggleable__label sk-toggleable__label-arrow\">GradientBoostingClassifier</label><div class=\"sk-toggleable__content\"><pre>GradientBoostingClassifier()</pre></div></div></div></div></div></div></div>"
      ],
      "text/plain": [
       "Pipeline(steps=[('preprocessor',\n",
       "                 ColumnTransformer(remainder='passthrough',\n",
       "                                   transformers=[('num',\n",
       "                                                  Pipeline(steps=[('scaler',\n",
       "                                                                   RobustScaler())]),\n",
       "                                                  ['age', 'limit',\n",
       "                                                   'status_sept', 'status_aug',\n",
       "                                                   'status_july', 'status_june',\n",
       "                                                   'status_may', 'status_apr',\n",
       "                                                   'bill_sept', 'bill_aug',\n",
       "                                                   'bill_july', 'bill_june',\n",
       "                                                   'bill_may', 'bill_apr',\n",
       "                                                   'pay_sept', 'pay_aug',\n",
       "                                                   'pay_july', 'pay_june',\n",
       "                                                   'pay_may', 'pay_apr']),\n",
       "                                                 ('cat',\n",
       "                                                  Pipeline(steps=[('encoder',\n",
       "                                                                   OneHotEncoder(handle_unknown='ignore'))]),\n",
       "                                                  ['sex', 'education',\n",
       "                                                   'marriage'])])),\n",
       "                ('logreg', GradientBoostingClassifier())])"
      ]
     },
     "execution_count": 47,
     "metadata": {},
     "output_type": "execute_result"
    }
   ],
   "source": [
    "# Membuat Pipeline untuk Gradient Boosting \n",
    "pipe_gradient = Pipeline([\n",
    "    ('preprocessor', preprocessor), \n",
    "    ('logreg', GradientBoostingClassifier())\n",
    "])\n",
    "\n",
    "# Train Gradient Boosting\n",
    "pipe_gradient.fit(X_train, y_train)"
   ]
  },
  {
   "cell_type": "code",
   "execution_count": 48,
   "metadata": {},
   "outputs": [
    {
     "name": "stdout",
     "output_type": "stream",
     "text": [
      "Gradient Boosting: 0.8327 | std: 0.0173\n"
     ]
    }
   ],
   "source": [
    "scores_gradient = cross_val_score(pipe_gradient, X, y, cv=kf)\n",
    "print('Gradient Boosting:', round(scores_gradient.mean(),4),'| std:', round(scores_gradient.std(),4))"
   ]
  },
  {
   "cell_type": "markdown",
   "metadata": {},
   "source": [
    "Dapat dilihat pada gradient boosting memiliki mean cross validation yang lebih tinggi daripada random forest walaupun perbedaan dalam cross validationnya hanya sedikit bertambah namun pada model ini memiliki standard deviation kecil, menunjukkan konsistensi pada model jika dibandingkan keenam baseline model tadi.\n",
    "\n",
    "Saya akan melihat ROC-AUC scorenya juga pada 6 model tadi dan ditambah gradient boosting."
   ]
  },
  {
   "cell_type": "code",
   "execution_count": 49,
   "metadata": {},
   "outputs": [
    {
     "data": {
      "image/png": "[encoded data removed]",
      "text/plain": [
       "<Figure size 1000x700 with 1 Axes>"
      ]
     },
     "metadata": {},
     "output_type": "display_data"
    }
   ],
   "source": [
    "y_pred_proba_lr = pipe_logreg.predict_proba(X_test)[::,1]\n",
    "fpr1, tpr1, _ = roc_curve(y_test,  y_pred_proba_lr)\n",
    "auc1 = roc_auc_score(y_test, y_pred_proba_lr)\n",
    "\n",
    "y_pred_proba_svc = pipe_svc.predict_proba(X_test)[::,1]\n",
    "fpr2, tpr2, _ = roc_curve(y_test,  y_pred_proba_svc)\n",
    "auc2 = roc_auc_score(y_test, y_pred_proba_svc)\n",
    "\n",
    "y_pred_proba_tree = pipe_tree.predict_proba(X_test)[::,1]\n",
    "fpr3, tpr3, _ = roc_curve(y_test,  y_pred_proba_tree)\n",
    "auc3 = roc_auc_score(y_test, y_pred_proba_tree)\n",
    "\n",
    "y_pred_proba_forest = pipe_forest.predict_proba(X_test)[::,1]\n",
    "fpr4, tpr4, _ = roc_curve(y_test,  y_pred_proba_forest)\n",
    "auc4 = roc_auc_score(y_test, y_pred_proba_forest)\n",
    "\n",
    "y_pred_proba_knn = pipe_knn.predict_proba(X_test)[::,1]\n",
    "fpr5, tpr5, _ = roc_curve(y_test,  y_pred_proba_knn)\n",
    "auc5 = roc_auc_score(y_test, y_pred_proba_knn)\n",
    "\n",
    "y_pred_proba_nb = pipe_nb.predict_proba(X_test)[::,1]\n",
    "fpr6, tpr6, _ = roc_curve(y_test,  y_pred_proba_nb)\n",
    "auc6 = roc_auc_score(y_test, y_pred_proba_nb)\n",
    "\n",
    "y_pred_proba_grd = pipe_gradient.predict_proba(X_test)[::,1]\n",
    "fpr7, tpr7, _ = roc_curve(y_test,  y_pred_proba_grd)\n",
    "auc7 = roc_auc_score(y_test, y_pred_proba_grd)\n",
    "\n",
    "plt.figure(figsize=(10,7))\n",
    "plt.plot([0, 1], [0, 1], 'k--')\n",
    "plt.plot(fpr1,tpr1,label=\"Logistic Regression, auc=\"+str(round(auc1,2)))\n",
    "plt.plot(fpr2,tpr2,label=\"SVM, auc=\"+str(round(auc2,2)))\n",
    "plt.plot(fpr3,tpr3,label=\"Decision Tree, auc=\"+str(round(auc3,2)))\n",
    "plt.plot(fpr4,tpr4,label=\"Random Forest, auc=\"+str(round(auc4,2)))\n",
    "plt.plot(fpr5,tpr5,label=\"KNN, auc=\"+str(round(auc5,2)))\n",
    "plt.plot(fpr6,tpr6,label=\"Naive Bayes, auc=\"+str(round(auc6,2)))\n",
    "plt.plot(fpr7,tpr7,label=\"Gradient Boosting, auc=\"+str(round(auc7,2)))\n",
    "plt.legend(loc=4, title='Models', facecolor='white')\n",
    "plt.xlabel('False Positive Rate')\n",
    "plt.ylabel('True Positive Rate')\n",
    "plt.title('ROC', size=15)\n",
    "plt.box(False)"
   ]
  },
  {
   "cell_type": "markdown",
   "metadata": {},
   "source": [
    "Area di bawah kurva ROC adalah AUC (Area Under the Curve) yang digunakan sebagai indeks evaluasi untuk model klasifikasi, nilai AUC terbaik adalah 1 menunjukkan prediksi sempurna dan jika 0.5 menunjukkan prediksi acak. Dapat dilihat pada graph diatas, score AUC tertinggi didapat oleh model Gradient Boosting sebesar 0.82. Artinya model ini bisa memprediksi antara default dan not default dengan ketepatan sebesar 82%.\n",
    "\n",
    "Dari cross-validation diatas dan juga ROC, Gradient Boosting memiliki skor tertinggi, saya akan melanjutkan untuk melihat classification report dan juga confusion matrix dari model ini."
   ]
  },
  {
   "cell_type": "code",
   "execution_count": 50,
   "metadata": {},
   "outputs": [
    {
     "name": "stdout",
     "output_type": "stream",
     "text": [
      "F1 Score - Test Set   :  0.5217391304347826 \n",
      "\n",
      "Classification Report : \n",
      "               precision    recall  f1-score   support\n",
      "\n",
      "           0       0.86      0.97      0.91       472\n",
      "           1       0.76      0.40      0.52       121\n",
      "\n",
      "    accuracy                           0.85       593\n",
      "   macro avg       0.81      0.68      0.72       593\n",
      "weighted avg       0.84      0.85      0.83       593\n",
      " \n",
      "\n",
      "Confusion Matrix      : \n",
      " <sklearn.metrics._plot.confusion_matrix.ConfusionMatrixDisplay object at 0x000002909AABBB80>\n"
     ]
    },
    {
     "data": {
      "image/png": "[encoded data removed]",
      "text/plain": [
       "<Figure size 640x480 with 2 Axes>"
      ]
     },
     "metadata": {},
     "output_type": "display_data"
    }
   ],
   "source": [
    "y_pred = pipe_gradient.predict(X_test)\n",
    "\n",
    "print('F1 Score - Test Set   : ', f1_score(y_test, y_pred), '\\n')\n",
    "print('Classification Report : \\n', classification_report(y_test, y_pred), '\\n')\n",
    "print('Confusion Matrix      : \\n', ConfusionMatrixDisplay.from_estimator(pipe_gradient, X_test, y_test, cmap='Reds'))"
   ]
  },
  {
   "cell_type": "markdown",
   "metadata": {},
   "source": [
    "Jika dibandingkan pada random forest tidak ada perbedaan yang signifikan pada classification reportnya. Dapat dilihat bahwa model masih kesusahan dalam memprediksi False Negative (ditunjukkan dengan nilai recall rendah) kemungkinan besar dikarenakan adanya imbalance pada dataset.\n",
    "\n",
    "Namun tetap saja saya memutuskan bahwa Gradient Boosting memiliki performa terbaik dari keseluruhan model. Oleh karena itu saya akan menggunakan model gradient boosting saja pada hyperparameter tuning untuk melihat apakah ada kenaikan peforma setelah dilakukannya hyperparameter tuning."
   ]
  },
  {
   "cell_type": "markdown",
   "metadata": {},
   "source": [
    "## Hyperparameter Tuning"
   ]
  },
  {
   "cell_type": "code",
   "execution_count": 51,
   "metadata": {},
   "outputs": [
    {
     "data": {
      "text/plain": [
       "{'n_estimators': [50, 266, 483, 700, 916, 1133, 1350, 1566, 1783, 2000],\n",
       " 'learning_rate': [0.001,\n",
       "  0.012,\n",
       "  0.023000000000000003,\n",
       "  0.034,\n",
       "  0.045000000000000005,\n",
       "  0.05600000000000001,\n",
       "  0.067,\n",
       "  0.07800000000000001,\n",
       "  0.08900000000000001,\n",
       "  0.1],\n",
       " 'max_features': ['sqrt', 'log2'],\n",
       " 'max_depth': [10, 120, 230, 340, 450, 560, 670, 780, 890, 1000],\n",
       " 'min_samples_split': [2, 5, 10, 14],\n",
       " 'min_samples_leaf': [1, 2, 4, 6, 8],\n",
       " 'criterion': ['friedman_mse', 'squared_error']}"
      ]
     },
     "execution_count": 51,
     "metadata": {},
     "output_type": "execute_result"
    }
   ],
   "source": [
    "# Membuat hyperparameter\n",
    "n_estimators = [int(x) for x in np.linspace(start=50, stop=2000, num = 10)]\n",
    "learning_rate = [float(x) for x in np.linspace(start=0.001, stop=0.1, num = 10)]\n",
    "max_features = ['sqrt', 'log2']\n",
    "max_depth = [int(x) for x in np.linspace(10, 1000, 10)]\n",
    "min_samples_split = [2, 5, 10, 14]\n",
    "min_samples_leaf = [1, 2, 4, 6, 8]\n",
    "random_grid = {'n_estimators': n_estimators,\n",
    "               'learning_rate':learning_rate,\n",
    "               'max_features':max_features,\n",
    "               'max_depth':max_depth,\n",
    "               'min_samples_split':min_samples_split,\n",
    "               'min_samples_leaf':min_samples_leaf,\n",
    "               'criterion':['friedman_mse','squared_error']}\n",
    "random_grid"
   ]
  },
  {
   "cell_type": "markdown",
   "metadata": {},
   "source": [
    "Pada hyperparameter tuning, saya akan menggunakan RandomSearchCV, alasannya dikarenakan search-space pada hyperparameter yang saya definisikan diatas sangat luas, oleh karena itu jika menggunakan GridSearchCV akan lebih memakan resource dan waktu komputasi yang banyak."
   ]
  },
  {
   "cell_type": "code",
   "execution_count": 52,
   "metadata": {},
   "outputs": [
    {
     "data": {
      "text/html": [
       "<style>#sk-container-id-8 {color: black;background-color: white;}#sk-container-id-8 pre{padding: 0;}#sk-container-id-8 div.sk-toggleable {background-color: white;}#sk-container-id-8 label.sk-toggleable__label {cursor: pointer;display: block;width: 100%;margin-bottom: 0;padding: 0.3em;box-sizing: border-box;text-align: center;}#sk-container-id-8 label.sk-toggleable__label-arrow:before {content: \"▸\";float: left;margin-right: 0.25em;color: #696969;}#sk-container-id-8 label.sk-toggleable__label-arrow:hover:before {color: black;}#sk-container-id-8 div.sk-estimator:hover label.sk-toggleable__label-arrow:before {color: black;}#sk-container-id-8 div.sk-toggleable__content {max-height: 0;max-width: 0;overflow: hidden;text-align: left;background-color: #f0f8ff;}#sk-container-id-8 div.sk-toggleable__content pre {margin: 0.2em;color: black;border-radius: 0.25em;background-color: #f0f8ff;}#sk-container-id-8 input.sk-toggleable__control:checked~div.sk-toggleable__content {max-height: 200px;max-width: 100%;overflow: auto;}#sk-container-id-8 input.sk-toggleable__control:checked~label.sk-toggleable__label-arrow:before {content: \"▾\";}#sk-container-id-8 div.sk-estimator input.sk-toggleable__control:checked~label.sk-toggleable__label {background-color: #d4ebff;}#sk-container-id-8 div.sk-label input.sk-toggleable__control:checked~label.sk-toggleable__label {background-color: #d4ebff;}#sk-container-id-8 input.sk-hidden--visually {border: 0;clip: rect(1px 1px 1px 1px);clip: rect(1px, 1px, 1px, 1px);height: 1px;margin: -1px;overflow: hidden;padding: 0;position: absolute;width: 1px;}#sk-container-id-8 div.sk-estimator {font-family: monospace;background-color: #f0f8ff;border: 1px dotted black;border-radius: 0.25em;box-sizing: border-box;margin-bottom: 0.5em;}#sk-container-id-8 div.sk-estimator:hover {background-color: #d4ebff;}#sk-container-id-8 div.sk-parallel-item::after {content: \"\";width: 100%;border-bottom: 1px solid gray;flex-grow: 1;}#sk-container-id-8 div.sk-label:hover label.sk-toggleable__label {background-color: #d4ebff;}#sk-container-id-8 div.sk-serial::before {content: \"\";position: absolute;border-left: 1px solid gray;box-sizing: border-box;top: 0;bottom: 0;left: 50%;z-index: 0;}#sk-container-id-8 div.sk-serial {display: flex;flex-direction: column;align-items: center;background-color: white;padding-right: 0.2em;padding-left: 0.2em;position: relative;}#sk-container-id-8 div.sk-item {position: relative;z-index: 1;}#sk-container-id-8 div.sk-parallel {display: flex;align-items: stretch;justify-content: center;background-color: white;position: relative;}#sk-container-id-8 div.sk-item::before, #sk-container-id-8 div.sk-parallel-item::before {content: \"\";position: absolute;border-left: 1px solid gray;box-sizing: border-box;top: 0;bottom: 0;left: 50%;z-index: -1;}#sk-container-id-8 div.sk-parallel-item {display: flex;flex-direction: column;z-index: 1;position: relative;background-color: white;}#sk-container-id-8 div.sk-parallel-item:first-child::after {align-self: flex-end;width: 50%;}#sk-container-id-8 div.sk-parallel-item:last-child::after {align-self: flex-start;width: 50%;}#sk-container-id-8 div.sk-parallel-item:only-child::after {width: 0;}#sk-container-id-8 div.sk-dashed-wrapped {border: 1px dashed gray;margin: 0 0.4em 0.5em 0.4em;box-sizing: border-box;padding-bottom: 0.4em;background-color: white;}#sk-container-id-8 div.sk-label label {font-family: monospace;font-weight: bold;display: inline-block;line-height: 1.2em;}#sk-container-id-8 div.sk-label-container {text-align: center;}#sk-container-id-8 div.sk-container {/* jupyter's `normalize.less` sets `[hidden] { display: none; }` but bootstrap.min.css set `[hidden] { display: none !important; }` so we also need the `!important` here to be able to override the default hidden behavior on the sphinx rendered scikit-learn.org. See: https://github.com/scikit-learn/scikit-learn/issues/21755 */display: inline-block !important;position: relative;}#sk-container-id-8 div.sk-text-repr-fallback {display: none;}</style><div id=\"sk-container-id-8\" class=\"sk-top-container\"><div class=\"sk-text-repr-fallback\"><pre>RandomizedSearchCV(cv=5, estimator=GradientBoostingClassifier(), n_iter=50,\n",
       "                   n_jobs=-1,\n",
       "                   param_distributions={&#x27;criterion&#x27;: [&#x27;friedman_mse&#x27;,\n",
       "                                                      &#x27;squared_error&#x27;],\n",
       "                                        &#x27;learning_rate&#x27;: [0.001, 0.012,\n",
       "                                                          0.023000000000000003,\n",
       "                                                          0.034,\n",
       "                                                          0.045000000000000005,\n",
       "                                                          0.05600000000000001,\n",
       "                                                          0.067,\n",
       "                                                          0.07800000000000001,\n",
       "                                                          0.08900000000000001,\n",
       "                                                          0.1],\n",
       "                                        &#x27;max_depth&#x27;: [10, 120, 230, 340, 450,\n",
       "                                                      560, 670, 780, 890,\n",
       "                                                      1000],\n",
       "                                        &#x27;max_features&#x27;: [&#x27;sqrt&#x27;, &#x27;log2&#x27;],\n",
       "                                        &#x27;min_samples_leaf&#x27;: [1, 2, 4, 6, 8],\n",
       "                                        &#x27;min_samples_split&#x27;: [2, 5, 10, 14],\n",
       "                                        &#x27;n_estimators&#x27;: [50, 266, 483, 700, 916,\n",
       "                                                         1133, 1350, 1566, 1783,\n",
       "                                                         2000]},\n",
       "                   random_state=15, scoring=&#x27;f1&#x27;)</pre><b>In a Jupyter environment, please rerun this cell to show the HTML representation or trust the notebook. <br />On GitHub, the HTML representation is unable to render, please try loading this page with nbviewer.org.</b></div><div class=\"sk-container\" hidden><div class=\"sk-item sk-dashed-wrapped\"><div class=\"sk-label-container\"><div class=\"sk-label sk-toggleable\"><input class=\"sk-toggleable__control sk-hidden--visually\" id=\"sk-estimator-id-64\" type=\"checkbox\" ><label for=\"sk-estimator-id-64\" class=\"sk-toggleable__label sk-toggleable__label-arrow\">RandomizedSearchCV</label><div class=\"sk-toggleable__content\"><pre>RandomizedSearchCV(cv=5, estimator=GradientBoostingClassifier(), n_iter=50,\n",
       "                   n_jobs=-1,\n",
       "                   param_distributions={&#x27;criterion&#x27;: [&#x27;friedman_mse&#x27;,\n",
       "                                                      &#x27;squared_error&#x27;],\n",
       "                                        &#x27;learning_rate&#x27;: [0.001, 0.012,\n",
       "                                                          0.023000000000000003,\n",
       "                                                          0.034,\n",
       "                                                          0.045000000000000005,\n",
       "                                                          0.05600000000000001,\n",
       "                                                          0.067,\n",
       "                                                          0.07800000000000001,\n",
       "                                                          0.08900000000000001,\n",
       "                                                          0.1],\n",
       "                                        &#x27;max_depth&#x27;: [10, 120, 230, 340, 450,\n",
       "                                                      560, 670, 780, 890,\n",
       "                                                      1000],\n",
       "                                        &#x27;max_features&#x27;: [&#x27;sqrt&#x27;, &#x27;log2&#x27;],\n",
       "                                        &#x27;min_samples_leaf&#x27;: [1, 2, 4, 6, 8],\n",
       "                                        &#x27;min_samples_split&#x27;: [2, 5, 10, 14],\n",
       "                                        &#x27;n_estimators&#x27;: [50, 266, 483, 700, 916,\n",
       "                                                         1133, 1350, 1566, 1783,\n",
       "                                                         2000]},\n",
       "                   random_state=15, scoring=&#x27;f1&#x27;)</pre></div></div></div><div class=\"sk-parallel\"><div class=\"sk-parallel-item\"><div class=\"sk-item\"><div class=\"sk-label-container\"><div class=\"sk-label sk-toggleable\"><input class=\"sk-toggleable__control sk-hidden--visually\" id=\"sk-estimator-id-65\" type=\"checkbox\" ><label for=\"sk-estimator-id-65\" class=\"sk-toggleable__label sk-toggleable__label-arrow\">estimator: GradientBoostingClassifier</label><div class=\"sk-toggleable__content\"><pre>GradientBoostingClassifier()</pre></div></div></div><div class=\"sk-serial\"><div class=\"sk-item\"><div class=\"sk-estimator sk-toggleable\"><input class=\"sk-toggleable__control sk-hidden--visually\" id=\"sk-estimator-id-66\" type=\"checkbox\" ><label for=\"sk-estimator-id-66\" class=\"sk-toggleable__label sk-toggleable__label-arrow\">GradientBoostingClassifier</label><div class=\"sk-toggleable__content\"><pre>GradientBoostingClassifier()</pre></div></div></div></div></div></div></div></div></div></div>"
      ],
      "text/plain": [
       "RandomizedSearchCV(cv=5, estimator=GradientBoostingClassifier(), n_iter=50,\n",
       "                   n_jobs=-1,\n",
       "                   param_distributions={'criterion': ['friedman_mse',\n",
       "                                                      'squared_error'],\n",
       "                                        'learning_rate': [0.001, 0.012,\n",
       "                                                          0.023000000000000003,\n",
       "                                                          0.034,\n",
       "                                                          0.045000000000000005,\n",
       "                                                          0.05600000000000001,\n",
       "                                                          0.067,\n",
       "                                                          0.07800000000000001,\n",
       "                                                          0.08900000000000001,\n",
       "                                                          0.1],\n",
       "                                        'max_depth': [10, 120, 230, 340, 450,\n",
       "                                                      560, 670, 780, 890,\n",
       "                                                      1000],\n",
       "                                        'max_features': ['sqrt', 'log2'],\n",
       "                                        'min_samples_leaf': [1, 2, 4, 6, 8],\n",
       "                                        'min_samples_split': [2, 5, 10, 14],\n",
       "                                        'n_estimators': [50, 266, 483, 700, 916,\n",
       "                                                         1133, 1350, 1566, 1783,\n",
       "                                                         2000]},\n",
       "                   random_state=15, scoring='f1')"
      ]
     },
     "execution_count": 52,
     "metadata": {},
     "output_type": "execute_result"
    }
   ],
   "source": [
    "randomcv = RandomizedSearchCV(estimator=GradientBoostingClassifier(),\n",
    "                                 param_distributions=random_grid,\n",
    "                                 n_iter=50,\n",
    "                                 cv=5,\n",
    "                                 random_state=15,\n",
    "                                 n_jobs=-1,\n",
    "                                 scoring='f1')\n",
    "randomcv.fit(X_train, y_train)"
   ]
  },
  {
   "cell_type": "code",
   "execution_count": 53,
   "metadata": {},
   "outputs": [
    {
     "data": {
      "text/plain": [
       "{'n_estimators': 2000,\n",
       " 'min_samples_split': 10,\n",
       " 'min_samples_leaf': 2,\n",
       " 'max_features': 'log2',\n",
       " 'max_depth': 450,\n",
       " 'learning_rate': 0.023000000000000003,\n",
       " 'criterion': 'squared_error'}"
      ]
     },
     "execution_count": 53,
     "metadata": {},
     "output_type": "execute_result"
    }
   ],
   "source": [
    "# Melihat hyperparameters terbaik\n",
    "randomcv.best_params_"
   ]
  },
  {
   "cell_type": "code",
   "execution_count": 54,
   "metadata": {},
   "outputs": [
    {
     "data": {
      "text/html": [
       "<style>#sk-container-id-9 {color: black;background-color: white;}#sk-container-id-9 pre{padding: 0;}#sk-container-id-9 div.sk-toggleable {background-color: white;}#sk-container-id-9 label.sk-toggleable__label {cursor: pointer;display: block;width: 100%;margin-bottom: 0;padding: 0.3em;box-sizing: border-box;text-align: center;}#sk-container-id-9 label.sk-toggleable__label-arrow:before {content: \"▸\";float: left;margin-right: 0.25em;color: #696969;}#sk-container-id-9 label.sk-toggleable__label-arrow:hover:before {color: black;}#sk-container-id-9 div.sk-estimator:hover label.sk-toggleable__label-arrow:before {color: black;}#sk-container-id-9 div.sk-toggleable__content {max-height: 0;max-width: 0;overflow: hidden;text-align: left;background-color: #f0f8ff;}#sk-container-id-9 div.sk-toggleable__content pre {margin: 0.2em;color: black;border-radius: 0.25em;background-color: #f0f8ff;}#sk-container-id-9 input.sk-toggleable__control:checked~div.sk-toggleable__content {max-height: 200px;max-width: 100%;overflow: auto;}#sk-container-id-9 input.sk-toggleable__control:checked~label.sk-toggleable__label-arrow:before {content: \"▾\";}#sk-container-id-9 div.sk-estimator input.sk-toggleable__control:checked~label.sk-toggleable__label {background-color: #d4ebff;}#sk-container-id-9 div.sk-label input.sk-toggleable__control:checked~label.sk-toggleable__label {background-color: #d4ebff;}#sk-container-id-9 input.sk-hidden--visually {border: 0;clip: rect(1px 1px 1px 1px);clip: rect(1px, 1px, 1px, 1px);height: 1px;margin: -1px;overflow: hidden;padding: 0;position: absolute;width: 1px;}#sk-container-id-9 div.sk-estimator {font-family: monospace;background-color: #f0f8ff;border: 1px dotted black;border-radius: 0.25em;box-sizing: border-box;margin-bottom: 0.5em;}#sk-container-id-9 div.sk-estimator:hover {background-color: #d4ebff;}#sk-container-id-9 div.sk-parallel-item::after {content: \"\";width: 100%;border-bottom: 1px solid gray;flex-grow: 1;}#sk-container-id-9 div.sk-label:hover label.sk-toggleable__label {background-color: #d4ebff;}#sk-container-id-9 div.sk-serial::before {content: \"\";position: absolute;border-left: 1px solid gray;box-sizing: border-box;top: 0;bottom: 0;left: 50%;z-index: 0;}#sk-container-id-9 div.sk-serial {display: flex;flex-direction: column;align-items: center;background-color: white;padding-right: 0.2em;padding-left: 0.2em;position: relative;}#sk-container-id-9 div.sk-item {position: relative;z-index: 1;}#sk-container-id-9 div.sk-parallel {display: flex;align-items: stretch;justify-content: center;background-color: white;position: relative;}#sk-container-id-9 div.sk-item::before, #sk-container-id-9 div.sk-parallel-item::before {content: \"\";position: absolute;border-left: 1px solid gray;box-sizing: border-box;top: 0;bottom: 0;left: 50%;z-index: -1;}#sk-container-id-9 div.sk-parallel-item {display: flex;flex-direction: column;z-index: 1;position: relative;background-color: white;}#sk-container-id-9 div.sk-parallel-item:first-child::after {align-self: flex-end;width: 50%;}#sk-container-id-9 div.sk-parallel-item:last-child::after {align-self: flex-start;width: 50%;}#sk-container-id-9 div.sk-parallel-item:only-child::after {width: 0;}#sk-container-id-9 div.sk-dashed-wrapped {border: 1px dashed gray;margin: 0 0.4em 0.5em 0.4em;box-sizing: border-box;padding-bottom: 0.4em;background-color: white;}#sk-container-id-9 div.sk-label label {font-family: monospace;font-weight: bold;display: inline-block;line-height: 1.2em;}#sk-container-id-9 div.sk-label-container {text-align: center;}#sk-container-id-9 div.sk-container {/* jupyter's `normalize.less` sets `[hidden] { display: none; }` but bootstrap.min.css set `[hidden] { display: none !important; }` so we also need the `!important` here to be able to override the default hidden behavior on the sphinx rendered scikit-learn.org. See: https://github.com/scikit-learn/scikit-learn/issues/21755 */display: inline-block !important;position: relative;}#sk-container-id-9 div.sk-text-repr-fallback {display: none;}</style><div id=\"sk-container-id-9\" class=\"sk-top-container\"><div class=\"sk-text-repr-fallback\"><pre>GradientBoostingClassifier(criterion=&#x27;squared_error&#x27;,\n",
       "                           learning_rate=0.023000000000000003, max_depth=450,\n",
       "                           max_features=&#x27;log2&#x27;, min_samples_leaf=2,\n",
       "                           min_samples_split=10, n_estimators=2000)</pre><b>In a Jupyter environment, please rerun this cell to show the HTML representation or trust the notebook. <br />On GitHub, the HTML representation is unable to render, please try loading this page with nbviewer.org.</b></div><div class=\"sk-container\" hidden><div class=\"sk-item\"><div class=\"sk-estimator sk-toggleable\"><input class=\"sk-toggleable__control sk-hidden--visually\" id=\"sk-estimator-id-67\" type=\"checkbox\" checked><label for=\"sk-estimator-id-67\" class=\"sk-toggleable__label sk-toggleable__label-arrow\">GradientBoostingClassifier</label><div class=\"sk-toggleable__content\"><pre>GradientBoostingClassifier(criterion=&#x27;squared_error&#x27;,\n",
       "                           learning_rate=0.023000000000000003, max_depth=450,\n",
       "                           max_features=&#x27;log2&#x27;, min_samples_leaf=2,\n",
       "                           min_samples_split=10, n_estimators=2000)</pre></div></div></div></div></div>"
      ],
      "text/plain": [
       "GradientBoostingClassifier(criterion='squared_error',\n",
       "                           learning_rate=0.023000000000000003, max_depth=450,\n",
       "                           max_features='log2', min_samples_leaf=2,\n",
       "                           min_samples_split=10, n_estimators=2000)"
      ]
     },
     "execution_count": 54,
     "metadata": {},
     "output_type": "execute_result"
    }
   ],
   "source": [
    "# Mengambil estimator terbaik\n",
    "randomcv_best = randomcv.best_estimator_\n",
    "randomcv_best"
   ]
  },
  {
   "cell_type": "code",
   "execution_count": 55,
   "metadata": {},
   "outputs": [
    {
     "name": "stdout",
     "output_type": "stream",
     "text": [
      "F1 Score - Test Set   :  0.5052631578947367 \n",
      "\n",
      "Classification Report : \n",
      "               precision    recall  f1-score   support\n",
      "\n",
      "           0       0.86      0.96      0.91       472\n",
      "           1       0.70      0.40      0.51       121\n",
      "\n",
      "    accuracy                           0.84       593\n",
      "   macro avg       0.78      0.68      0.71       593\n",
      "weighted avg       0.83      0.84      0.82       593\n",
      " \n",
      "\n",
      "Confusion Matrix      : \n",
      " <sklearn.metrics._plot.confusion_matrix.ConfusionMatrixDisplay object at 0x000002909AA5F700>\n"
     ]
    },
    {
     "data": {
      "image/png": "[encoded data removed]",
      "text/plain": [
       "<Figure size 640x480 with 2 Axes>"
      ]
     },
     "metadata": {},
     "output_type": "display_data"
    }
   ],
   "source": [
    "# Melihat peforma model yang sudah di tuning terhadap test-set\n",
    "y_pred_test = randomcv_best.predict(X_test)\n",
    "\n",
    "print('F1 Score - Test Set   : ', f1_score(y_test, y_pred_test), '\\n')\n",
    "print('Classification Report : \\n', classification_report(y_test, y_pred_test), '\\n')\n",
    "print('Confusion Matrix      : \\n', ConfusionMatrixDisplay.from_estimator(randomcv_best, X_test, y_test, cmap='Reds'))"
   ]
  },
  {
   "cell_type": "markdown",
   "metadata": {},
   "source": [
    "Metrik yang cocok digunakan adalah dengan melihat F1 scorenya. Kenapa? karena pada kasus default pada kartu kredit kita tidak bisa menuduh bahwa orang yang sebenarnya tidak default tapi diprediksi oleh model sebagai default. Sama juga kasusnya terhadap jika orang tersebut yang sebenarnya akan default tapi diprediksi tidak default oleh model. Misklasifikasi ini bisa menyebabkan kerugian pada perusahaan bank. jadi kalau pakai F1 score akan memberikan estimasi perkiraan yang lebih baik terhadap keseluruhan kasus misklasifikasi.\n",
    "\n",
    "Jika dibandingkan pada sebelum dituning tidak ada perbedaan yang signifikan pada classification report dan confusion matrixnya. Dapat dilihat bahwa model masih kesusahan dalam memprediksi False Negative (ditunjukkan dengan nilai recall rendah) dan nilai F1 score yang ikut rendah diakibatkan dari nilai recall yang rendah. "
   ]
  },
  {
   "cell_type": "markdown",
   "metadata": {},
   "source": [
    "# 10. Model Saving"
   ]
  },
  {
   "cell_type": "code",
   "execution_count": 56,
   "metadata": {},
   "outputs": [
    {
     "data": {
      "text/plain": [
       "['gradboost_model.pkl']"
      ]
     },
     "execution_count": 56,
     "metadata": {},
     "output_type": "execute_result"
    }
   ],
   "source": [
    "# Menggunakan joblib untuk mengexport model\n",
    "joblib.dump(randomcv_best, 'gradboost_model.pkl')"
   ]
  },
  {
   "cell_type": "markdown",
   "metadata": {},
   "source": [
    "# 11. Model Inference"
   ]
  },
  {
   "cell_type": "code",
   "execution_count": 57,
   "metadata": {},
   "outputs": [],
   "source": [
    "# Menggunakan joblib untuk meload model\n",
    "pipeline = joblib.load('gradboost_model.pkl')"
   ]
  },
  {
   "cell_type": "code",
   "execution_count": 58,
   "metadata": {},
   "outputs": [
    {
     "data": {
      "text/html": [
       "<div>\n",
       "<style scoped>\n",
       "    .dataframe tbody tr th:only-of-type {\n",
       "        vertical-align: middle;\n",
       "    }\n",
       "\n",
       "    .dataframe tbody tr th {\n",
       "        vertical-align: top;\n",
       "    }\n",
       "\n",
       "    .dataframe thead th {\n",
       "        text-align: right;\n",
       "    }\n",
       "</style>\n",
       "<table border=\"1\" class=\"dataframe\">\n",
       "  <thead>\n",
       "    <tr style=\"text-align: right;\">\n",
       "      <th></th>\n",
       "      <th>limit</th>\n",
       "      <th>sex</th>\n",
       "      <th>education</th>\n",
       "      <th>marriage</th>\n",
       "      <th>age</th>\n",
       "      <th>status_sept</th>\n",
       "      <th>status_aug</th>\n",
       "      <th>status_july</th>\n",
       "      <th>status_june</th>\n",
       "      <th>status_may</th>\n",
       "      <th>...</th>\n",
       "      <th>bill_july</th>\n",
       "      <th>bill_june</th>\n",
       "      <th>bill_may</th>\n",
       "      <th>bill_apr</th>\n",
       "      <th>pay_sept</th>\n",
       "      <th>pay_aug</th>\n",
       "      <th>pay_july</th>\n",
       "      <th>pay_june</th>\n",
       "      <th>pay_may</th>\n",
       "      <th>pay_apr</th>\n",
       "    </tr>\n",
       "  </thead>\n",
       "  <tbody>\n",
       "    <tr>\n",
       "      <th>0</th>\n",
       "      <td>140000</td>\n",
       "      <td>1</td>\n",
       "      <td>2</td>\n",
       "      <td>1</td>\n",
       "      <td>27</td>\n",
       "      <td>-1</td>\n",
       "      <td>1</td>\n",
       "      <td>-1</td>\n",
       "      <td>1</td>\n",
       "      <td>-1</td>\n",
       "      <td>...</td>\n",
       "      <td>3000</td>\n",
       "      <td>7210</td>\n",
       "      <td>15133</td>\n",
       "      <td>4660</td>\n",
       "      <td>4000</td>\n",
       "      <td>15128</td>\n",
       "      <td>20182</td>\n",
       "      <td>800</td>\n",
       "      <td>10419</td>\n",
       "      <td>2019</td>\n",
       "    </tr>\n",
       "  </tbody>\n",
       "</table>\n",
       "<p>1 rows × 23 columns</p>\n",
       "</div>"
      ],
      "text/plain": [
       "    limit  sex  education  marriage  age  status_sept  status_aug   \n",
       "0  140000    1          2         1   27           -1           1  \\\n",
       "\n",
       "   status_july  status_june  status_may  ...  bill_july  bill_june  bill_may   \n",
       "0           -1            1          -1  ...       3000       7210     15133  \\\n",
       "\n",
       "   bill_apr  pay_sept  pay_aug  pay_july  pay_june  pay_may  pay_apr  \n",
       "0      4660      4000    15128     20182       800    10419     2019  \n",
       "\n",
       "[1 rows x 23 columns]"
      ]
     },
     "execution_count": 58,
     "metadata": {},
     "output_type": "execute_result"
    }
   ],
   "source": [
    "# Membuat data inference baru\n",
    "data_inf = {\n",
    "    'limit': 140000,\n",
    "    'sex': 1,\n",
    "    'education': 2,\n",
    "    'marriage': 1,\n",
    "    'age': 27,\n",
    "    'status_sept': -1,\n",
    "    'status_aug': 1,\n",
    "    'status_july': -1,\n",
    "    'status_june': 1,\n",
    "    'status_may': -1,\n",
    "    'status_apr': 1,\n",
    "\n",
    "    'bill_sept': 81233,\n",
    "    'bill_aug': 3861,\n",
    "    'bill_july': 3000,\n",
    "    'bill_june': 7210,\n",
    "    'bill_may': 15133,\n",
    "    'bill_apr': 4660,\n",
    "    \n",
    "    'pay_sept': 4000,\n",
    "    'pay_aug': 15128,\n",
    "    'pay_july': 20182,\n",
    "    'pay_june': 800,\n",
    "    'pay_may': 10419,\n",
    "    'pay_apr': 2019,\n",
    "}\n",
    "\n",
    "# Mengubah dictionary ke dataframe\n",
    "data_inf = pd.DataFrame([data_inf])\n",
    "\n",
    "# Menampilkan dataframe baru\n",
    "data_inf"
   ]
  },
  {
   "cell_type": "code",
   "execution_count": 59,
   "metadata": {},
   "outputs": [
    {
     "name": "stdout",
     "output_type": "stream",
     "text": [
      "[0]\n"
     ]
    }
   ],
   "source": [
    "# Melakukan prediksi dengan model dari data baru\n",
    "prediksi = pipeline.predict(data_inf)\n",
    "print(prediksi)"
   ]
  },
  {
   "cell_type": "markdown",
   "metadata": {},
   "source": [
    "# 12. Conclusion"
   ]
  },
  {
   "cell_type": "markdown",
   "metadata": {},
   "source": [
    "Berdasarkan hasil evaluasi, saya menemukan bahwa model tersebut mendapatkan skor precision yang cukup tinggi untuk not defaultnya, artinya kemampuan model dalam mengklasifikasikan dengan benar orang yang tidak akan melakukan default. Namun, saya juga melihat bahwa model tersebut memiliki recall yang rendah untuk yang defaultnya, artinya model cenderung melewatkan beberapa kasus default yang sebenarnya.\n",
    "\n",
    "Hasil ini mengindikasikan bahwa model memiliki kemampuan dalam mengidentifikasi orang yang tidak berisiko default, tapi perlu ditingkatkan dalam mengenali dengan lebih akurat kasus-kasus default. Meskipun model memiliki tingkat akurasi yang baik secara keseluruhan, saya rasa kinerja model dalam mengklasifikasikan kasus default masih belum praktikal untuk digunakan dikehidupan nyata."
   ]
  },
  {
   "cell_type": "markdown",
   "metadata": {},
   "source": [
    "## Kelebihan dan Kekurangan Model\n",
    "\n",
    "Kelebihan:\n",
    "\n",
    "* precision untuk not default adalah 0.86, yang artinya model bisa memprediksi dengan akurat orang yang tidak akan default, akan menguntungkan perusahaan bank pemilik kartu kredit karena membantu mengidentifikasi orang yang memiliki kemungkinan kecil untuk default, sehingga perusahaan dapat menawarkan program atau hadiah tambahan kepada orang ini untuk mempertahankan mereka.\n",
    "\n",
    "* recall untuk not default adalah 0.95, yang artinya model bisa dengan baik mengklasifikasikan sebagian besar kasus orang yang tidak akan default. akan menguntungkan perusahaan bank pemilik kartu kredit dalam menghindari perlakuan secara tidak adil orang yang sebenarnya tidak akan default.\n",
    "\n",
    "Kekurangan:\n",
    "\n",
    "* precision untuk default adalah 0.68, yang terbilang rendah. Ini menunjukkan bahwa model cenderung memprediksi beberapa kasus sebagai default yang sebenarnya tidak akan melakukan default. bisa mengakibatkan pengurangan pendapatan bagi perusahaan jika tindakan pencegahan diambil untuk orang yang sebenarnya tidak berisiko default.\n",
    "\n",
    "* recall untuk default adalah 0.41, yang sangat rendah. Ini menunjukkan bahwa model cenderung melewatkan beberapa kasus default yang sebenarnya. Kekurangan ini dapat berpotensi mengakibatkan kerugian bagi perusahaan karena tidak dapat mengidentifikasi dengan tepat orang yang berisiko default.\n",
    "\n",
    "Jadi meskipun model memiliki tingkat akurasi yang cukup tinggi (0.84), tapi kalau ada kesalahan untuk prediksi default bisa berdampak pada pengambilan keputusan yang diterapkan. Oleh karena itu, sebaiknya kinerja model ditingkatkan dalam mengidentifikasi dengan akurat kasus default untuk mengurangi risiko terkait dengan default pada kartu kredit."
   ]
  },
  {
   "cell_type": "markdown",
   "metadata": {},
   "source": [
    "## Improvement?\n",
    "\n",
    "Hal yang bisa dilakukan untuk meningkatkan kinerja model saya rasa bukan pada model itu sendiri, namun berada pada datasetnya. Saya bisa mengolah data tersebut dengan melakukan oversampling atau undersampling untuk membuat datanya menjadi balance. Dan juga dalam pengumpulan datanya harus ada data yang lebih banyak lagi untuk membuat model menjadi lebih akurat dalam memprediksi."
   ]
  },
  {
   "cell_type": "markdown",
   "metadata": {},
   "source": [
    "## Conceptual Problem"
   ]
  },
  {
   "cell_type": "markdown",
   "metadata": {},
   "source": [
    "> Apa yang dimaksud **criterion?**\n",
    "\n",
    "Criterion pada Decision Tree adalah sebuah hyperparameter yang berfungsi untuk mengukur kualitas saat pembagian setiap node. Jadi criterion ini berfungsi untuk membantu model dalam menentukan fitur dan kalkulasi terbaik untuk bagaimana pembagian(split) datanya\n",
    "\n",
    "Pada model Decision Tree diatas, saya gak menentukan secara khusus untuk criterionnya, jadi model Decision Tree diatas menggunakan criterion default yang sudah ditentukan dari scikit-learnnya. yaitu **_gini._**\n",
    "\n",
    "Gini itu sendiri menghitung kemungkinan terjadinya misklasifikasi pada node. Gini menghitung value antara 0 dan 1, dimana 0 artinya group tersebut benar-benar \"pure\"(semua prediksi masuk ke kategori yang benar). sedangkan 1 artinya group yang diprediksi salah semua.\n",
    "Jadi semakin kecil nilai gini, akan semakin akurat prediksi yang dilakukan.\n"
   ]
  },
  {
   "cell_type": "markdown",
   "metadata": {},
   "source": [
    "> Apa yang dimaksud **pruning?**\n",
    "\n",
    "Pruning dalam tree based model, sesuai namanya pruning artinya memangkas atau penyederhanaan cabang-cabang agar tree yang dimiliki tidak terlalu kompleks, jadi fungsi pruning itu untuk meningkatkan kinerja model terhadap unseen data.\n",
    "\n",
    "Alasan melakukan pruning, adalah untuk mengurangi overfit, meningkatkan generalisasi dan membuat tree yang mudah dipahami dan juga dijelaskan. \n",
    "\n",
    "Pruning terbagi 2 yaitu Pre-Pruning dan Post-Pruning.\n",
    "**Pre-pruning** dilakukan sebelum pembuatan model yaitu untuk menghentikan pohon untuk tumbuh secara keseluruhan. Cara melakukan pre-pruning adalah dengan cara mengatur hyperparameter seperti `max_depth`, `min_samples_leaf`, dan `min_samples_split`. \n",
    "\n",
    "Kebalikan dari pre-pruning, pada **Post-Pruning** kita akan membiarkan terlebih dahulu model tree tumbuh secara keseluruhan, setelah itu baru dilakukan pemangkasan pada branch atau cabang-cabang yang ada untuk mencegah overfitting. hyperparameter yang bisa digunakan untuk melakukan post-pruning adalah `ccp_alpha` untuk mencari alpha dengan values terbaik yang menyebabkan best-fit pada model."
   ]
  },
  {
   "cell_type": "markdown",
   "metadata": {},
   "source": [
    "> Bagaimana cara memilih **K** pada **KNN**\n",
    "\n",
    "Tidak ada metode pre-defined untuk menentukan K, Jika value K kecil maka akan sensitif terhadap noise pada data, sedangkan nilai K yang besar akan memakan resource dan waktu komputasi yang besar.\n",
    "\n",
    "tapi beberapa metode yang saya temukan adalah dengan memilih nilai K secara random diantara angka 3-10 (sebaiknya menggunakan angka ganjil). \n",
    "\n",
    "Selain itu ada beberapa metode yang lebih kompleks yaitu square root method, dimana nilai K dihitung berdasarkan akar dari total sample di train-set.\n",
    "dan ada juga Cross-validation method atau elbow method, biasanya K akan dimulai dari 1 setelah itu akan dilakukan cross validation bisa 5 sampai 10 lipatan, dan setelah itu evaluasi akurasi dari tiap K sampai hasilnya menjadi konsisten. "
   ]
  },
  {
   "cell_type": "markdown",
   "metadata": {},
   "source": [
    "> Apa yang dimaksud **cross validation?**\n",
    "\n",
    "Cross-validation digunakan untuk memberikan estimasi yang lebih realistis pada peforma modelnya terhadap unseen data. Caranya adalah dengan membagi data menjadi beberapa lipatan atau subsets, dan menggunakan salah satu lipatan tersebut sebagai validasi terhadap lipatan lainnya. Setelah itu model akan ditrain terhadap seluruh lipatan yang ada. Proses akan dilakukan berulang-ulang dengan menggunakan lipatan yang berbeda pada setiap validation setnya. Terakhir hasil dari keseluruhan perulangan yang dilakukan akan dirata-rata untuk menunjukkan skor peforma model. \n",
    "\n",
    "Beberapa tipe cross-validation adalah K-fold-cross-validation, leave-one-out-cross-validation dan stratified-cross-validation."
   ]
  },
  {
   "cell_type": "markdown",
   "metadata": {},
   "source": [
    "> Apa yang dimaksud **Accuracy, Precision, Recall, F1 Score?**\n",
    "\n",
    "* **Accuracy** menunjukkan rasio prediksi benar dengan keseluruhan data. Accuracy digunakan ketika target yang ada pada dataset mempunyai distribusi yang normal / setara dan Accuracy akan memberikan hasil yang tidak akurat ketika data yang dimiliki termasuk imbalance\n",
    "\n",
    "* **Precision** menunjukkan perbandingan antara True positive dibandingkan dengan banyaknya data yang diprediksi positive. Precision digunakan ketika kita ingin fokus dalam mengurangi jumlah hasil false positive \n",
    "\n",
    "* **Recall** menunjukkan perbandingan antara True Positive dibandingkan dengan banyaknya data yang sebenarnya positive. Recall digunakan ketika kita ingin fokus dalam mengurangi hasil false negative \n",
    "\n",
    "* **F1 Score** adalah \"Harmonic Mean\" dari precision dan recall, atau bisa dibilang F1 adalah metrik yang berada di titik tengah antara precision dan recall. F1 Score digunakan ketika target memiliki data yang imbalance F1 score bisa memberikan hasil yang lebih realistis terhadap peforma keseluruhan model dibandingkan metriks Accuracy.\n"
   ]
  }
 ],
 "metadata": {
  "kernelspec": {
   "display_name": "base",
   "language": "python",
   "name": "python3"
  },
  "language_info": {
   "codemirror_mode": {
    "name": "ipython",
    "version": 3
   },
   "file_extension": ".py",
   "mimetype": "text/x-python",
   "name": "python",
   "nbconvert_exporter": "python",
   "pygments_lexer": "ipython3",
   "version": "3.10.10"
  },
  "orig_nbformat": 4
 },
 "nbformat": 4,
 "nbformat_minor": 2
}
